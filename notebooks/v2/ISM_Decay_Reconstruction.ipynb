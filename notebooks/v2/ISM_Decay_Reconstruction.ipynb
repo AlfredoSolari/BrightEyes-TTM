{
 "cells": [
  {
   "cell_type": "markdown",
   "metadata": {},
   "source": [
    "# ISM reconstruction from BrightEyes-TTM time-tag data\n",
    "\n",
    "In this notebooks I outline how you can use *MIPLIB* library functions to reconstruct 4D array detector data (*xytc*)."
   ]
  },
  {
   "cell_type": "code",
   "execution_count": null,
   "metadata": {},
   "outputs": [],
   "source": []
  },
  {
   "cell_type": "code",
   "execution_count": 1,
   "metadata": {
    "tags": []
   },
   "outputs": [
    {
     "name": "stdout",
     "output_type": "stream",
     "text": [
      "Populating the interactive namespace from numpy and matplotlib\n"
     ]
    }
   ],
   "source": [
    "%pylab inline\n",
    "\n",
    "import h5py\n",
    "import os\n",
    "import numpy as np\n",
    "import time\n",
    "import signal\n",
    "import sys\n",
    "import tqdm  #This package is usefull for have nice progress bar\n",
    "from scipy.optimize import curve_fit\n",
    "\n",
    "import datetime\n",
    "import matplotlib.gridspec as gridspec\n",
    "import subprocess\n",
    "import pandas as pd\n",
    "import numpy as np\n",
    "from matplotlib.colors import LogNorm\n",
    "from matplotlib import pyplot as plt\n",
    "\n",
    "\n",
    "\n",
    "from miplib.ui.plots import image as implots\n",
    "from miplib.data.adapters import array_detector_data as adapters\n",
    "#from miplib.data.containers.array_detector_data import ArrayDetectorData\n",
    "\n",
    "import miplib.ui.cli.miplib_entry_point_options as options\n",
    "import miplib.processing.ism.reconstruction as ismrec\n",
    "import miplib.processing.ism.helpers as ismhelps\n",
    "from miplib.ui.plots import scatter\n",
    "from miplib.processing import itk as itkutils"
   ]
  },
  {
   "cell_type": "markdown",
   "metadata": {},
   "source": [
    "# 4D file selection\n",
    "Load .h5 file, with the 4D data x-y-t-ch for ISM analysis"
   ]
  },
  {
   "cell_type": "code",
   "execution_count": 2,
   "metadata": {
    "tags": []
   },
   "outputs": [],
   "source": [
    "filename = \"/YOURPATH/13_MEGA_512x512_200us_120FOV.h5\""
   ]
  },
  {
   "cell_type": "markdown",
   "metadata": {},
   "source": [
    "# Imported Data Settings"
   ]
  },
  {
   "cell_type": "code",
   "execution_count": 3,
   "metadata": {},
   "outputs": [],
   "source": [
    "# Phasor Plot - specify the harmonic to work with\n",
    "h=1                     # Harmonic definition (in this case 1st harmonics calculation)\n",
    "pixel_dwell_time = 200  # pixel dwell time in microsceconds\n",
    "remove_border_px = 6    # during the phasor calculation exclude the external border of the image (to remove it set to 0)\n",
    "central_channel = 12    # "
   ]
  },
  {
   "cell_type": "code",
   "execution_count": 4,
   "metadata": {},
   "outputs": [
    {
     "ename": "OSError",
     "evalue": "Unable to open file (unable to open file: name = '/YOURPATH/13_MEGA_512x512_200us_120FOV.h5', errno = 2, error message = 'No such file or directory', flags = 1, o_flags = 2)",
     "output_type": "error",
     "traceback": [
      "\u001b[0;31m---------------------------------------------------------------------------\u001b[0m",
      "\u001b[0;31mOSError\u001b[0m                                   Traceback (most recent call last)",
      "\u001b[0;32m/tmp/ipykernel_2727336/3010484016.py\u001b[0m in \u001b[0;36m<cell line: 2>\u001b[0;34m()\u001b[0m\n\u001b[1;32m      1\u001b[0m \u001b[0mdata_filename\u001b[0m\u001b[0;34m=\u001b[0m\u001b[0mos\u001b[0m\u001b[0;34m.\u001b[0m\u001b[0mpath\u001b[0m\u001b[0;34m.\u001b[0m\u001b[0mbasename\u001b[0m\u001b[0;34m(\u001b[0m\u001b[0mfilename\u001b[0m\u001b[0;34m)\u001b[0m\u001b[0;34m.\u001b[0m\u001b[0mreplace\u001b[0m\u001b[0;34m(\u001b[0m\u001b[0;34m\".h5\"\u001b[0m\u001b[0;34m,\u001b[0m\u001b[0;34m\"\"\u001b[0m\u001b[0;34m)\u001b[0m\u001b[0;34m\u001b[0m\u001b[0;34m\u001b[0m\u001b[0m\n\u001b[0;32m----> 2\u001b[0;31m \u001b[0mdata\u001b[0m \u001b[0;34m=\u001b[0m \u001b[0mh5py\u001b[0m\u001b[0;34m.\u001b[0m\u001b[0mFile\u001b[0m\u001b[0;34m(\u001b[0m\u001b[0mfilename\u001b[0m\u001b[0;34m,\u001b[0m \u001b[0;34m'r+'\u001b[0m\u001b[0;34m)\u001b[0m\u001b[0;34m\u001b[0m\u001b[0;34m\u001b[0m\u001b[0m\n\u001b[0m",
      "\u001b[0;32m~/.local/lib/python3.8/site-packages/h5py/_hl/files.py\u001b[0m in \u001b[0;36m__init__\u001b[0;34m(self, name, mode, driver, libver, userblock_size, swmr, rdcc_nslots, rdcc_nbytes, rdcc_w0, track_order, fs_strategy, fs_persist, fs_threshold, **kwds)\u001b[0m\n\u001b[1;32m    422\u001b[0m             \u001b[0;32mwith\u001b[0m \u001b[0mphil\u001b[0m\u001b[0;34m:\u001b[0m\u001b[0;34m\u001b[0m\u001b[0;34m\u001b[0m\u001b[0m\n\u001b[1;32m    423\u001b[0m                 \u001b[0mfapl\u001b[0m \u001b[0;34m=\u001b[0m \u001b[0mmake_fapl\u001b[0m\u001b[0;34m(\u001b[0m\u001b[0mdriver\u001b[0m\u001b[0;34m,\u001b[0m \u001b[0mlibver\u001b[0m\u001b[0;34m,\u001b[0m \u001b[0mrdcc_nslots\u001b[0m\u001b[0;34m,\u001b[0m \u001b[0mrdcc_nbytes\u001b[0m\u001b[0;34m,\u001b[0m \u001b[0mrdcc_w0\u001b[0m\u001b[0;34m,\u001b[0m \u001b[0;34m**\u001b[0m\u001b[0mkwds\u001b[0m\u001b[0;34m)\u001b[0m\u001b[0;34m\u001b[0m\u001b[0;34m\u001b[0m\u001b[0m\n\u001b[0;32m--> 424\u001b[0;31m                 fid = make_fid(name, mode, userblock_size,\n\u001b[0m\u001b[1;32m    425\u001b[0m                                fapl, fcpl=make_fcpl(track_order=track_order, fs_strategy=fs_strategy,\n\u001b[1;32m    426\u001b[0m                                fs_persist=fs_persist, fs_threshold=fs_threshold),\n",
      "\u001b[0;32m~/.local/lib/python3.8/site-packages/h5py/_hl/files.py\u001b[0m in \u001b[0;36mmake_fid\u001b[0;34m(name, mode, userblock_size, fapl, fcpl, swmr)\u001b[0m\n\u001b[1;32m    190\u001b[0m         \u001b[0mfid\u001b[0m \u001b[0;34m=\u001b[0m \u001b[0mh5f\u001b[0m\u001b[0;34m.\u001b[0m\u001b[0mopen\u001b[0m\u001b[0;34m(\u001b[0m\u001b[0mname\u001b[0m\u001b[0;34m,\u001b[0m \u001b[0mflags\u001b[0m\u001b[0;34m,\u001b[0m \u001b[0mfapl\u001b[0m\u001b[0;34m=\u001b[0m\u001b[0mfapl\u001b[0m\u001b[0;34m)\u001b[0m\u001b[0;34m\u001b[0m\u001b[0;34m\u001b[0m\u001b[0m\n\u001b[1;32m    191\u001b[0m     \u001b[0;32melif\u001b[0m \u001b[0mmode\u001b[0m \u001b[0;34m==\u001b[0m \u001b[0;34m'r+'\u001b[0m\u001b[0;34m:\u001b[0m\u001b[0;34m\u001b[0m\u001b[0;34m\u001b[0m\u001b[0m\n\u001b[0;32m--> 192\u001b[0;31m         \u001b[0mfid\u001b[0m \u001b[0;34m=\u001b[0m \u001b[0mh5f\u001b[0m\u001b[0;34m.\u001b[0m\u001b[0mopen\u001b[0m\u001b[0;34m(\u001b[0m\u001b[0mname\u001b[0m\u001b[0;34m,\u001b[0m \u001b[0mh5f\u001b[0m\u001b[0;34m.\u001b[0m\u001b[0mACC_RDWR\u001b[0m\u001b[0;34m,\u001b[0m \u001b[0mfapl\u001b[0m\u001b[0;34m=\u001b[0m\u001b[0mfapl\u001b[0m\u001b[0;34m)\u001b[0m\u001b[0;34m\u001b[0m\u001b[0;34m\u001b[0m\u001b[0m\n\u001b[0m\u001b[1;32m    193\u001b[0m     \u001b[0;32melif\u001b[0m \u001b[0mmode\u001b[0m \u001b[0;32min\u001b[0m \u001b[0;34m[\u001b[0m\u001b[0;34m'w-'\u001b[0m\u001b[0;34m,\u001b[0m \u001b[0;34m'x'\u001b[0m\u001b[0;34m]\u001b[0m\u001b[0;34m:\u001b[0m\u001b[0;34m\u001b[0m\u001b[0;34m\u001b[0m\u001b[0m\n\u001b[1;32m    194\u001b[0m         \u001b[0mfid\u001b[0m \u001b[0;34m=\u001b[0m \u001b[0mh5f\u001b[0m\u001b[0;34m.\u001b[0m\u001b[0mcreate\u001b[0m\u001b[0;34m(\u001b[0m\u001b[0mname\u001b[0m\u001b[0;34m,\u001b[0m \u001b[0mh5f\u001b[0m\u001b[0;34m.\u001b[0m\u001b[0mACC_EXCL\u001b[0m\u001b[0;34m,\u001b[0m \u001b[0mfapl\u001b[0m\u001b[0;34m=\u001b[0m\u001b[0mfapl\u001b[0m\u001b[0;34m,\u001b[0m \u001b[0mfcpl\u001b[0m\u001b[0;34m=\u001b[0m\u001b[0mfcpl\u001b[0m\u001b[0;34m)\u001b[0m\u001b[0;34m\u001b[0m\u001b[0;34m\u001b[0m\u001b[0m\n",
      "\u001b[0;32mh5py/_objects.pyx\u001b[0m in \u001b[0;36mh5py._objects.with_phil.wrapper\u001b[0;34m()\u001b[0m\n",
      "\u001b[0;32mh5py/_objects.pyx\u001b[0m in \u001b[0;36mh5py._objects.with_phil.wrapper\u001b[0;34m()\u001b[0m\n",
      "\u001b[0;32mh5py/h5f.pyx\u001b[0m in \u001b[0;36mh5py.h5f.open\u001b[0;34m()\u001b[0m\n",
      "\u001b[0;31mOSError\u001b[0m: Unable to open file (unable to open file: name = '/YOURPATH/13_MEGA_512x512_200us_120FOV.h5', errno = 2, error message = 'No such file or directory', flags = 1, o_flags = 2)"
     ]
    }
   ],
   "source": [
    "data_filename=os.path.basename(filename).replace(\".h5\",\"\")\n",
    "data = h5py.File(filename, 'r+')"
   ]
  },
  {
   "cell_type": "markdown",
   "metadata": {},
   "source": [
    "Re-arranging the dataset"
   ]
  },
  {
   "cell_type": "code",
   "execution_count": null,
   "metadata": {},
   "outputs": [],
   "source": [
    "try:\n",
    "    dataset = data['dataset_1']\n",
    "except:\n",
    "    dataset = data['image_4d']\n",
    "pixel_number = dataset.shape[0]     # number of pixels in the image\n",
    "nbins = dataset.shape[2]            # number of bins in the TCSPC histogram\n",
    "CHANNELS = dataset.shape[3]            # number of bins in the TCSPC histogram\n",
    "\n",
    "spacing = (1, CHANNELS/pixel_number, CHANNELS/pixel_number)\n",
    "dataset.attrs[\"spacing\"] = spacing\n",
    "dataset.shape\n"
   ]
  },
  {
   "cell_type": "code",
   "execution_count": null,
   "metadata": {},
   "outputs": [],
   "source": [
    "dataset[-1,-1,:,:]=0 # I REMOVE THE LAST PIXEL BECAUSE IN THIS PARTICULAR DATASET THE LAST PIXEL WAS ILLUMINATED MUCH LONGER THAN THE OTHERS"
   ]
  },
  {
   "cell_type": "code",
   "execution_count": null,
   "metadata": {
    "scrolled": true
   },
   "outputs": [],
   "source": [
    "# Central element Phasor plot RAW Dataset\n",
    "central_element_raw = dataset[:,:,:,central_channel] #12 identify the central element of the array\n",
    "central_element_raw_image = np.sum(central_element_raw, axis=2)\n",
    "\n",
    "\n",
    "p=linspace(0,nbins-1,nbins)\n",
    "cosine=np.cos(2*np.pi*p*h/nbins)\n",
    "sine=np.sin(2*np.pi*p*h/nbins)\n",
    "\n",
    "cosine_matrix = np.tile(cosine,(pixel_number,pixel_number,1))\n",
    "sine_matrix = np.tile(sine,(pixel_number,pixel_number,1))\n",
    "\n",
    "\n",
    "A=central_element_raw*cosine_matrix\n",
    "g_central_element_raw=np.sum(A, axis=2)\n",
    "\n",
    "B=central_element_raw*sine_matrix\n",
    "s_central_element_raw=np.sum(B, axis=2)"
   ]
  },
  {
   "cell_type": "code",
   "execution_count": null,
   "metadata": {},
   "outputs": [],
   "source": [
    "#Plotting central element image\n",
    "fig= plt.figure(figsize=(12,12))\n",
    "plt.imshow(central_element_raw_image, cmap='hot')\n",
    "fig=plt.gcf()\n",
    "tight_layout()\n",
    "\n",
    "cbar=plt.colorbar()\n",
    "cbar.ax.set_ylabel('Intensity (photons/'+str(pixel_dwell_time)+' us)')\n",
    "plt.title('Confocal - Central element \\n Peak PCR = '+str(central_element_raw_image[0:pixel_number,0:pixel_number].max()/pixel_dwell_time)+' MHz')\n",
    "plt.xlabel('Pixels')\n",
    "plt.ylabel('Pixels')\n",
    "\n",
    "#Uncomment for saving the image as vector file\n",
    "# plt.rcParams['svg.fonttype'] = 'none'\n",
    "# fig.savefig(\"Central_Element_\"+data_filename+\".svg\", transparent=True, format='svg', dpi=1200)\n",
    "# fig.savefig(\"Central_Element_\"+data_filename+\".eps\", transparent=True, format='eps', dpi=1200)\n"
   ]
  },
  {
   "cell_type": "code",
   "execution_count": null,
   "metadata": {},
   "outputs": [],
   "source": [
    "#Plotting central element image\n",
    "fig= plt.figure(figsize=(12,12))\n",
    "plt.imshow(central_element_raw_image[remove_border_px:pixel_number-remove_border_px,remove_border_px:pixel_number-remove_border_px], cmap='hot')\n",
    "fig=plt.gcf()\n",
    "tight_layout()\n",
    "\n",
    "cbar=plt.colorbar()\n",
    "cbar.ax.set_ylabel('Intensity (photons/'+str(pixel_dwell_time)+' us)')\n",
    "plt.title('Confocal - Central element \\n Peak PCR = '+str(central_element_raw_image[0:pixel_number,0:pixel_number].max()/pixel_dwell_time)+' MHz')\n",
    "plt.xlabel('Pixels')\n",
    "plt.ylabel('Pixels')\n",
    "\n",
    "#Uncomment for saving the image as vector file\n",
    "# plt.rcParams['svg.fonttype'] = 'none'\n",
    "# fig.savefig(\"Central_Element_\"+data_filename+\".svg\", transparent=True, format='svg', dpi=1200)\n",
    "\n",
    "# fig.savefig(\"Central_Element_\"+data_filename+\".eps\", transparent=True, format='eps', dpi=1200)"
   ]
  },
  {
   "cell_type": "code",
   "execution_count": null,
   "metadata": {},
   "outputs": [],
   "source": [
    "# Computing the g & s vector for pixel having >5% and >10% of max intensity respectively\n",
    "\n",
    "threshold_1 = 10 #plotting pixels with intensity >10% of the max\n",
    "threshold_2 = 5 #plotting pixels with intensity >5% of the max\n",
    "\n",
    "g_central_element_raw_final = g_central_element_raw[remove_border_px:pixel_number-remove_border_px,remove_border_px:pixel_number-remove_border_px]/central_element_raw_image[remove_border_px:pixel_number-remove_border_px,remove_border_px:pixel_number-remove_border_px]\n",
    "s_central_element_raw_final = s_central_element_raw[remove_border_px:pixel_number-remove_border_px,remove_border_px:pixel_number-remove_border_px]/central_element_raw_image[remove_border_px:pixel_number-remove_border_px,remove_border_px:pixel_number-remove_border_px]\n",
    "\n",
    "# Specify a threshold for the minimum amout of photons per pixel to analyze\n",
    "\n",
    "central_threshold_10percent =floor(threshold_1*(central_element_raw_image[remove_border_px:pixel_number-remove_border_px,remove_border_px:pixel_number-remove_border_px].max()/100))\n",
    "central_threshold_5percent = floor(threshold_2*(central_element_raw_image[remove_border_px:pixel_number-remove_border_px,remove_border_px:pixel_number-remove_border_px].max()/100)                                  )\n",
    "\n",
    "central_10percent=central_element_raw_image[remove_border_px:pixel_number-remove_border_px,remove_border_px:pixel_number-remove_border_px]>central_threshold_10percent\n",
    "central_5percent=central_element_raw_image[remove_border_px:pixel_number-remove_border_px,remove_border_px:pixel_number-remove_border_px]>central_threshold_5percent\n",
    "\n",
    "s_final_10percent = s_central_element_raw_final*central_10percent\n",
    "g_final_10percent = g_central_element_raw_final*central_10percent\n",
    "\n",
    "s_final_5percent = s_central_element_raw_final*central_5percent\n",
    "g_final_5percent = g_central_element_raw_final*central_5percent\n",
    "\n",
    "g_where_are_NaNs_10percent = np.isnan(g_final_10percent)\n",
    "s_where_are_NaNs_10percent = np.isnan(s_final_10percent)\n",
    "\n",
    "g_where_are_NaNs_5percent = np.isnan(g_final_5percent)\n",
    "s_where_are_NaNs_5percent = np.isnan(s_final_5percent)\n",
    "\n",
    "g_final_nan_10percent=g_final_10percent[g_where_are_NaNs_10percent==False]\n",
    "s_final_nan_10percent=s_final_10percent[s_where_are_NaNs_10percent==False]\n",
    "\n",
    "g_final_nan_5percent=g_final_5percent[g_where_are_NaNs_5percent==False]\n",
    "s_final_nan_5percent=s_final_5percent[s_where_are_NaNs_5percent==False]"
   ]
  },
  {
   "cell_type": "code",
   "execution_count": null,
   "metadata": {},
   "outputs": [],
   "source": [
    "fig= plt.figure(figsize=(12,8))\n",
    "plt.scatter(g_final_nan_5percent[g_final_nan_5percent>0], s_final_nan_5percent[g_final_nan_5percent>0],c='gainsboro',alpha=1,rasterized=True)\n",
    "plt.hist2d(g_final_nan_10percent[g_final_nan_10percent>0], s_final_nan_10percent[g_final_nan_10percent>0], bins=50, cmap = 'jet',norm=LogNorm())\n",
    "\n",
    "cbar=plt.colorbar()\n",
    "cbar.ax.set_ylabel('Pixels')\n",
    "plt.title('Harmonic = '+str(h)+'\\n Phasor Plot \\n Confocal - Central element')\n",
    "plt.xlabel('$g$')\n",
    "plt.ylabel('$s$\\n')\n",
    "xx=np.linspace(-2,2,400)\n",
    "yy=np.linspace(-2,2,400)\n",
    "[X,Y]=np.meshgrid(xx,yy)\n",
    "\n",
    "plt.xlim((0,1.2))   # set the xlim to left, right\n",
    "plt.ylim((-1, 1))     # set the xlim to left, right\n",
    "\n",
    "Z=X**2-X+Y**2\n",
    "plt.contour(X,Y,Z,[0],colors='b')\n",
    "\n",
    "fig=plt.gcf()\n",
    "tight_layout()\n",
    "\n",
    "#Uncomment for saving the image as vector file\n",
    "# plt.rcParams['svg.fonttype'] = 'none'\n",
    "# fig.savefig(\"Central_Element_PhasorPlot\"+data_filename+\".svg\", transparent=True, format='svg', dpi=1200)\n",
    "#fig.savefig(\"Central_Element_PhasorPlot\"+data_filename+\".eps\", transparent=True, format='eps', dpi=1200)\n"
   ]
  },
  {
   "cell_type": "code",
   "execution_count": null,
   "metadata": {},
   "outputs": [],
   "source": [
    "all_elements_raw = np.sum(dataset, axis=3)\n",
    "all_elements_raw_image = np.sum(all_elements_raw, axis=2)\n",
    "fig= plt.figure(figsize=(12,12))\n",
    "plt.imshow(all_elements_raw_image, cmap='hot')\n",
    "fig=plt.gcf()\n",
    "tight_layout()\n",
    "\n",
    "cbar=plt.colorbar()\n",
    "cbar.ax.set_ylabel('Intensity (photons/'+str(pixel_dwell_time)+' us)')\n",
    "plt.title('Open pinhole \\n Peak PCR = '+str(all_elements_raw_image[0:pixel_number,0:pixel_number].max()/pixel_dwell_time)+' MHz')\n",
    "plt.xlabel('Pixels')\n",
    "plt.ylabel('Pixels')\n",
    "\n",
    "# Uncomment to save images in vector format\n",
    "# plt.rcParams['svg.fonttype'] = 'none'\n",
    "# fig.savefig(\"SUM_\"+data_filename+\".svg\", transparent=True, format='svg', dpi=1200)\n",
    "# fig.savefig(\"SUM_\"+data_filename+\".eps\", transparent=True, format='eps', dpi=1200)"
   ]
  },
  {
   "cell_type": "code",
   "execution_count": null,
   "metadata": {},
   "outputs": [],
   "source": [
    "# All elements Phasor plot RAW Dataset\n",
    "all_elements_raw = np.sum(dataset, axis=3)\n",
    "all_elements_raw_image = np.sum(all_elements_raw, axis=2)\n",
    "\n",
    "\n",
    "g_all_elements_raw=np.zeros((pixel_number,pixel_number))\n",
    "s_all_elements_raw=np.zeros((pixel_number,pixel_number))\n",
    "\n",
    "A=all_elements_raw*cosine_matrix\n",
    "g_all_elements_raw=np.sum(A, axis=2)\n",
    "\n",
    "B=all_elements_raw*sine_matrix\n",
    "s_all_elements_raw=np.sum(B, axis=2)"
   ]
  },
  {
   "cell_type": "code",
   "execution_count": null,
   "metadata": {},
   "outputs": [],
   "source": [
    "# Computing the g & s vector for pixel having >5% and >10% of max intensity respectively\n",
    "\n",
    "threshold_1 = 10 #plotting pixels with intensity >10% of the max\n",
    "threshold_2 = 5 #plotting pixels with intensity >5% of the max\n",
    "\n",
    "\n",
    "g_all_elements_raw_final = g_all_elements_raw[remove_border_px:pixel_number-remove_border_px,remove_border_px:pixel_number-remove_border_px]/all_elements_raw_image[remove_border_px:pixel_number-remove_border_px,remove_border_px:pixel_number-remove_border_px]\n",
    "s_all_elements_raw_final = s_all_elements_raw[remove_border_px:pixel_number-remove_border_px,remove_border_px:pixel_number-remove_border_px]/all_elements_raw_image[remove_border_px:pixel_number-remove_border_px,remove_border_px:pixel_number-remove_border_px]\n",
    "\n",
    "# Specify a threshold for the minimum amout of photons per pixel to analyze\n",
    "\n",
    "sum_threshold_10percent = floor(threshold_1*(all_elements_raw_image[remove_border_px:pixel_number-remove_border_px,remove_border_px:pixel_number-remove_border_px].max()/100))\n",
    "sum_threshold_5percent = floor(threshold_2*(all_elements_raw_image[remove_border_px:pixel_number-remove_border_px,remove_border_px:pixel_number-remove_border_px].max()/100))\n",
    "\n",
    "sum_10percent=all_elements_raw_image[remove_border_px:pixel_number-remove_border_px,remove_border_px:pixel_number-remove_border_px]>sum_threshold_10percent\n",
    "sum_5percent=all_elements_raw_image[remove_border_px:pixel_number-remove_border_px,remove_border_px:pixel_number-remove_border_px]>sum_threshold_5percent\n",
    "\n",
    "s_final_10percent = s_all_elements_raw_final*sum_10percent\n",
    "g_final_10percent = g_all_elements_raw_final*sum_10percent\n",
    "\n",
    "s_final_5percent = s_all_elements_raw_final*sum_5percent\n",
    "g_final_5percent = g_all_elements_raw_final*sum_5percent\n",
    "\n",
    "g_where_are_NaNs_10percent = np.isnan(g_final_10percent)\n",
    "s_where_are_NaNs_10percent = np.isnan(s_final_10percent)\n",
    "\n",
    "g_where_are_NaNs_5percent = np.isnan(g_final_5percent)\n",
    "s_where_are_NaNs_5percent = np.isnan(s_final_5percent)\n",
    "\n",
    "g_final_nan_10percent=g_final_10percent[g_where_are_NaNs_10percent==False]\n",
    "s_final_nan_10percent=s_final_10percent[s_where_are_NaNs_10percent==False]\n",
    "\n",
    "g_final_nan_5percent=g_final_5percent[g_where_are_NaNs_5percent==False]\n",
    "s_final_nan_5percent=s_final_5percent[s_where_are_NaNs_5percent==False]"
   ]
  },
  {
   "cell_type": "code",
   "execution_count": null,
   "metadata": {},
   "outputs": [],
   "source": [
    "fig= plt.figure(figsize=(12,8))\n",
    "plt.scatter(g_final_nan_5percent[g_final_nan_5percent>0], s_final_nan_5percent[g_final_nan_5percent>0],c='gainsboro',alpha=1,rasterized=True)\n",
    "plt.hist2d(g_final_nan_10percent[g_final_nan_10percent>0], s_final_nan_10percent[g_final_nan_10percent>0], bins=50, cmap = 'jet',norm=LogNorm())\n",
    "cbar=plt.colorbar()\n",
    "cbar.ax.set_ylabel('Pixels')\n",
    "plt.title('Harmonic = '+str(h)+'\\n Phasor Plot \\n Open Pinhole')\n",
    "plt.xlabel('$g$')\n",
    "plt.ylabel('$s$\\n')\n",
    "xx=np.linspace(-2,2,400)\n",
    "yy=np.linspace(-2,2,400)\n",
    "[X,Y]=np.meshgrid(xx,yy)\n",
    "\n",
    "plt.xlim((0,1.2))   # set the xlim to left, right\n",
    "plt.ylim((-1, 1))     # set the xlim to left, right\n",
    "\n",
    "Z=X**2-X+Y**2\n",
    "plt.contour(X,Y,Z,[0],colors='b')\n",
    "\n",
    "fig=plt.gcf()\n",
    "tight_layout()\n",
    "\n",
    "# plt.rcParams['svg.fonttype'] = 'none'\n",
    "# fig.savefig(\"SUM_PhasorPlot_\"+data_filename+\".svg\", transparent=True, format='svg', dpi=1200)\n",
    "#fig.savefig(\"SUM_PhasorPlot_\"+data_filename+\".eps\", transparent=True, format='eps', dpi=1200)"
   ]
  },
  {
   "cell_type": "markdown",
   "metadata": {},
   "source": [
    "For reconstruction purposes it makes more sense to reorder the axes a little bit."
   ]
  },
  {
   "cell_type": "code",
   "execution_count": null,
   "metadata": {},
   "outputs": [],
   "source": [
    "data = np.moveaxis(dataset, (0, 1, 2, 3), (2, 3, 1, 0))\n",
    "data.shape"
   ]
  },
  {
   "cell_type": "markdown",
   "metadata": {},
   "source": [
    "## Calculating the ISM shift vectors\n",
    "\n",
    "*MIPLIB* uses an internal data structure called *ArrayDetectorData* to contain ISM data and results. Here instead of doing a real conversion, I just wrap an array into an adapter, that makes the data act like an *ArrayDetectorData* object. In order to have the data in a correct shape, I sum over the time bins, and add a new empty axis for a photosensor. We use the photosensor in the *traditional* ISM to split a pixel dwell time into several pieces. It of course has no other purpose in here than having the data in a shape that is compatible with the library functions.  "
   ]
  },
  {
   "cell_type": "code",
   "execution_count": null,
   "metadata": {},
   "outputs": [],
   "source": [
    "ad_data_2D = adapters.ArrayAdapter(np.expand_dims(np.sum(data, axis=1), axis=0), \n",
    "                                   dataset.attrs[\"spacing\"][1:])"
   ]
  },
  {
   "cell_type": "markdown",
   "metadata": {},
   "source": [
    "Then it's time to run the registration. There are several parameters that you can tune, but the defaults should be fine in 99.9% of cases. Please adjust the *fixed_idx* to match the index of the central detector. It's normally 12, but 10 here, because the corner pixels are missing. Actually the registration will in principle work with any of the images as reference, but probably not very robustly."
   ]
  },
  {
   "cell_type": "code",
   "execution_count": null,
   "metadata": {},
   "outputs": [],
   "source": [
    "args = (\"{} all --sampling-percentage=1 --reg-relax-factor=.7 --learning-rate=.7 --min-step=0.001 \"         \n",
    "        \"--reg-max-iterations=300 --reg-method=correlation --reg-translate-only \".format(os.getcwd())).split()\n",
    "\n",
    "params = options.get_ism_script_options(args)\n",
    "\n",
    "offsets, transforms_2D = ismrec.find_image_shifts(ad_data_2D, params, fixed_idx=10)"
   ]
  },
  {
   "cell_type": "markdown",
   "metadata": {},
   "source": [
    "Below I plot the detected xy offsets. The detector seems to be somewhat misaligned. In any case the ISM should work just fine, as there are clear offsets between the channels."
   ]
  },
  {
   "cell_type": "code",
   "execution_count": null,
   "metadata": {},
   "outputs": [],
   "source": [
    "ys = np.transpose(offsets)[0]\n",
    "xs = np.transpose(offsets)[1]\n",
    "\n",
    "plt.title('Shift vectors')\n",
    "plt.scatter(xs,ys)"
   ]
  },
  {
   "cell_type": "markdown",
   "metadata": {},
   "source": [
    "Just to take a closer look at the alignment situation, below you can see the fingerprint image. Indeed it seems that the PSF is not really in the center of the detector, but rather close to the bottom."
   ]
  },
  {
   "cell_type": "code",
   "execution_count": null,
   "metadata": {},
   "outputs": [],
   "source": [
    "fingerprint = np.sum(data, axis=(1,2,3))\n",
    "implots.display_2d_image(fingerprint.reshape(5,5))"
   ]
  },
  {
   "cell_type": "markdown",
   "metadata": {},
   "source": [
    "## ISM pixel reassignment\n",
    "\n",
    "Now that we have the 2D offsets, we can calculate the ISM results. First I will start with the 2D (time-projected) dataset that was used above, just to make sure that everything works properly. *The result_sum* is in practice the regular confocal with a pinhole matching the detector FOV, and *result_ism* is the reassignment result. Nothing extraordinary here, but the reassignment does increase the image quality clearly. "
   ]
  },
  {
   "cell_type": "code",
   "execution_count": null,
   "metadata": {},
   "outputs": [],
   "source": [
    "result_ism = ismrec.shift_and_sum(ad_data_2D, transforms_2D)\n",
    "result_sum = ismrec.sum(ad_data_2D)"
   ]
  },
  {
   "cell_type": "code",
   "execution_count": null,
   "metadata": {},
   "outputs": [],
   "source": [
    "implots.display_2d_images(result_ism, result_sum, image1_title='ISM', image2_title='Sum')"
   ]
  },
  {
   "cell_type": "code",
   "execution_count": null,
   "metadata": {},
   "outputs": [],
   "source": [
    "fig= plt.figure(figsize=(15,15))\n",
    "plt.imshow(result_ism[0:511,0:511], cmap='hot')\n",
    "cbar=plt.colorbar()\n",
    "cbar.ax.set_ylabel('Intensity (photons/'+str(pixel_dwell_time)+' us)')\n",
    "plt.title('ISM \\n Peak PCR = '+str(result_ism.max()/pixel_dwell_time)+' MHz')\n",
    "plt.xlabel('Pixels')\n",
    "plt.ylabel('Pixels')\n"
   ]
  },
  {
   "cell_type": "markdown",
   "metadata": {},
   "source": [
    "In order to process the full dataset, we just basically have to do the same reassignment on each of the time bins. Here in order to speed up things a little bit I construct 3D spatial transforms with z (== time) offset set to zero. That allows me to use 3D resampling functions for the reassignment, which is quite a bit faster than looping over the time bins one-by-one. Please note that I use exatly the same library functions as above."
   ]
  },
  {
   "cell_type": "code",
   "execution_count": null,
   "metadata": {},
   "outputs": [],
   "source": [
    "offsets_3d = np.transpose(np.vstack((xs, ys, np.zeros_like(xs))))\n",
    "transforms_3d = itkutils.make_translation_transforms_from_offsets(offsets_3d)\n",
    "\n",
    "ad_data = adapters.ArrayAdapter(np.expand_dims(data, axis=0), dataset.attrs[\"spacing\"])"
   ]
  },
  {
   "cell_type": "code",
   "execution_count": null,
   "metadata": {},
   "outputs": [],
   "source": [
    "result_ism_3d = ismrec.shift_and_sum(ad_data, transforms_3d)\n",
    "result_ism_3d_tproject = np.sum(result_ism_3d, axis=0)\n"
   ]
  },
  {
   "cell_type": "markdown",
   "metadata": {},
   "source": [
    "Here I compare the two ISM results: one obtained by summing of time first and then calculating the reassignment, and the other by doing the reassignment first and then summing over time. Of course the difference is that the 3D result, maintains the time information, so you can do lifetime fitting etc if you like."
   ]
  },
  {
   "cell_type": "code",
   "execution_count": null,
   "metadata": {},
   "outputs": [],
   "source": [
    "implots.display_2d_images(result_ism, result_ism_3d_tproject, \n",
    "                          image1_title='ISM - summed over \\n t before re-assignment', \n",
    "                          image2_title='ISM - summed over \\n t after re-assignment')"
   ]
  },
  {
   "cell_type": "markdown",
   "metadata": {},
   "source": [
    "Just to make sure that alls is as it should, here's the difference between the above two images. The noise distribution seems to be a bit different, but that is to be expected.  "
   ]
  },
  {
   "cell_type": "code",
   "execution_count": null,
   "metadata": {},
   "outputs": [],
   "source": [
    "implots.display_2d_image(result_ism_3d_tproject-result_ism)"
   ]
  },
  {
   "cell_type": "markdown",
   "metadata": {},
   "source": [
    "Just to make sure, to conclude, here I plot the time trace thorugh the stack (all pixels summed). Seems to be fine."
   ]
  },
  {
   "cell_type": "code",
   "execution_count": null,
   "metadata": {},
   "outputs": [],
   "source": [
    "shifted_sum_3d = ismrec.shift_and_sum(ad_data, transforms_3d) "
   ]
  },
  {
   "cell_type": "code",
   "execution_count": null,
   "metadata": {},
   "outputs": [],
   "source": [
    "shifted_sum_3d_dataset_image=np.sum(shifted_sum_3d, axis=(0))"
   ]
  },
  {
   "cell_type": "code",
   "execution_count": null,
   "metadata": {},
   "outputs": [],
   "source": [
    "fig= plt.figure(figsize=(12,12))\n",
    "plt.imshow(shifted_sum_3d_dataset_image[0:511,0:511], cmap='hot')\n",
    "fig=plt.gcf()\n",
    "tight_layout()\n",
    "\n",
    "cbar=plt.colorbar()\n",
    "cbar.ax.set_ylabel('Intensity (photons/'+str(pixel_dwell_time)+' us)')\n",
    "plt.title('ISM \\n Peak PCR = '+str(result_ism.max()/pixel_dwell_time)+' MHz')\n",
    "plt.xlabel('Pixels')\n",
    "plt.ylabel('Pixels')\n",
    "\n",
    "# Uncomment to save vector image\n",
    "# plt.rcParams['svg.fonttype'] = 'none'\n",
    "# fig.savefig(\"ISM_\"+data_filename+\".svg\", transparent=True, format='svg', dpi=1200)\n",
    "# fig.savefig(\"ISM_\"+data_filename+\".eps\", transparent=True, format='eps', dpi=1200)"
   ]
  },
  {
   "cell_type": "code",
   "execution_count": null,
   "metadata": {
    "scrolled": true
   },
   "outputs": [],
   "source": [
    "# Phasor plot calculation for ISM data\n",
    "\n",
    "p=linspace(0,nbins-1,nbins)\n",
    "cosine=np.cos(2*np.pi*p*h/nbins)\n",
    "sine=np.sin(2*np.pi*p*h/nbins)\n",
    "\n",
    "cosine_matrix = np.tile(cosine,(pixel_number,pixel_number,1))\n",
    "cosine_matrix.shape\n",
    "\n",
    "sine_matrix = np.tile(sine,(pixel_number,pixel_number,1))\n",
    "\n",
    "cosine_matrix_sw=np.swapaxes(np.swapaxes(cosine_matrix,0,2),1,2)\n",
    "sine_matrix_sw=np.swapaxes(np.swapaxes(sine_matrix,0,2),1,2)\n",
    "\n",
    "A=shifted_sum_3d*cosine_matrix_sw\n",
    "g=np.sum(A, axis=0)\n",
    "\n",
    "B=shifted_sum_3d*sine_matrix_sw\n",
    "s=np.sum(B, axis=0)\n",
    "\n",
    "\n"
   ]
  },
  {
   "cell_type": "code",
   "execution_count": null,
   "metadata": {},
   "outputs": [],
   "source": [
    "# Computing the g & s vector for pixel having >5% and >10% of max intensity respectively\n",
    "\n",
    "threshold_1 = 10 #plotting pixels with intensity >10% of the max\n",
    "threshold_2 = 5 #plotting pixels with intensity >5% of the max\n",
    "\n",
    "g_final = g[remove_border_px:pixel_number-remove_border_px,remove_border_px:pixel_number-remove_border_px]/shifted_sum_3d_dataset_image[remove_border_px:pixel_number-remove_border_px,remove_border_px:pixel_number-remove_border_px]\n",
    "s_final = s[remove_border_px:pixel_number-remove_border_px,remove_border_px:pixel_number-remove_border_px]/shifted_sum_3d_dataset_image[remove_border_px:pixel_number-remove_border_px,remove_border_px:pixel_number-remove_border_px]\n",
    "\n",
    "# Specify a threshold for the minimum amout of photons per pixel to analyze\n",
    "\n",
    "sum_shift_threshold_10percent = floor(threshold_1*(shifted_sum_3d_dataset_image[remove_border_px:pixel_number-remove_border_px,remove_border_px:pixel_number-remove_border_px].max()/100))\n",
    "sum_shift_threshold_5percent = floor(threshold_2*(shifted_sum_3d_dataset_image[remove_border_px:pixel_number-remove_border_px,remove_border_px:pixel_number-remove_border_px].max()/100))\n",
    "\n",
    "mask_sum_shift_10percent=shifted_sum_3d_dataset_image[remove_border_px:pixel_number-remove_border_px,remove_border_px:pixel_number-remove_border_px]>sum_shift_threshold_10percent\n",
    "mask_sum_shift_5percent=shifted_sum_3d_dataset_image[remove_border_px:pixel_number-remove_border_px,remove_border_px:pixel_number-remove_border_px]>sum_shift_threshold_5percent\n",
    "\n",
    "s_final_10percent = s_final*mask_sum_shift_10percent\n",
    "g_final_10percent = g_final*mask_sum_shift_10percent\n",
    "\n",
    "s_final_5percent = s_final*mask_sum_shift_5percent\n",
    "g_final_5percent = g_final*mask_sum_shift_5percent\n",
    "\n",
    "g_where_are_NaNs_10percent = np.isnan(g_final_10percent)\n",
    "s_where_are_NaNs_10percent = np.isnan(s_final_10percent)\n",
    "\n",
    "g_where_are_NaNs_5percent = np.isnan(g_final_5percent)\n",
    "s_where_are_NaNs_5percent = np.isnan(s_final_5percent)\n",
    "\n",
    "g_final_nan_10percent=g_final_10percent[g_where_are_NaNs_10percent==False]\n",
    "s_final_nan_10percent=s_final_10percent[s_where_are_NaNs_10percent==False]\n",
    "\n",
    "g_final_nan_5percent=g_final_5percent[g_where_are_NaNs_5percent==False]\n",
    "s_final_nan_5percent=s_final_5percent[s_where_are_NaNs_5percent==False]\n"
   ]
  },
  {
   "cell_type": "code",
   "execution_count": null,
   "metadata": {},
   "outputs": [],
   "source": [
    "\n",
    "fig= plt.figure(figsize=(12,8))\n",
    "plt.scatter(g_final_nan_5percent[g_final_nan_5percent>0], s_final_nan_5percent[g_final_nan_5percent>0],c='gainsboro',alpha=1,rasterized=True)\n",
    "plt.hist2d(g_final_nan_10percent[g_final_nan_10percent>0], s_final_nan_10percent[g_final_nan_10percent>0], bins=50, cmap = 'jet',norm=LogNorm())\n",
    "cbar=plt.colorbar()\n",
    "cbar.ax.set_ylabel('Pixels')\n",
    "plt.title('Harmonic = '+str(h)+'\\n Phasor Plot \\n ISM')\n",
    "plt.xlabel('$g$')\n",
    "plt.ylabel('$s$\\n')\n",
    "xx=np.linspace(-2,2,400)\n",
    "yy=np.linspace(-2,2,400)\n",
    "[X,Y]=np.meshgrid(xx,yy)\n",
    "\n",
    "plt.xlim((-0.01,1.2))   # set the xlim to left, right\n",
    "plt.ylim((0, 1))     # set the xlim to left, right\n",
    "\n",
    "Z=X**2-X+Y**2\n",
    "plt.contour(X,Y,Z,[0],colors='b')\n",
    "fig=plt.gcf()\n",
    "tight_layout()\n",
    "\n",
    "# Uncomment for saving vector image\n",
    "# plt.rcParams['svg.fonttype'] = 'none'\n",
    "# fig.savefig(\"ISM_Phasor_Plot_\"+data_filename+\".svg\", transparent=True, format='svg', dpi=1200)\n",
    "#fig.savefig(\"ISM_Phasor_Plot\"+data_filename+\".eps\", transparent=True, format='eps', dpi=1200)"
   ]
  },
  {
   "cell_type": "markdown",
   "metadata": {},
   "source": [
    "# Data export"
   ]
  },
  {
   "cell_type": "code",
   "execution_count": null,
   "metadata": {},
   "outputs": [],
   "source": [
    "#Data export\n",
    "\n",
    "\n",
    "#Save ISM data in a 3D file with txy\n",
    "import h5py\n",
    "h5f = h5py.File('ISM'+data_filename,'w')\n",
    "h5f.create_dataset('3dISM', data=shifted_sum_3d)\n",
    "h5f.close()\n",
    "\n",
    "\n",
    "#Save Confocal_Open_ISM images in h5 with 3 datasets\n",
    "import h5py\n",
    "h5f = h5py.File('Confocal_Open_ISM'+data_filename,'w')\n",
    "h5f.create_dataset('Confocal', data=central_element_raw_image, dtype='f8')\n",
    "h5f.create_dataset('Open', data=all_elements_raw_image, dtype='f8')\n",
    "h5f.create_dataset('ISM', data=shifted_sum_3d_dataset_image, dtype='f8')\n",
    "h5f.close()\n"
   ]
  },
  {
   "cell_type": "code",
   "execution_count": null,
   "metadata": {},
   "outputs": [],
   "source": []
  },
  {
   "cell_type": "code",
   "execution_count": null,
   "metadata": {},
   "outputs": [],
   "source": []
  },
  {
   "cell_type": "code",
   "execution_count": null,
   "metadata": {},
   "outputs": [],
   "source": []
  },
  {
   "cell_type": "code",
   "execution_count": null,
   "metadata": {},
   "outputs": [],
   "source": []
  }
 ],
 "metadata": {
  "kernelspec": {
   "display_name": "Python 3 (ipykernel)",
   "language": "python",
   "name": "python3"
  },
  "language_info": {
   "codemirror_mode": {
    "name": "ipython",
    "version": 3
   },
   "file_extension": ".py",
   "mimetype": "text/x-python",
   "name": "python",
   "nbconvert_exporter": "python",
   "pygments_lexer": "ipython3",
   "version": "3.8.10"
  },
  "widgets": {
   "application/vnd.jupyter.widget-state+json": {
    "state": {},
    "version_major": 2,
    "version_minor": 0
   }
  }
 },
 "nbformat": 4,
 "nbformat_minor": 4
}
