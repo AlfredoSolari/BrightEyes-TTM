{
 "cells": [
  {
   "cell_type": "markdown",
   "metadata": {},
   "source": [
    "# TCSPC Histogram Reconstruction\n",
    "Here an example how to read the raw data and create the Time-correlated single-photon counting (TCSPC) histogram of each channel."
   ]
  },
  {
   "cell_type": "code",
   "execution_count": 1,
   "metadata": {},
   "outputs": [
    {
     "name": "stdout",
     "output_type": "stream",
     "text": [
      "Populating the interactive namespace from numpy and matplotlib\n"
     ]
    }
   ],
   "source": [
    "%pylab inline\n",
    "import pandas\n",
    "from tqdm.notebook import tqdm\n",
    "import h5py\n",
    "import os\n",
    "import pandas"
   ]
  },
  {
   "cell_type": "markdown",
   "metadata": {},
   "source": [
    "Import the BrightEyes-TTM library (`libttp`)"
   ]
  },
  {
   "cell_type": "code",
   "execution_count": 2,
   "metadata": {},
   "outputs": [],
   "source": [
    "import libttp.ttp as ttp\n"
   ]
  },
  {
   "cell_type": "markdown",
   "metadata": {},
   "source": [
    "# Select Data & parameters"
   ]
  },
  {
   "cell_type": "code",
   "execution_count": 3,
   "metadata": {},
   "outputs": [],
   "source": [
    "filenameToRead= \"/YOURPATH/13_MEGA_512x512_200us_120FOV.ttr\"\n"
   ]
  },
  {
   "cell_type": "code",
   "execution_count": 4,
   "metadata": {},
   "outputs": [],
   "source": [
    "CHANNELS=25                              # Number of CHANNELS\n",
    "sysclk_MHz=240.                          # FPGA system clock (MHz)\n",
    "laser_MHz=80.                            # Laser repetition rate (MHz)\n",
    "laser_factor=1                           # Adimensional number to account for laser actual repetiton frequency (default = 1)\n",
    "list_of_channels = np.arange(0,CHANNELS) # List of channels to analyse (it must be a numpy.array)\n",
    "kC4=48                                   # Time width of TCSPC histogram bin in [ps] (default = 48ps)"
   ]
  },
  {
   "cell_type": "markdown",
   "metadata": {},
   "source": [
    "#### Define the output HDF5 filename "
   ]
  },
  {
   "cell_type": "code",
   "execution_count": 5,
   "metadata": {},
   "outputs": [],
   "source": [
    "filenameHDF5=filenameToRead.replace(\".ttr\",\".h5\")"
   ]
  },
  {
   "cell_type": "markdown",
   "metadata": {},
   "source": [
    "## Read the Raw file (protocol v2.0) and create the dataframe"
   ]
  },
  {
   "cell_type": "code",
   "execution_count": 6,
   "metadata": {},
   "outputs": [
    {
     "name": "stdout",
     "output_type": "stream",
     "text": [
      "0 -1\n",
      "File total size in uint16 units: 41197454\n",
      "-1\n",
      "File read size in uint16 units: 41197454\n",
      "Channels: 25\n",
      "MAXWORD: 30\n",
      "8395182\n",
      "data read\n",
      "i) added column\n",
      "ii) added pixel, line, frame\n",
      "iii) added 'steps' bytes\n",
      "         assume step 16-bit long\n",
      "iv) calculate 'step'\n",
      "Index(['id_0', 'id_1', 'id_2', 'id_3', 'id_4', 'id_5', 'id_6', 'id_7', 'id_8',\n",
      "       'id_9', 'id_10', 'id_11', 'id_12', 'id_13', 'id_14', 'id_15', 'id_16',\n",
      "       'id_17', 'id_18', 'id_19', 'id_20', 'id_21', 'id_22', 'id_23', 'id_24',\n",
      "       'id_25', 'id_26', 'id_27', 'id_28', 'id_29', 'valid_tdc_0',\n",
      "       'valid_tdc_1', 'valid_tdc_2', 'valid_tdc_3', 'valid_tdc_4',\n",
      "       'valid_tdc_5', 'valid_tdc_6', 'valid_tdc_7', 'valid_tdc_8',\n",
      "       'valid_tdc_9', 'valid_tdc_10', 'valid_tdc_11', 'valid_tdc_12',\n",
      "       'valid_tdc_13', 'valid_tdc_14', 'valid_tdc_15', 'valid_tdc_16',\n",
      "       'valid_tdc_17', 'valid_tdc_18', 'valid_tdc_19', 'valid_tdc_20',\n",
      "       'valid_tdc_21', 'valid_tdc_22', 'valid_tdc_23', 'valid_tdc_24',\n",
      "       'valid_dummy', 'valid_tdc_L', 'valid_27', 'valid_28', 'valid_29', 't_0',\n",
      "       't_1', 't_2', 't_3', 't_4', 't_5', 't_6', 't_7', 't_8', 't_9', 't_10',\n",
      "       't_11', 't_12', 't_13', 't_14', 't_15', 't_16', 't_17', 't_18', 't_19',\n",
      "       't_20', 't_21', 't_22', 't_23', 't_24', 'dummy', 't_L', 'data_27',\n",
      "       'data_28', 'data_29', 'pixel_enable', 'scan_enable', 'line_enable',\n",
      "       'step'],\n",
      "      dtype='object')\n",
      "Applied reorder channel on 25 channel 5x5 detector connected to the TTM\n"
     ]
    }
   ],
   "source": [
    "df = ttp.readNewProtocolFileToPandas(\n",
    "    filenameIn=filenameToRead,\n",
    "    reorder_channels=True, #needed for 25 channel otherwise the channel will not respect the order\n",
    "    CHANNELS=CHANNELS,\n",
    "    force_16bit_step=True)"
   ]
  },
  {
   "cell_type": "markdown",
   "metadata": {},
   "source": [
    "#### Check if any `valid_laser` signals is present"
   ]
  },
  {
   "cell_type": "code",
   "execution_count": 7,
   "metadata": {},
   "outputs": [
    {
     "name": "stdout",
     "output_type": "stream",
     "text": [
      "valid_tdc_L 4020910\n"
     ]
    }
   ],
   "source": [
    "count_L=count_nonzero(df[\"valid_tdc_L\"])\n",
    "if count_L==0:\n",
    "    print(\"No valid_tdc_L found. Check your Laser SYNC.\")\n",
    "else:\n",
    "    print(\"valid_tdc_L\", count_L)"
   ]
  },
  {
   "cell_type": "markdown",
   "metadata": {},
   "source": [
    "#### A quick preview of the total counts on each channel"
   ]
  },
  {
   "cell_type": "code",
   "execution_count": 8,
   "metadata": {},
   "outputs": [
    {
     "name": "stdout",
     "output_type": "stream",
     "text": [
      "[[120828. 259910. 138649. 124063.  96050.]\n",
      " [183403. 282928. 186764. 201235. 201438.]\n",
      " [240632. 287111. 168553. 111046. 103449.]\n",
      " [183548. 167491. 137999.  74918.  96134.]\n",
      " [186527. 120941.  94825.  74613.  55544.]]\n"
     ]
    },
    {
     "data": {
      "image/png": "[encoded data removed]",
      "text/plain": [
       "<Figure size 360x360 with 2 Axes>"
      ]
     },
     "metadata": {
      "needs_background": "light"
     },
     "output_type": "display_data"
    }
   ],
   "source": [
    "valids=np.zeros(CHANNELS)\n",
    "for i in range(0,CHANNELS):\n",
    "    valids[i]=count_nonzero(df[\"valid_tdc_%d\"%i])\n",
    "if CHANNELS==25:\n",
    "    figure(figsize(5,5))\n",
    "    valids=asarray(valids).reshape((5,5))\n",
    "    imshow(valids)\n",
    "    colorbar()\n",
    "elif CHANNELS==49:\n",
    "    figure(figsize(5,5))\n",
    "    valids=asarray(valids).reshape((7,7))\n",
    "    imshow(valids)\n",
    "    colorbar()\n",
    "\n",
    "print(valids)\n"
   ]
  },
  {
   "cell_type": "markdown",
   "metadata": {},
   "source": [
    "#### Set some useful calculate some useful parameter"
   ]
  },
  {
   "cell_type": "code",
   "execution_count": 9,
   "metadata": {},
   "outputs": [
    {
     "name": "stdout",
     "output_type": "stream",
     "text": [
      "SysClk ps: 4166.666666666667\n",
      "LaserClk ps: 12500.0\n",
      "actual kC4 48.07692307692308\n"
     ]
    }
   ],
   "source": [
    "laser_MHz=laser_MHz*laser_factor\n",
    "laser_Hz=laser_MHz*10**6\n",
    "max_counter=2**16-1\n",
    "sysclk_ps=1000000./sysclk_MHz #ps\n",
    "print(\"SysClk ps:\", sysclk_ps)\n",
    "laser_ps=1000000./laser_MHz #ps\n",
    "print(\"LaserClk ps:\", laser_ps)\n",
    "ratio=sysclk_MHz/laser_MHz\n",
    "sysclk_ps=1e6/sysclk_MHz\n",
    "laser_ps=1e6/laser_MHz\n",
    "nbins=int(round(laser_ps/kC4))\n",
    "print(\"actual kC4\", laser_ps/nbins)"
   ]
  },
  {
   "cell_type": "markdown",
   "metadata": {},
   "source": [
    "# Data frame conversion to H5 format"
   ]
  },
  {
   "cell_type": "code",
   "execution_count": 10,
   "metadata": {
    "scrolled": true
   },
   "outputs": [
    {
     "name": "stdout",
     "output_type": "stream",
     "text": [
      "Calculate rates \n",
      "Calculate cumulative step \n",
      "Add cumulativeStep\n",
      "Acquisition lasted:  55.4934385375 s\n",
      "Scan_enable 8.0 ratio 9.529276378913093e-07 rate 0.14416118753560309\n",
      "line_enable 6853.0 ratio 0.0008163016378086429 rate 123.49207727268599\n",
      "pixel_enable 262144.0 ratio 0.031225532838422422 rate 4723.873793166642\n",
      "Laser 4020910.0 ratio 0.47895453355919304 rate 72457.39507172273\n",
      "Calculate totalphotons \n",
      "start the sum\n",
      "sum done\n",
      "kC4<=== 48\n",
      "sysclk_ps<=== 4166.666666666667\n",
      "kC4<=== 47.89272030651341\n",
      "Start process\n",
      "Start analysisForImg\n",
      "Arrays copied into analysisForImg\n"
     ]
    },
    {
     "name": "stderr",
     "output_type": "stream",
     "text": [
      "Current frame: 1 \t: : 8479051it [00:02, 3375775.53it/s]                         \n"
     ]
    },
    {
     "name": "stdout",
     "output_type": "stream",
     "text": [
      "Total Frame: 1\n",
      "New HDF5 written\n",
      "total_photon        uint8\n",
      "cumulative_step     int64\n",
      "arr_px             uint16\n",
      "arr_px_corr        uint16\n",
      "arr_py             uint16\n",
      "arr_frame          uint16\n",
      "dtype: object\n"
     ]
    },
    {
     "name": "stderr",
     "output_type": "stream",
     "text": [
      "  0%|                                                    | 0/25 [00:00<?, ?it/s]"
     ]
    },
    {
     "name": "stdout",
     "output_type": "stream",
     "text": [
      "Start conversion of 0 channel\n",
      "t_0 valid_tdc_0\n",
      "..\n",
      "...\n"
     ]
    },
    {
     "name": "stderr",
     "output_type": "stream",
     "text": [
      "\n",
      "  0%|                                               | 0/4113713 [00:00<?, ?it/s]\u001b[A\n",
      "4154837it [00:00, 39901565.11it/s]                                              \u001b[A\n",
      "  4%|█▊                                          | 1/25 [00:01<00:37,  1.55s/it]"
     ]
    },
    {
     "name": "stdout",
     "output_type": "stream",
     "text": [
      "starting loop\n",
      "Data ready, conversion to array\n",
      "Adding keys to HDF5...  \"ch_0\"\n",
      "t_0      int16\n",
      "t_L      int16\n",
      "dS_0    uint16\n",
      "dtype: object\n",
      "Start conversion of 1 channel\n",
      "t_1 valid_tdc_1\n",
      "..\n",
      "...\n"
     ]
    },
    {
     "name": "stderr",
     "output_type": "stream",
     "text": [
      "\n",
      "  0%|                                               | 0/4205307 [00:00<?, ?it/s]\u001b[A\n",
      "4247353it [00:00, 27245585.69it/s]                                              \u001b[A"
     ]
    },
    {
     "name": "stdout",
     "output_type": "stream",
     "text": [
      "starting loop\n",
      "Data ready, conversion to array\n",
      "Adding keys to HDF5...  \"ch_1\"\n"
     ]
    },
    {
     "name": "stderr",
     "output_type": "stream",
     "text": [
      "\n",
      "  8%|███▌                                        | 2/25 [00:03<00:37,  1.62s/it]"
     ]
    },
    {
     "name": "stdout",
     "output_type": "stream",
     "text": [
      "t_1      int16\n",
      "t_L      int16\n",
      "dS_1    uint16\n",
      "dtype: object\n",
      "Start conversion of 2 channel\n",
      "t_2 valid_tdc_2\n",
      "..\n",
      "...\n"
     ]
    },
    {
     "name": "stderr",
     "output_type": "stream",
     "text": [
      "\n",
      "  0%|                                               | 0/4129594 [00:00<?, ?it/s]\u001b[A\n",
      "4170795it [00:00, 39303913.08it/s]                                              \u001b[A\n",
      " 12%|█████▎                                      | 3/25 [00:04<00:34,  1.57s/it]"
     ]
    },
    {
     "name": "stdout",
     "output_type": "stream",
     "text": [
      "starting loop\n",
      "Data ready, conversion to array\n",
      "Adding keys to HDF5...  \"ch_2\"\n",
      "t_2      int16\n",
      "t_L      int16\n",
      "dS_2    uint16\n",
      "dtype: object\n",
      "Start conversion of 3 channel\n",
      "t_3 valid_tdc_3\n",
      "..\n",
      "...\n"
     ]
    },
    {
     "name": "stderr",
     "output_type": "stream",
     "text": [
      "\n",
      "4153928it [00:00, 43497717.68it/s]                                              \u001b[A\n",
      " 16%|███████                                     | 4/25 [00:06<00:32,  1.56s/it]"
     ]
    },
    {
     "name": "stdout",
     "output_type": "stream",
     "text": [
      "starting loop\n",
      "Data ready, conversion to array\n",
      "Adding keys to HDF5...  \"ch_3\"\n",
      "t_3      int16\n",
      "t_L      int16\n",
      "dS_3    uint16\n",
      "dtype: object\n",
      "Start conversion of 4 channel\n",
      "t_4 valid_tdc_4\n",
      "..\n",
      "...\n"
     ]
    },
    {
     "name": "stderr",
     "output_type": "stream",
     "text": [
      "\n",
      "4138677it [00:00, 41659653.73it/s]                                              \u001b[A\n",
      " 20%|████████▊                                   | 5/25 [00:07<00:30,  1.53s/it]"
     ]
    },
    {
     "name": "stdout",
     "output_type": "stream",
     "text": [
      "starting loop\n",
      "Data ready, conversion to array\n",
      "Adding keys to HDF5...  \"ch_4\"\n",
      "t_4      int16\n",
      "t_L      int16\n",
      "dS_4    uint16\n",
      "dtype: object\n",
      "Start conversion of 5 channel\n",
      "t_5 valid_tdc_5\n",
      "..\n",
      "...\n"
     ]
    },
    {
     "name": "stderr",
     "output_type": "stream",
     "text": [
      "\n",
      "  0%|                                               | 0/4153262 [00:00<?, ?it/s]\u001b[A\n",
      "4194732it [00:00, 37406862.69it/s]                                              \u001b[A"
     ]
    },
    {
     "name": "stdout",
     "output_type": "stream",
     "text": [
      "starting loop\n",
      "Data ready, conversion to array\n",
      "Adding keys to HDF5...  \"ch_5\"\n"
     ]
    },
    {
     "name": "stderr",
     "output_type": "stream",
     "text": [
      "\n"
     ]
    },
    {
     "name": "stdout",
     "output_type": "stream",
     "text": [
      "t_5      int16\n",
      "t_L      int16\n",
      "dS_5    uint16\n",
      "dtype: object\n"
     ]
    },
    {
     "name": "stderr",
     "output_type": "stream",
     "text": [
      " 24%|██████████▌                                 | 6/25 [00:09<00:29,  1.56s/it]"
     ]
    },
    {
     "name": "stdout",
     "output_type": "stream",
     "text": [
      "Start conversion of 6 channel\n",
      "t_6 valid_tdc_6\n",
      "..\n",
      "...\n"
     ]
    },
    {
     "name": "stderr",
     "output_type": "stream",
     "text": [
      "\n",
      "  0%|                                               | 0/4228839 [00:00<?, ?it/s]\u001b[A\n",
      "4271088it [00:00, 35957642.82it/s]                                              \u001b[A"
     ]
    },
    {
     "name": "stdout",
     "output_type": "stream",
     "text": [
      "starting loop\n",
      "Data ready, conversion to array\n",
      "Adding keys to HDF5...  \"ch_6\"\n"
     ]
    },
    {
     "name": "stderr",
     "output_type": "stream",
     "text": [
      "\n",
      " 28%|████████████▎                               | 7/25 [00:11<00:28,  1.59s/it]"
     ]
    },
    {
     "name": "stdout",
     "output_type": "stream",
     "text": [
      "t_6      int16\n",
      "t_L      int16\n",
      "dS_6    uint16\n",
      "dtype: object\n",
      "Start conversion of 7 channel\n",
      "t_7 valid_tdc_7\n",
      "..\n",
      "...\n"
     ]
    },
    {
     "name": "stderr",
     "output_type": "stream",
     "text": [
      "\n",
      "4190389it [00:00, 43056749.99it/s]                                              \u001b[A\n",
      " 32%|██████████████                              | 8/25 [00:12<00:26,  1.58s/it]"
     ]
    },
    {
     "name": "stdout",
     "output_type": "stream",
     "text": [
      "starting loop\n",
      "Data ready, conversion to array\n",
      "Adding keys to HDF5...  \"ch_7\"\n",
      "t_7      int16\n",
      "t_L      int16\n",
      "dS_7    uint16\n",
      "dtype: object\n",
      "Start conversion of 8 channel\n",
      "t_8 valid_tdc_8\n",
      "..\n",
      "...\n"
     ]
    },
    {
     "name": "stderr",
     "output_type": "stream",
     "text": [
      "\n",
      "  0%|                                               | 0/4170319 [00:00<?, ?it/s]\u001b[A\n",
      "4212003it [00:00, 28791757.78it/s]                                              \u001b[A"
     ]
    },
    {
     "name": "stdout",
     "output_type": "stream",
     "text": [
      "starting loop\n",
      "Data ready, conversion to array\n",
      "Adding keys to HDF5...  \"ch_8\"\n"
     ]
    },
    {
     "name": "stderr",
     "output_type": "stream",
     "text": [
      "\n"
     ]
    },
    {
     "name": "stdout",
     "output_type": "stream",
     "text": [
      "t_8      int16\n",
      "t_L      int16\n",
      "dS_8    uint16\n",
      "dtype: object\n"
     ]
    },
    {
     "name": "stderr",
     "output_type": "stream",
     "text": [
      " 36%|███████████████▊                            | 9/25 [00:14<00:25,  1.58s/it]"
     ]
    },
    {
     "name": "stdout",
     "output_type": "stream",
     "text": [
      "Start conversion of 9 channel\n",
      "t_9 valid_tdc_9\n",
      "..\n",
      "...\n"
     ]
    },
    {
     "name": "stderr",
     "output_type": "stream",
     "text": [
      "\n",
      "  0%|                                               | 0/4162964 [00:00<?, ?it/s]\u001b[A\n",
      " 58%|███████████████▋           | 2414482/4162964 [00:00<00:00, 23953922.11it/s]\u001b[A"
     ]
    },
    {
     "name": "stdout",
     "output_type": "stream",
     "text": [
      "starting loop\n",
      "Data ready, conversion to array\n"
     ]
    },
    {
     "name": "stderr",
     "output_type": "stream",
     "text": [
      "4204529it [00:00, 21346090.66it/s]                                              \n",
      " 40%|█████████████████▏                         | 10/25 [00:15<00:24,  1.61s/it]"
     ]
    },
    {
     "name": "stdout",
     "output_type": "stream",
     "text": [
      "Adding keys to HDF5...  \"ch_9\"\n",
      "t_9      int16\n",
      "t_L      int16\n",
      "dS_9    uint16\n",
      "dtype: object\n",
      "Start conversion of 10 channel\n",
      "t_10 valid_tdc_10\n",
      "..\n",
      "...\n"
     ]
    },
    {
     "name": "stderr",
     "output_type": "stream",
     "text": [
      "\n",
      "  0%|                                               | 0/4214272 [00:00<?, ?it/s]\u001b[A\n",
      "4256342it [00:00, 33228528.18it/s]                                              \u001b[A"
     ]
    },
    {
     "name": "stdout",
     "output_type": "stream",
     "text": [
      "starting loop\n",
      "Data ready, conversion to array\n",
      "Adding keys to HDF5...  \"ch_10\"\n"
     ]
    },
    {
     "name": "stderr",
     "output_type": "stream",
     "text": [
      "\n",
      " 44%|██████████████████▉                        | 11/25 [00:17<00:22,  1.61s/it]"
     ]
    },
    {
     "name": "stdout",
     "output_type": "stream",
     "text": [
      "t_10      int16\n",
      "t_L       int16\n",
      "dS_10    uint16\n",
      "dtype: object\n",
      "Start conversion of 11 channel\n",
      "t_11 valid_tdc_11\n",
      "..\n",
      "...\n"
     ]
    },
    {
     "name": "stderr",
     "output_type": "stream",
     "text": [
      "\n",
      "  0%|                                               | 0/4223776 [00:00<?, ?it/s]\u001b[A\n",
      "4265937it [00:00, 29305527.96it/s]                                              \u001b[A"
     ]
    },
    {
     "name": "stdout",
     "output_type": "stream",
     "text": [
      "starting loop\n",
      "Data ready, conversion to array\n",
      "Adding keys to HDF5...  \"ch_11\"\n"
     ]
    },
    {
     "name": "stderr",
     "output_type": "stream",
     "text": [
      "\n",
      " 48%|████████████████████▋                      | 12/25 [00:19<00:21,  1.63s/it]"
     ]
    },
    {
     "name": "stdout",
     "output_type": "stream",
     "text": [
      "t_11      int16\n",
      "t_L       int16\n",
      "dS_11    uint16\n",
      "dtype: object\n",
      "Start conversion of 12 channel\n",
      "t_12 valid_tdc_12\n",
      "..\n",
      "...\n"
     ]
    },
    {
     "name": "stderr",
     "output_type": "stream",
     "text": [
      "\n",
      "  0%|                                               | 0/4127848 [00:00<?, ?it/s]\u001b[A\n",
      "4169078it [00:00, 31910618.15it/s]                                              \u001b[A"
     ]
    },
    {
     "name": "stdout",
     "output_type": "stream",
     "text": [
      "starting loop\n",
      "Data ready, conversion to array\n",
      "Adding keys to HDF5...  \"ch_12\"\n"
     ]
    },
    {
     "name": "stderr",
     "output_type": "stream",
     "text": [
      "\n"
     ]
    },
    {
     "name": "stdout",
     "output_type": "stream",
     "text": [
      "t_12      int16\n",
      "t_L       int16\n",
      "dS_12    uint16\n",
      "dtype: object"
     ]
    },
    {
     "name": "stderr",
     "output_type": "stream",
     "text": [
      " 52%|██████████████████████▎                    | 13/25 [00:20<00:19,  1.64s/it]"
     ]
    },
    {
     "name": "stdout",
     "output_type": "stream",
     "text": [
      "\n",
      "Start conversion of 13 channel\n",
      "t_13 valid_tdc_13\n",
      "..\n",
      "...\n"
     ]
    },
    {
     "name": "stderr",
     "output_type": "stream",
     "text": [
      "\n",
      "4144131it [00:00, 49946969.66it/s]                                              \u001b[A\n",
      " 56%|████████████████████████                   | 14/25 [00:22<00:17,  1.60s/it]"
     ]
    },
    {
     "name": "stdout",
     "output_type": "stream",
     "text": [
      "starting loop\n",
      "Data ready, conversion to array\n",
      "Adding keys to HDF5...  \"ch_13\"\n",
      "t_13      int16\n",
      "t_L       int16\n",
      "dS_13    uint16\n",
      "dtype: object\n",
      "Start conversion of 14 channel\n",
      "t_14 valid_tdc_14\n",
      "..\n",
      "...\n"
     ]
    },
    {
     "name": "stderr",
     "output_type": "stream",
     "text": [
      "\n",
      "4131708it [00:00, 53910336.48it/s]                                              \u001b[A\n",
      " 60%|█████████████████████████▊                 | 15/25 [00:23<00:15,  1.56s/it]"
     ]
    },
    {
     "name": "stdout",
     "output_type": "stream",
     "text": [
      "starting loop\n",
      "Data ready, conversion to array\n",
      "Adding keys to HDF5...  \"ch_14\"\n",
      "t_14      int16\n",
      "t_L       int16\n",
      "dS_14    uint16\n",
      "dtype: object\n",
      "Start conversion of 15 channel\n",
      "t_15 valid_tdc_15\n",
      "..\n",
      "...\n"
     ]
    },
    {
     "name": "stderr",
     "output_type": "stream",
     "text": [
      "\n",
      "  0%|                                               | 0/4156848 [00:00<?, ?it/s]\u001b[A\n",
      "4198368it [00:00, 31572813.74it/s]                                              \u001b[A"
     ]
    },
    {
     "name": "stdout",
     "output_type": "stream",
     "text": [
      "starting loop\n",
      "Data ready, conversion to array\n",
      "Adding keys to HDF5...  \"ch_15\"\n"
     ]
    },
    {
     "name": "stderr",
     "output_type": "stream",
     "text": [
      "\n",
      " 64%|███████████████████████████▌               | 16/25 [00:25<00:14,  1.58s/it]"
     ]
    },
    {
     "name": "stdout",
     "output_type": "stream",
     "text": [
      "t_15      int16\n",
      "t_L       int16\n",
      "dS_15    uint16\n",
      "dtype: object\n",
      "Start conversion of 16 channel\n",
      "t_16 valid_tdc_16\n",
      "..\n",
      "...\n"
     ]
    },
    {
     "name": "stderr",
     "output_type": "stream",
     "text": [
      "\n",
      "  0%|                                               | 0/4152150 [00:00<?, ?it/s]\u001b[A\n",
      "4193621it [00:00, 32869740.61it/s]                                              \u001b[A"
     ]
    },
    {
     "name": "stdout",
     "output_type": "stream",
     "text": [
      "starting loop\n",
      "Data ready, conversion to array\n",
      "Adding keys to HDF5...  \"ch_16\"\n"
     ]
    },
    {
     "name": "stderr",
     "output_type": "stream",
     "text": [
      "\n",
      " 68%|█████████████████████████████▏             | 17/25 [00:27<00:12,  1.60s/it]"
     ]
    },
    {
     "name": "stdout",
     "output_type": "stream",
     "text": [
      "t_16      int16\n",
      "t_L       int16\n",
      "dS_16    uint16\n",
      "dtype: object\n",
      "Start conversion of 17 channel\n",
      "t_17 valid_tdc_17\n",
      "..\n",
      "...\n"
     ]
    },
    {
     "name": "stderr",
     "output_type": "stream",
     "text": [
      "\n",
      "  0%|                                               | 0/4127280 [00:00<?, ?it/s]\u001b[A\n",
      "4168472it [00:00, 30030433.98it/s]                                              \u001b[A"
     ]
    },
    {
     "name": "stdout",
     "output_type": "stream",
     "text": [
      "starting loop\n",
      "Data ready, conversion to array\n",
      "Adding keys to HDF5...  \"ch_17\"\n"
     ]
    },
    {
     "name": "stderr",
     "output_type": "stream",
     "text": [
      "\n",
      " 72%|██████████████████████████████▉            | 18/25 [00:28<00:11,  1.58s/it]"
     ]
    },
    {
     "name": "stdout",
     "output_type": "stream",
     "text": [
      "t_17      int16\n",
      "t_L       int16\n",
      "dS_17    uint16\n",
      "dtype: object\n",
      "Start conversion of 18 channel\n",
      "t_18 valid_tdc_18\n",
      "..\n",
      "...\n"
     ]
    },
    {
     "name": "stderr",
     "output_type": "stream",
     "text": [
      "\n",
      "4121911it [00:00, 43174740.77it/s]                                              \u001b[A\n",
      " 76%|████████████████████████████████▋          | 19/25 [00:29<00:09,  1.54s/it]"
     ]
    },
    {
     "name": "stdout",
     "output_type": "stream",
     "text": [
      "starting loop\n",
      "Data ready, conversion to array\n",
      "Adding keys to HDF5...  \"ch_18\"\n",
      "t_18      int16\n",
      "t_L       int16\n",
      "dS_18    uint16\n",
      "dtype: object\n",
      "Start conversion of 19 channel\n",
      "t_19 valid_tdc_19\n",
      "..\n",
      "...\n"
     ]
    },
    {
     "name": "stderr",
     "output_type": "stream",
     "text": [
      "\n",
      "100%|███████████████████████████| 4091100/4091100 [00:00<00:00, 55795762.13it/s]\u001b[A\n",
      " 80%|██████████████████████████████████▍        | 20/25 [00:31<00:07,  1.52s/it]"
     ]
    },
    {
     "name": "stdout",
     "output_type": "stream",
     "text": [
      "starting loop\n",
      "Data ready, conversion to array\n",
      "Adding keys to HDF5...  \"ch_19\"\n",
      "t_19      int16\n",
      "t_L       int16\n",
      "dS_19    uint16\n",
      "dtype: object\n",
      "Start conversion of 20 channel\n",
      "t_20 valid_tdc_20\n",
      "..\n",
      "...\n"
     ]
    },
    {
     "name": "stderr",
     "output_type": "stream",
     "text": [
      "\n",
      "  0%|                                               | 0/4156522 [00:00<?, ?it/s]\u001b[A\n",
      "4198065it [00:00, 38629621.28it/s]                                              \u001b[A"
     ]
    },
    {
     "name": "stdout",
     "output_type": "stream",
     "text": [
      "starting loop\n",
      "Data ready, conversion to array\n",
      "Adding keys to HDF5...  \"ch_20\"\n"
     ]
    },
    {
     "name": "stderr",
     "output_type": "stream",
     "text": [
      "\n"
     ]
    },
    {
     "name": "stdout",
     "output_type": "stream",
     "text": [
      "t_20      int16\n",
      "t_L       int16\n",
      "dS_20    uint16\n",
      "dtype: object\n"
     ]
    },
    {
     "name": "stderr",
     "output_type": "stream",
     "text": [
      " 84%|████████████████████████████████████       | 21/25 [00:33<00:06,  1.56s/it]"
     ]
    },
    {
     "name": "stdout",
     "output_type": "stream",
     "text": [
      "Start conversion of 21 channel\n",
      "t_21 valid_tdc_21\n",
      "..\n",
      "...\n"
     ]
    },
    {
     "name": "stderr",
     "output_type": "stream",
     "text": [
      "\n",
      "  0%|                                               | 0/4115036 [00:00<?, ?it/s]\u001b[A\n",
      "4156150it [00:00, 31764886.14it/s]                                              \u001b[A\n",
      " 88%|█████████████████████████████████████▊     | 22/25 [00:34<00:04,  1.55s/it]"
     ]
    },
    {
     "name": "stdout",
     "output_type": "stream",
     "text": [
      "starting loop\n",
      "Data ready, conversion to array\n",
      "Adding keys to HDF5...  \"ch_21\"\n",
      "t_21      int16\n",
      "t_L       int16\n",
      "dS_21    uint16\n",
      "dtype: object\n",
      "Start conversion of 22 channel\n",
      "t_22 valid_tdc_22\n",
      "..\n",
      "...\n"
     ]
    },
    {
     "name": "stderr",
     "output_type": "stream",
     "text": [
      "\n",
      "  0%|                                               | 0/4092028 [00:00<?, ?it/s]\u001b[A\n",
      "4132920it [00:00, 36280138.82it/s]                                              \u001b[A\n",
      " 92%|███████████████████████████████████████▌   | 23/25 [00:36<00:03,  1.54s/it]"
     ]
    },
    {
     "name": "stdout",
     "output_type": "stream",
     "text": [
      "starting loop\n",
      "Data ready, conversion to array\n",
      "Adding keys to HDF5...  \"ch_22\"\n",
      "t_22      int16\n",
      "t_L       int16\n",
      "dS_22    uint16\n",
      "dtype: object\n",
      "Start conversion of 23 channel\n",
      "t_23 valid_tdc_23\n",
      "..\n",
      "...\n"
     ]
    },
    {
     "name": "stderr",
     "output_type": "stream",
     "text": [
      "\n",
      "4115447it [00:00, 59296660.68it/s]                                              \u001b[A\n",
      " 96%|█████████████████████████████████████████▎ | 24/25 [00:37<00:01,  1.51s/it]"
     ]
    },
    {
     "name": "stdout",
     "output_type": "stream",
     "text": [
      "starting loop\n",
      "Data ready, conversion to array\n",
      "Adding keys to HDF5...  \"ch_23\"\n",
      "t_23      int16\n",
      "t_L       int16\n",
      "dS_23    uint16\n",
      "dtype: object\n",
      "Start conversion of 24 channel\n",
      "t_24 valid_tdc_24\n",
      "..\n",
      "...\n"
     ]
    },
    {
     "name": "stderr",
     "output_type": "stream",
     "text": [
      "\n",
      "4090298it [00:00, 47632271.15it/s]                                              \u001b[A\n",
      "100%|███████████████████████████████████████████| 25/25 [00:39<00:00,  1.56s/it]"
     ]
    },
    {
     "name": "stdout",
     "output_type": "stream",
     "text": [
      "starting loop\n",
      "Data ready, conversion to array\n",
      "Adding keys to HDF5...  \"ch_24\"\n",
      "t_24      int16\n",
      "t_L       int16\n",
      "dS_24    uint16\n",
      "dtype: object\n",
      "Data saved:  /home/mdonato/Downloads/DatiForRep/13_MEGA_512x512_200us_120FOV.h5\n"
     ]
    },
    {
     "name": "stderr",
     "output_type": "stream",
     "text": [
      "\n"
     ]
    }
   ],
   "source": [
    "myReturn=ttp.convertFromPandasDataFrame( df, filenameOutputHDF5=filenameHDF5 ,\n",
    "                    sysclk_MHz = sysclk_MHz,\n",
    "                    laser_MHz = laser_MHz,\n",
    "                    list_of_channels=list_of_channels,\n",
    "                    compressionLevel=0,\n",
    "                    ignorePixelLineFrame = False,\n",
    "                    coincidence_analysis = False,\n",
    "                    kC4=kC4\n",
    "                        )"
   ]
  },
  {
   "cell_type": "markdown",
   "metadata": {},
   "source": [
    "## Timing calibration of data"
   ]
  },
  {
   "cell_type": "code",
   "execution_count": 11,
   "metadata": {
    "tags": []
   },
   "outputs": [
    {
     "name": "stderr",
     "output_type": "stream",
     "text": [
      "  0%|                                                    | 0/25 [00:00<?, ?it/s]\n"
     ]
    },
    {
     "name": "stdout",
     "output_type": "stream",
     "text": [
      "ch_L calculated from ch_0\n"
     ]
    },
    {
     "name": "stderr",
     "output_type": "stream",
     "text": [
      "100%|███████████████████████████████████████████| 25/25 [00:18<00:00,  1.33it/s]\n"
     ]
    }
   ],
   "source": [
    "calibDict,list_of_channels_calibrated = ttp.calculateCalibFromH5(filenameH5=myReturn['filenameH5'],   # the HDF5 file input\n",
    "                                                                 listChannel=list_of_channels,      # list of channel [0,mchannel]\n",
    "                                                                 return_numeric_channels=True)        # to activate the list_of_channels_calibrated"
   ]
  },
  {
   "cell_type": "code",
   "execution_count": 12,
   "metadata": {},
   "outputs": [
    {
     "data": {
      "application/vnd.jupyter.widget-view+json": {
       "model_id": "996bd79727e949948f74c89b2fc65b80",
       "version_major": 2,
       "version_minor": 0
      },
      "text/plain": [
       "  0%|          | 0/25 [00:00<?, ?it/s]"
      ]
     },
     "metadata": {},
     "output_type": "display_data"
    }
   ],
   "source": [
    "table_channels={}\n",
    "for i in tqdm(list_of_channels_calibrated):\n",
    "    table_channels[i] = ttp.applyCalibDict(myReturn['filenameH5'],\n",
    "                        channel=i, \n",
    "                        calibDict=calibDict)"
   ]
  },
  {
   "cell_type": "markdown",
   "metadata": {},
   "source": [
    "# TCSPC Histograms processing"
   ]
  },
  {
   "cell_type": "code",
   "execution_count": 13,
   "metadata": {},
   "outputs": [
    {
     "data": {
      "application/vnd.jupyter.widget-view+json": {
       "model_id": "20092e2919e94c9cbcfd9027d2c4e172",
       "version_major": 2,
       "version_minor": 0
      },
      "text/plain": [
       "  0%|          | 0/25 [00:00<?, ?it/s]"
      ]
     },
     "metadata": {},
     "output_type": "display_data"
    }
   ],
   "source": [
    "dt_mod={}\n",
    "\n",
    "for i in tqdm(list_of_channels_calibrated):\n",
    "    df = table_channels[i]\n",
    "    dt_mod[i] = np.mod(laser_ps-df['dt_'+str(i)],laser_ps) # flip and "
   ]
  },
  {
   "cell_type": "markdown",
   "metadata": {},
   "source": [
    "# TCSPC Histograms plots"
   ]
  },
  {
   "cell_type": "markdown",
   "metadata": {},
   "source": [
    "### The histograms are calculated with data after the autocalibration"
   ]
  },
  {
   "cell_type": "code",
   "execution_count": 14,
   "metadata": {},
   "outputs": [
    {
     "data": {
      "application/vnd.jupyter.widget-view+json": {
       "model_id": "364aba325c464c698901a440250f1879",
       "version_major": 2,
       "version_minor": 0
      },
      "text/plain": [
       "  0%|          | 0/25 [00:00<?, ?it/s]"
      ]
     },
     "metadata": {},
     "output_type": "display_data"
    }
   ],
   "source": [
    "xhist_calib={}\n",
    "yhist_calib={}\n",
    "nbins=int(round(laser_ps/kC4))\n",
    "\n",
    "for k in tqdm(list_of_channels_calibrated):\n",
    "    yhist_calib[k],xhist_calib[k]=histogram(dt_mod[k], range=[0,laser_ps],bins=nbins)"
   ]
  },
  {
   "cell_type": "markdown",
   "metadata": {},
   "source": [
    "### The histograms are calculated with data after by using a fixed-value calibration factor (kC4)"
   ]
  },
  {
   "cell_type": "code",
   "execution_count": 15,
   "metadata": {},
   "outputs": [
    {
     "data": {
      "application/vnd.jupyter.widget-view+json": {
       "model_id": "243f4a9c606c4a2b85b18a609e16fad9",
       "version_major": 2,
       "version_minor": 0
      },
      "text/plain": [
       "  0%|          | 0/25 [00:00<?, ?it/s]"
      ]
     },
     "metadata": {},
     "output_type": "display_data"
    }
   ],
   "source": [
    "\n",
    "xhist_not_calib={}\n",
    "yhist_not_calib={}\n",
    "nbins=int(round(laser_ps/kC4))\n",
    "\n",
    "for k in tqdm(list_of_channels_calibrated):\n",
    "    t_L  = table_channels[k][\"t_L\"]\n",
    "    t_CH = table_channels[k][\"t_%d\"%k]\n",
    "    dS_0  = table_channels[k][\"dS_%d\"%k]\n",
    "    dt_notCalib=dS_0*sysclk_ps-(t_L-t_CH)*kC4\n",
    "    dt_mod_notCalib=np.mod(laser_ps-dt_notCalib, laser_ps) #apply flip and modulo\n",
    "    yhist_not_calib[k],xhist_not_calib[k]=histogram(dt_mod_notCalib, range=[0,laser_ps],bins=nbins)"
   ]
  },
  {
   "cell_type": "markdown",
   "metadata": {},
   "source": [
    "### The plot with comparison of data \"autocalibrated\" and data \"fixed-value calibration\""
   ]
  },
  {
   "cell_type": "code",
   "execution_count": 16,
   "metadata": {},
   "outputs": [
    {
     "data": {
      "application/vnd.jupyter.widget-view+json": {
       "model_id": "9b9ac92a670d4136b8f49fba9bd2ab8f",
       "version_major": 2,
       "version_minor": 0
      },
      "text/plain": [
       "  0%|          | 0/25 [00:00<?, ?it/s]"
      ]
     },
     "metadata": {},
     "output_type": "display_data"
    },
    {
     "name": "stderr",
     "output_type": "stream",
     "text": [
      "/tmp/ipykernel_2671221/3111564732.py:2: RuntimeWarning: More than 20 figures have been opened. Figures created through the pyplot interface (`matplotlib.pyplot.figure`) are retained until explicitly closed and may consume too much memory. (To control this warning, see the rcParam `figure.max_open_warning`).\n",
      "  figure(figsize(16,3))\n"
     ]
    },
    {
     "data": {
      "text/plain": [
       "<Figure size 1152x216 with 0 Axes>"
      ]
     },
     "metadata": {},
     "output_type": "display_data"
    },
    {
     "data": {
      "image/png": "[encoded data removed]",
      "text/plain": [
       "<Figure size 1152x216 with 2 Axes>"
      ]
     },
     "metadata": {
      "needs_background": "light"
     },
     "output_type": "display_data"
    },
    {
     "data": {
      "text/plain": [
       "<Figure size 1152x216 with 0 Axes>"
      ]
     },
     "metadata": {},
     "output_type": "display_data"
    },
    {
     "data": {
      "image/png": "[encoded data removed]",
      "text/plain": [
       "<Figure size 1152x216 with 2 Axes>"
      ]
     },
     "metadata": {
      "needs_background": "light"
     },
     "output_type": "display_data"
    },
    {
     "data": {
      "text/plain": [
       "<Figure size 1152x216 with 0 Axes>"
      ]
     },
     "metadata": {},
     "output_type": "display_data"
    },
    {
     "data": {
      "image/png": "[encoded data removed]",
      "text/plain": [
       "<Figure size 1152x216 with 2 Axes>"
      ]
     },
     "metadata": {
      "needs_background": "light"
     },
     "output_type": "display_data"
    },
    {
     "data": {
      "text/plain": [
       "<Figure size 1152x216 with 0 Axes>"
      ]
     },
     "metadata": {},
     "output_type": "display_data"
    },
    {
     "data": {
      "image/png": "[encoded data removed]",
      "text/plain": [
       "<Figure size 1152x216 with 2 Axes>"
      ]
     },
     "metadata": {
      "needs_background": "light"
     },
     "output_type": "display_data"
    },
    {
     "data": {
      "text/plain": [
       "<Figure size 1152x216 with 0 Axes>"
      ]
     },
     "metadata": {},
     "output_type": "display_data"
    },
    {
     "data": {
      "image/png": "[encoded data removed]",
      "text/plain": [
       "<Figure size 1152x216 with 2 Axes>"
      ]
     },
     "metadata": {
      "needs_background": "light"
     },
     "output_type": "display_data"
    },
    {
     "data": {
      "text/plain": [
       "<Figure size 1152x216 with 0 Axes>"
      ]
     },
     "metadata": {},
     "output_type": "display_data"
    },
    {
     "data": {
      "image/png": "[encoded data removed]",
      "text/plain": [
       "<Figure size 1152x216 with 2 Axes>"
      ]
     },
     "metadata": {
      "needs_background": "light"
     },
     "output_type": "display_data"
    },
    {
     "data": {
      "text/plain": [
       "<Figure size 1152x216 with 0 Axes>"
      ]
     },
     "metadata": {},
     "output_type": "display_data"
    },
    {
     "data": {
      "image/png": "[encoded data removed]",
      "text/plain": [
       "<Figure size 1152x216 with 2 Axes>"
      ]
     },
     "metadata": {
      "needs_background": "light"
     },
     "output_type": "display_data"
    },
    {
     "data": {
      "text/plain": [
       "<Figure size 1152x216 with 0 Axes>"
      ]
     },
     "metadata": {},
     "output_type": "display_data"
    },
    {
     "data": {
      "image/png": "[encoded data removed]",
      "text/plain": [
       "<Figure size 1152x216 with 2 Axes>"
      ]
     },
     "metadata": {
      "needs_background": "light"
     },
     "output_type": "display_data"
    },
    {
     "data": {
      "text/plain": [
       "<Figure size 1152x216 with 0 Axes>"
      ]
     },
     "metadata": {},
     "output_type": "display_data"
    },
    {
     "data": {
      "image/png": "[encoded data removed]",
      "text/plain": [
       "<Figure size 1152x216 with 2 Axes>"
      ]
     },
     "metadata": {
      "needs_background": "light"
     },
     "output_type": "display_data"
    },
    {
     "data": {
      "text/plain": [
       "<Figure size 1152x216 with 0 Axes>"
      ]
     },
     "metadata": {},
     "output_type": "display_data"
    },
    {
     "data": {
      "image/png": "[encoded data removed]",
      "text/plain": [
       "<Figure size 1152x216 with 2 Axes>"
      ]
     },
     "metadata": {
      "needs_background": "light"
     },
     "output_type": "display_data"
    },
    {
     "data": {
      "text/plain": [
       "<Figure size 1152x216 with 0 Axes>"
      ]
     },
     "metadata": {},
     "output_type": "display_data"
    },
    {
     "data": {
      "image/png": "[encoded data removed]",
      "text/plain": [
       "<Figure size 1152x216 with 2 Axes>"
      ]
     },
     "metadata": {
      "needs_background": "light"
     },
     "output_type": "display_data"
    },
    {
     "data": {
      "text/plain": [
       "<Figure size 1152x216 with 0 Axes>"
      ]
     },
     "metadata": {},
     "output_type": "display_data"
    },
    {
     "data": {
      "image/png": "[encoded data removed]",
      "text/plain": [
       "<Figure size 1152x216 with 2 Axes>"
      ]
     },
     "metadata": {
      "needs_background": "light"
     },
     "output_type": "display_data"
    },
    {
     "data": {
      "text/plain": [
       "<Figure size 1152x216 with 0 Axes>"
      ]
     },
     "metadata": {},
     "output_type": "display_data"
    },
    {
     "data": {
      "image/png": "[encoded data removed]",
      "text/plain": [
       "<Figure size 1152x216 with 2 Axes>"
      ]
     },
     "metadata": {
      "needs_background": "light"
     },
     "output_type": "display_data"
    },
    {
     "data": {
      "text/plain": [
       "<Figure size 1152x216 with 0 Axes>"
      ]
     },
     "metadata": {},
     "output_type": "display_data"
    },
    {
     "data": {
      "image/png": "[encoded data removed]",
      "text/plain": [
       "<Figure size 1152x216 with 2 Axes>"
      ]
     },
     "metadata": {
      "needs_background": "light"
     },
     "output_type": "display_data"
    },
    {
     "data": {
      "text/plain": [
       "<Figure size 1152x216 with 0 Axes>"
      ]
     },
     "metadata": {},
     "output_type": "display_data"
    },
    {
     "data": {
      "image/png": "[encoded data removed]",
      "text/plain": [
       "<Figure size 1152x216 with 2 Axes>"
      ]
     },
     "metadata": {
      "needs_background": "light"
     },
     "output_type": "display_data"
    },
    {
     "data": {
      "text/plain": [
       "<Figure size 1152x216 with 0 Axes>"
      ]
     },
     "metadata": {},
     "output_type": "display_data"
    },
    {
     "data": {
      "image/png": "[encoded data removed]",
      "text/plain": [
       "<Figure size 1152x216 with 2 Axes>"
      ]
     },
     "metadata": {
      "needs_background": "light"
     },
     "output_type": "display_data"
    },
    {
     "data": {
      "text/plain": [
       "<Figure size 1152x216 with 0 Axes>"
      ]
     },
     "metadata": {},
     "output_type": "display_data"
    },
    {
     "data": {
      "image/png": "[encoded data removed]",
      "text/plain": [
       "<Figure size 1152x216 with 2 Axes>"
      ]
     },
     "metadata": {
      "needs_background": "light"
     },
     "output_type": "display_data"
    },
    {
     "data": {
      "text/plain": [
       "<Figure size 1152x216 with 0 Axes>"
      ]
     },
     "metadata": {},
     "output_type": "display_data"
    },
    {
     "data": {
      "image/png": "[encoded data removed]",
      "text/plain": [
       "<Figure size 1152x216 with 2 Axes>"
      ]
     },
     "metadata": {
      "needs_background": "light"
     },
     "output_type": "display_data"
    },
    {
     "data": {
      "text/plain": [
       "<Figure size 1152x216 with 0 Axes>"
      ]
     },
     "metadata": {},
     "output_type": "display_data"
    },
    {
     "data": {
      "image/png": "[encoded data removed]",
      "text/plain": [
       "<Figure size 1152x216 with 2 Axes>"
      ]
     },
     "metadata": {
      "needs_background": "light"
     },
     "output_type": "display_data"
    },
    {
     "data": {
      "text/plain": [
       "<Figure size 1152x216 with 0 Axes>"
      ]
     },
     "metadata": {},
     "output_type": "display_data"
    },
    {
     "data": {
      "image/png": "[encoded data removed]",
      "text/plain": [
       "<Figure size 1152x216 with 2 Axes>"
      ]
     },
     "metadata": {
      "needs_background": "light"
     },
     "output_type": "display_data"
    },
    {
     "data": {
      "text/plain": [
       "<Figure size 1152x216 with 0 Axes>"
      ]
     },
     "metadata": {},
     "output_type": "display_data"
    },
    {
     "data": {
      "image/png": "[encoded data removed]",
      "text/plain": [
       "<Figure size 1152x216 with 2 Axes>"
      ]
     },
     "metadata": {
      "needs_background": "light"
     },
     "output_type": "display_data"
    },
    {
     "data": {
      "text/plain": [
       "<Figure size 1152x216 with 0 Axes>"
      ]
     },
     "metadata": {},
     "output_type": "display_data"
    },
    {
     "data": {
      "image/png": "[encoded data removed]",
      "text/plain": [
       "<Figure size 1152x216 with 2 Axes>"
      ]
     },
     "metadata": {
      "needs_background": "light"
     },
     "output_type": "display_data"
    },
    {
     "data": {
      "text/plain": [
       "<Figure size 1152x216 with 0 Axes>"
      ]
     },
     "metadata": {},
     "output_type": "display_data"
    },
    {
     "data": {
      "image/png": "[encoded data removed]",
      "text/plain": [
       "<Figure size 1152x216 with 2 Axes>"
      ]
     },
     "metadata": {
      "needs_background": "light"
     },
     "output_type": "display_data"
    },
    {
     "data": {
      "text/plain": [
       "<Figure size 1152x216 with 0 Axes>"
      ]
     },
     "metadata": {},
     "output_type": "display_data"
    },
    {
     "data": {
      "image/png": "[encoded data removed]",
      "text/plain": [
       "<Figure size 1152x216 with 2 Axes>"
      ]
     },
     "metadata": {
      "needs_background": "light"
     },
     "output_type": "display_data"
    },
    {
     "data": {
      "text/plain": [
       "<Figure size 1152x216 with 0 Axes>"
      ]
     },
     "metadata": {},
     "output_type": "display_data"
    },
    {
     "data": {
      "image/png": "[encoded data removed]",
      "text/plain": [
       "<Figure size 1152x216 with 2 Axes>"
      ]
     },
     "metadata": {
      "needs_background": "light"
     },
     "output_type": "display_data"
    }
   ],
   "source": [
    "for k in tqdm(list_of_channels_calibrated):\n",
    "    figure(figsize(16,3))\n",
    "    fig, (ax1, ax2) = plt.subplots(1, 2)    \n",
    "    ax1.bar(xhist_calib[k][:-1],\n",
    "            yhist_calib[k][:],\n",
    "            width=xhist_calib[k][1]-xhist_calib[k][0],\n",
    "            label='ch_%d'%k)        \n",
    "    ax2.bar(xhist_not_calib[k][:-1],\n",
    "            yhist_not_calib[k],\n",
    "            width=xhist_calib[k][1]-xhist_calib[k][0],\n",
    "            label='ch_%d NOT CALIB'%k,\n",
    "            color=\"r\")  \n",
    "    ax1.set_yscale(\"log\")    \n",
    "    ax2.set_yscale(\"log\")    \n",
    "    ax1.legend()\n",
    "    ax2.legend()\n",
    "    fig.suptitle('TCSPC Histograms \\n')\n",
    "    ax1.set_xlim(0,laser_ps)\n",
    "    ax2.set_xlim(0,laser_ps)\n",
    "    ax1.set_xlabel('\\n Time [ps]')\n",
    "    ax2.set_xlabel('\\n Time [ps]')\n",
    "    ax1.set_ylabel('Counts \\n')\n",
    "    ax2.set_ylabel('Counts \\n')"
   ]
  },
  {
   "cell_type": "code",
   "execution_count": null,
   "metadata": {},
   "outputs": [],
   "source": []
  },
  {
   "cell_type": "code",
   "execution_count": null,
   "metadata": {},
   "outputs": [],
   "source": []
  },
  {
   "cell_type": "code",
   "execution_count": null,
   "metadata": {},
   "outputs": [],
   "source": []
  }
 ],
 "metadata": {
  "kernelspec": {
   "display_name": "Python 3 (ipykernel)",
   "language": "python",
   "name": "python3"
  },
  "language_info": {
   "codemirror_mode": {
    "name": "ipython",
    "version": 3
   },
   "file_extension": ".py",
   "mimetype": "text/x-python",
   "name": "python",
   "nbconvert_exporter": "python",
   "pygments_lexer": "ipython3",
   "version": "3.8.10"
  },
  "widgets": {
   "application/vnd.jupyter.widget-state+json": {
    "state": {
     "063bb99ed2dc4573bd32d75cbdcb25b5": {
      "model_module": "@jupyter-widgets/base",
      "model_module_version": "1.2.0",
      "model_name": "LayoutModel",
      "state": {}
     },
     "0955b11c3f964b8f81c170e23e1e3e23": {
      "model_module": "@jupyter-widgets/controls",
      "model_module_version": "1.5.0",
      "model_name": "HTMLModel",
      "state": {
       "layout": "IPY_MODEL_f17dbf6ebcf4413094292fd42d9d1f8b",
       "style": "IPY_MODEL_fb665615b73545e8826eb27a6d31a0ba",
       "value": "100%"
      }
     },
     "0d7bb0348aaa4c92a18e4cda2e7003bb": {
      "model_module": "@jupyter-widgets/controls",
      "model_module_version": "1.5.0",
      "model_name": "DescriptionStyleModel",
      "state": {
       "description_width": ""
      }
     },
     "10f9f1d45dd6441d98770531464a95de": {
      "model_module": "@jupyter-widgets/controls",
      "model_module_version": "1.5.0",
      "model_name": "DescriptionStyleModel",
      "state": {
       "description_width": ""
      }
     },
     "160ebee1d9cc416ba076a3dcb12c52ab": {
      "model_module": "@jupyter-widgets/controls",
      "model_module_version": "1.5.0",
      "model_name": "HTMLModel",
      "state": {
       "layout": "IPY_MODEL_e3afc18d72c44cd7828040727ca815c0",
       "style": "IPY_MODEL_a5abbccc0fc54be994a943c322573972",
       "value": " 25/25 [00:00&lt;00:00, 313.44it/s]"
      }
     },
     "1fd8f9341a864ab18a63bcc08a26d50c": {
      "model_module": "@jupyter-widgets/controls",
      "model_module_version": "1.5.0",
      "model_name": "FloatProgressModel",
      "state": {
       "bar_style": "success",
       "layout": "IPY_MODEL_287b89b24abf492fad66b6b382412d6e",
       "max": 25,
       "style": "IPY_MODEL_88447a73c22c4e69acc847bdcbdd9e35",
       "value": 25
      }
     },
     "20092e2919e94c9cbcfd9027d2c4e172": {
      "model_module": "@jupyter-widgets/controls",
      "model_module_version": "1.5.0",
      "model_name": "HBoxModel",
      "state": {
       "children": [
        "IPY_MODEL_0955b11c3f964b8f81c170e23e1e3e23",
        "IPY_MODEL_aadf19de65ff42c1975d3fe28cd98619",
        "IPY_MODEL_53cdb7a1774f4ea0aced98397f30d059"
       ],
       "layout": "IPY_MODEL_a7effac0acf14ff1bf1d3562ac71ad04"
      }
     },
     "226eadca15ef4b8294f0d5898624f508": {
      "model_module": "@jupyter-widgets/controls",
      "model_module_version": "1.5.0",
      "model_name": "HTMLModel",
      "state": {
       "layout": "IPY_MODEL_c9741367111347b6a1695b45e9536c91",
       "style": "IPY_MODEL_0d7bb0348aaa4c92a18e4cda2e7003bb",
       "value": " 25/25 [00:00&lt;00:00, 226.91it/s]"
      }
     },
     "243f4a9c606c4a2b85b18a609e16fad9": {
      "model_module": "@jupyter-widgets/controls",
      "model_module_version": "1.5.0",
      "model_name": "HBoxModel",
      "state": {
       "children": [
        "IPY_MODEL_71c5ef5f01354124856d7c2a7cf08ca7",
        "IPY_MODEL_6c84903768e34b2eac581a8c68cc906a",
        "IPY_MODEL_226eadca15ef4b8294f0d5898624f508"
       ],
       "layout": "IPY_MODEL_c70b00be34264ba099d66d9355425950"
      }
     },
     "287b89b24abf492fad66b6b382412d6e": {
      "model_module": "@jupyter-widgets/base",
      "model_module_version": "1.2.0",
      "model_name": "LayoutModel",
      "state": {}
     },
     "2ae8900ea2dd48618fe9ae99a2e83fc5": {
      "model_module": "@jupyter-widgets/controls",
      "model_module_version": "1.5.0",
      "model_name": "HTMLModel",
      "state": {
       "layout": "IPY_MODEL_980c319464014b16a9cb473221e54baf",
       "style": "IPY_MODEL_acee7a97a6894369908918ae56a284eb",
       "value": " 25/25 [00:06&lt;00:00,  3.30it/s]"
      }
     },
     "32ed08d29be74ed08078f0820a97ae6c": {
      "model_module": "@jupyter-widgets/base",
      "model_module_version": "1.2.0",
      "model_name": "LayoutModel",
      "state": {}
     },
     "364aba325c464c698901a440250f1879": {
      "model_module": "@jupyter-widgets/controls",
      "model_module_version": "1.5.0",
      "model_name": "HBoxModel",
      "state": {
       "children": [
        "IPY_MODEL_a2cdbcc927ba4a32a3b6bde57e1dae8f",
        "IPY_MODEL_d9952495f74c4565b31aa1d18b559d4d",
        "IPY_MODEL_160ebee1d9cc416ba076a3dcb12c52ab"
       ],
       "layout": "IPY_MODEL_cbcea8a73a984550b14b2e3c43a57c4a"
      }
     },
     "3be843e440184f97bcbadfdf7fe0af1e": {
      "model_module": "@jupyter-widgets/base",
      "model_module_version": "1.2.0",
      "model_name": "LayoutModel",
      "state": {}
     },
     "3e66e55462c74869b482ad6c58f3d1a0": {
      "model_module": "@jupyter-widgets/base",
      "model_module_version": "1.2.0",
      "model_name": "LayoutModel",
      "state": {}
     },
     "3f94d1aea9a14edea0b295ed75f25755": {
      "model_module": "@jupyter-widgets/base",
      "model_module_version": "1.2.0",
      "model_name": "LayoutModel",
      "state": {}
     },
     "53cdb7a1774f4ea0aced98397f30d059": {
      "model_module": "@jupyter-widgets/controls",
      "model_module_version": "1.5.0",
      "model_name": "HTMLModel",
      "state": {
       "layout": "IPY_MODEL_8a550ba9bb3d4787b64ea57886c213bf",
       "style": "IPY_MODEL_f14b404fdbae49b49ae61ec530685a84",
       "value": " 25/25 [00:00&lt;00:00, 471.89it/s]"
      }
     },
     "53d0b950c12843c7988f7916d361d4e1": {
      "model_module": "@jupyter-widgets/base",
      "model_module_version": "1.2.0",
      "model_name": "LayoutModel",
      "state": {}
     },
     "552471b10ace4ce2a1cc43e25e606834": {
      "model_module": "@jupyter-widgets/base",
      "model_module_version": "1.2.0",
      "model_name": "LayoutModel",
      "state": {}
     },
     "581e33a0d8444d5494bf467d7c63a44f": {
      "model_module": "@jupyter-widgets/controls",
      "model_module_version": "1.5.0",
      "model_name": "ProgressStyleModel",
      "state": {
       "description_width": ""
      }
     },
     "5913ba8c2fb84fbb8a8a9cab60369e12": {
      "model_module": "@jupyter-widgets/controls",
      "model_module_version": "1.5.0",
      "model_name": "DescriptionStyleModel",
      "state": {
       "description_width": ""
      }
     },
     "685d8693ffaa48be92293447e2ee383b": {
      "model_module": "@jupyter-widgets/controls",
      "model_module_version": "1.5.0",
      "model_name": "DescriptionStyleModel",
      "state": {
       "description_width": ""
      }
     },
     "6c84903768e34b2eac581a8c68cc906a": {
      "model_module": "@jupyter-widgets/controls",
      "model_module_version": "1.5.0",
      "model_name": "FloatProgressModel",
      "state": {
       "bar_style": "success",
       "layout": "IPY_MODEL_8b284025cbeb47ab910715a247b54542",
       "max": 25,
       "style": "IPY_MODEL_8136fc87f63a42be83c01e586e1d00c8",
       "value": 25
      }
     },
     "71c5ef5f01354124856d7c2a7cf08ca7": {
      "model_module": "@jupyter-widgets/controls",
      "model_module_version": "1.5.0",
      "model_name": "HTMLModel",
      "state": {
       "layout": "IPY_MODEL_552471b10ace4ce2a1cc43e25e606834",
       "style": "IPY_MODEL_8ce1fb121009460092c87c23744e24b0",
       "value": "100%"
      }
     },
     "8136fc87f63a42be83c01e586e1d00c8": {
      "model_module": "@jupyter-widgets/controls",
      "model_module_version": "1.5.0",
      "model_name": "ProgressStyleModel",
      "state": {
       "description_width": ""
      }
     },
     "8565548c33f641c08d2da855d9284fb2": {
      "model_module": "@jupyter-widgets/controls",
      "model_module_version": "1.5.0",
      "model_name": "HTMLModel",
      "state": {
       "layout": "IPY_MODEL_3be843e440184f97bcbadfdf7fe0af1e",
       "style": "IPY_MODEL_5913ba8c2fb84fbb8a8a9cab60369e12",
       "value": "100%"
      }
     },
     "88447a73c22c4e69acc847bdcbdd9e35": {
      "model_module": "@jupyter-widgets/controls",
      "model_module_version": "1.5.0",
      "model_name": "ProgressStyleModel",
      "state": {
       "description_width": ""
      }
     },
     "8a550ba9bb3d4787b64ea57886c213bf": {
      "model_module": "@jupyter-widgets/base",
      "model_module_version": "1.2.0",
      "model_name": "LayoutModel",
      "state": {}
     },
     "8b284025cbeb47ab910715a247b54542": {
      "model_module": "@jupyter-widgets/base",
      "model_module_version": "1.2.0",
      "model_name": "LayoutModel",
      "state": {}
     },
     "8ce1fb121009460092c87c23744e24b0": {
      "model_module": "@jupyter-widgets/controls",
      "model_module_version": "1.5.0",
      "model_name": "DescriptionStyleModel",
      "state": {
       "description_width": ""
      }
     },
     "8e5d17ec469a4bdcbdf7af0c9bc8fb35": {
      "model_module": "@jupyter-widgets/base",
      "model_module_version": "1.2.0",
      "model_name": "LayoutModel",
      "state": {}
     },
     "980c319464014b16a9cb473221e54baf": {
      "model_module": "@jupyter-widgets/base",
      "model_module_version": "1.2.0",
      "model_name": "LayoutModel",
      "state": {}
     },
     "996bd79727e949948f74c89b2fc65b80": {
      "model_module": "@jupyter-widgets/controls",
      "model_module_version": "1.5.0",
      "model_name": "HBoxModel",
      "state": {
       "children": [
        "IPY_MODEL_e06bd27d1d014cbc81890dd9d762d972",
        "IPY_MODEL_efa2a11c6da44ea48793cbedb23fabee",
        "IPY_MODEL_a1dfb6b5d4074aa38285d5679bca0e43"
       ],
       "layout": "IPY_MODEL_bedc28de3fd64c7092405cad560ce4ec"
      }
     },
     "9b9ac92a670d4136b8f49fba9bd2ab8f": {
      "model_module": "@jupyter-widgets/controls",
      "model_module_version": "1.5.0",
      "model_name": "HBoxModel",
      "state": {
       "children": [
        "IPY_MODEL_8565548c33f641c08d2da855d9284fb2",
        "IPY_MODEL_1fd8f9341a864ab18a63bcc08a26d50c",
        "IPY_MODEL_2ae8900ea2dd48618fe9ae99a2e83fc5"
       ],
       "layout": "IPY_MODEL_32ed08d29be74ed08078f0820a97ae6c"
      }
     },
     "a1dfb6b5d4074aa38285d5679bca0e43": {
      "model_module": "@jupyter-widgets/controls",
      "model_module_version": "1.5.0",
      "model_name": "HTMLModel",
      "state": {
       "layout": "IPY_MODEL_ccaf35539b6a4dd69e2fc504b7ae3547",
       "style": "IPY_MODEL_10f9f1d45dd6441d98770531464a95de",
       "value": " 25/25 [00:19&lt;00:00,  1.32it/s]"
      }
     },
     "a2cdbcc927ba4a32a3b6bde57e1dae8f": {
      "model_module": "@jupyter-widgets/controls",
      "model_module_version": "1.5.0",
      "model_name": "HTMLModel",
      "state": {
       "layout": "IPY_MODEL_063bb99ed2dc4573bd32d75cbdcb25b5",
       "style": "IPY_MODEL_de70eccbad3142eb9599b9aabd57c1a3",
       "value": "100%"
      }
     },
     "a5abbccc0fc54be994a943c322573972": {
      "model_module": "@jupyter-widgets/controls",
      "model_module_version": "1.5.0",
      "model_name": "DescriptionStyleModel",
      "state": {
       "description_width": ""
      }
     },
     "a7effac0acf14ff1bf1d3562ac71ad04": {
      "model_module": "@jupyter-widgets/base",
      "model_module_version": "1.2.0",
      "model_name": "LayoutModel",
      "state": {}
     },
     "aadf19de65ff42c1975d3fe28cd98619": {
      "model_module": "@jupyter-widgets/controls",
      "model_module_version": "1.5.0",
      "model_name": "FloatProgressModel",
      "state": {
       "bar_style": "success",
       "layout": "IPY_MODEL_53d0b950c12843c7988f7916d361d4e1",
       "max": 25,
       "style": "IPY_MODEL_ebebf8ef2cdc49619ecff3ecbd0be4ad",
       "value": 25
      }
     },
     "acee7a97a6894369908918ae56a284eb": {
      "model_module": "@jupyter-widgets/controls",
      "model_module_version": "1.5.0",
      "model_name": "DescriptionStyleModel",
      "state": {
       "description_width": ""
      }
     },
     "ba84ac5bb6394685b3c7d0b75648b70c": {
      "model_module": "@jupyter-widgets/controls",
      "model_module_version": "1.5.0",
      "model_name": "ProgressStyleModel",
      "state": {
       "description_width": ""
      }
     },
     "bedc28de3fd64c7092405cad560ce4ec": {
      "model_module": "@jupyter-widgets/base",
      "model_module_version": "1.2.0",
      "model_name": "LayoutModel",
      "state": {}
     },
     "c70b00be34264ba099d66d9355425950": {
      "model_module": "@jupyter-widgets/base",
      "model_module_version": "1.2.0",
      "model_name": "LayoutModel",
      "state": {}
     },
     "c9741367111347b6a1695b45e9536c91": {
      "model_module": "@jupyter-widgets/base",
      "model_module_version": "1.2.0",
      "model_name": "LayoutModel",
      "state": {}
     },
     "cbcea8a73a984550b14b2e3c43a57c4a": {
      "model_module": "@jupyter-widgets/base",
      "model_module_version": "1.2.0",
      "model_name": "LayoutModel",
      "state": {}
     },
     "ccaf35539b6a4dd69e2fc504b7ae3547": {
      "model_module": "@jupyter-widgets/base",
      "model_module_version": "1.2.0",
      "model_name": "LayoutModel",
      "state": {}
     },
     "d9952495f74c4565b31aa1d18b559d4d": {
      "model_module": "@jupyter-widgets/controls",
      "model_module_version": "1.5.0",
      "model_name": "FloatProgressModel",
      "state": {
       "bar_style": "success",
       "layout": "IPY_MODEL_8e5d17ec469a4bdcbdf7af0c9bc8fb35",
       "max": 25,
       "style": "IPY_MODEL_581e33a0d8444d5494bf467d7c63a44f",
       "value": 25
      }
     },
     "de70eccbad3142eb9599b9aabd57c1a3": {
      "model_module": "@jupyter-widgets/controls",
      "model_module_version": "1.5.0",
      "model_name": "DescriptionStyleModel",
      "state": {
       "description_width": ""
      }
     },
     "e06bd27d1d014cbc81890dd9d762d972": {
      "model_module": "@jupyter-widgets/controls",
      "model_module_version": "1.5.0",
      "model_name": "HTMLModel",
      "state": {
       "layout": "IPY_MODEL_3f94d1aea9a14edea0b295ed75f25755",
       "style": "IPY_MODEL_685d8693ffaa48be92293447e2ee383b",
       "value": "100%"
      }
     },
     "e3afc18d72c44cd7828040727ca815c0": {
      "model_module": "@jupyter-widgets/base",
      "model_module_version": "1.2.0",
      "model_name": "LayoutModel",
      "state": {}
     },
     "ebebf8ef2cdc49619ecff3ecbd0be4ad": {
      "model_module": "@jupyter-widgets/controls",
      "model_module_version": "1.5.0",
      "model_name": "ProgressStyleModel",
      "state": {
       "description_width": ""
      }
     },
     "efa2a11c6da44ea48793cbedb23fabee": {
      "model_module": "@jupyter-widgets/controls",
      "model_module_version": "1.5.0",
      "model_name": "FloatProgressModel",
      "state": {
       "bar_style": "success",
       "layout": "IPY_MODEL_3e66e55462c74869b482ad6c58f3d1a0",
       "max": 25,
       "style": "IPY_MODEL_ba84ac5bb6394685b3c7d0b75648b70c",
       "value": 25
      }
     },
     "f14b404fdbae49b49ae61ec530685a84": {
      "model_module": "@jupyter-widgets/controls",
      "model_module_version": "1.5.0",
      "model_name": "DescriptionStyleModel",
      "state": {
       "description_width": ""
      }
     },
     "f17dbf6ebcf4413094292fd42d9d1f8b": {
      "model_module": "@jupyter-widgets/base",
      "model_module_version": "1.2.0",
      "model_name": "LayoutModel",
      "state": {}
     },
     "fb665615b73545e8826eb27a6d31a0ba": {
      "model_module": "@jupyter-widgets/controls",
      "model_module_version": "1.5.0",
      "model_name": "DescriptionStyleModel",
      "state": {
       "description_width": ""
      }
     }
    },
    "version_major": 2,
    "version_minor": 0
   }
  }
 },
 "nbformat": 4,
 "nbformat_minor": 4
}
