{
 "cells": [
  {
   "cell_type": "markdown",
   "metadata": {},
   "source": [
    "# TCSPC Histogram Reconstruction\n",
    "Here an example how to read the raw data and create the Time-correlated single-photon counting (TCSPC) histogram of each channel."
   ]
  },
  {
   "cell_type": "code",
   "execution_count": 1,
   "metadata": {},
   "outputs": [
    {
     "name": "stdout",
     "output_type": "stream",
     "text": [
      "Populating the interactive namespace from numpy and matplotlib\n"
     ]
    }
   ],
   "source": [
    "%pylab inline\n",
    "import pandas\n",
    "from tqdm.notebook import tqdm\n",
    "import h5py\n",
    "import os\n",
    "import pandas"
   ]
  },
  {
   "cell_type": "markdown",
   "metadata": {},
   "source": [
    "Import the BrightEyes-TTM library (`libttp`)"
   ]
  },
  {
   "cell_type": "code",
   "execution_count": 2,
   "metadata": {},
   "outputs": [],
   "source": [
    "import libttp.ttp as ttp\n"
   ]
  },
  {
   "cell_type": "markdown",
   "metadata": {},
   "source": [
    "# Select Data & parameters"
   ]
  },
  {
   "cell_type": "code",
   "execution_count": 3,
   "metadata": {},
   "outputs": [],
   "source": [
    "filenameToRead=\"/YOURPATH/YOURFILE.ttr\"\n"
   ]
  },
  {
   "cell_type": "code",
   "execution_count": 4,
   "metadata": {},
   "outputs": [],
   "source": [
    "CHANNELS=25                              # Number of CHANNELS\n",
    "sysclk_MHz=240.                          # FPGA system clock (MHz)\n",
    "laser_MHz=80.                            # Laser repetition rate (MHz)\n",
    "laser_factor=1                           # Adimensional number to account for laser actual repetiton frequency (default = 1)\n",
    "list_of_channels = np.arange(0,CHANNELS) # List of channels to analyse (it must be a numpy.array)\n",
    "kC4=48                                   # Time width of TCSPC histogram bin in [ps] (default = 48ps)"
   ]
  },
  {
   "cell_type": "markdown",
   "metadata": {},
   "source": [
    "#### Define the output HDF5 filename "
   ]
  },
  {
   "cell_type": "code",
   "execution_count": 5,
   "metadata": {},
   "outputs": [],
   "source": [
    "filenameHDF5=filenameToRead+\".h5\""
   ]
  },
  {
   "cell_type": "markdown",
   "metadata": {},
   "source": [
    "## Read the Raw file (protocol v2.0) and create the dataframe"
   ]
  },
  {
   "cell_type": "code",
   "execution_count": 6,
   "metadata": {},
   "outputs": [
    {
     "name": "stdout",
     "output_type": "stream",
     "text": [
      "0 -1\n",
      "File total size in uint16 units: 149726248\n",
      "-1\n",
      "File read size in uint16 units: 149726248\n",
      "Channels: 25\n",
      "MAXWORD: 30\n",
      "28852539\n",
      "data read\n",
      "i) added column\n",
      "ii) added pixel, line, frame\n",
      "iii) added 'steps' bytes\n",
      "         assume step 16-bit long\n",
      "iv) calculate 'step'\n",
      "Index(['id_0', 'id_1', 'id_2', 'id_3', 'id_4', 'id_5', 'id_6', 'id_7', 'id_8',\n",
      "       'id_9', 'id_10', 'id_11', 'id_12', 'id_13', 'id_14', 'id_15', 'id_16',\n",
      "       'id_17', 'id_18', 'id_19', 'id_20', 'id_21', 'id_22', 'id_23', 'id_24',\n",
      "       'id_25', 'id_26', 'id_27', 'id_28', 'id_29', 'valid_tdc_0',\n",
      "       'valid_tdc_1', 'valid_tdc_2', 'valid_tdc_3', 'valid_tdc_4',\n",
      "       'valid_tdc_5', 'valid_tdc_6', 'valid_tdc_7', 'valid_tdc_8',\n",
      "       'valid_tdc_9', 'valid_tdc_10', 'valid_tdc_11', 'valid_tdc_12',\n",
      "       'valid_tdc_13', 'valid_tdc_14', 'valid_tdc_15', 'valid_tdc_16',\n",
      "       'valid_tdc_17', 'valid_tdc_18', 'valid_tdc_19', 'valid_tdc_20',\n",
      "       'valid_tdc_21', 'valid_tdc_22', 'valid_tdc_23', 'valid_tdc_24',\n",
      "       'valid_dummy', 'valid_tdc_L', 'valid_27', 'valid_28', 'valid_29', 't_0',\n",
      "       't_1', 't_2', 't_3', 't_4', 't_5', 't_6', 't_7', 't_8', 't_9', 't_10',\n",
      "       't_11', 't_12', 't_13', 't_14', 't_15', 't_16', 't_17', 't_18', 't_19',\n",
      "       't_20', 't_21', 't_22', 't_23', 't_24', 'dummy', 't_L', 'data_27',\n",
      "       'data_28', 'data_29', 'pixel_enable', 'scan_enable', 'line_enable',\n",
      "       'step'],\n",
      "      dtype='object')\n",
      "Applied reorder channel on 25 channel 5x5 detector connected to the TTM\n"
     ]
    }
   ],
   "source": [
    "df = ttp.readNewProtocolFileToPandas(\n",
    "    filenameIn=filenameToRead,\n",
    "    reorder_channels=True, #needed for 25 channel otherwise the channel will not respect the order\n",
    "    CHANNELS=CHANNELS,\n",
    "    force_16bit_step=True)"
   ]
  },
  {
   "cell_type": "markdown",
   "metadata": {},
   "source": [
    "#### Check if any `valid_laser` signals is present"
   ]
  },
  {
   "cell_type": "code",
   "execution_count": 7,
   "metadata": {},
   "outputs": [
    {
     "name": "stdout",
     "output_type": "stream",
     "text": [
      "valid_tdc_L 15440341\n"
     ]
    }
   ],
   "source": [
    "count_L=count_nonzero(df[\"valid_tdc_L\"])\n",
    "if count_L==0:\n",
    "    print(\"No valid_tdc_L found. Check your Laser SYNC.\")\n",
    "else:\n",
    "    print(\"valid_tdc_L\", count_L)"
   ]
  },
  {
   "cell_type": "markdown",
   "metadata": {},
   "source": [
    "#### A quick preview of the total counts on each channel"
   ]
  },
  {
   "cell_type": "code",
   "execution_count": 8,
   "metadata": {},
   "outputs": [
    {
     "name": "stdout",
     "output_type": "stream",
     "text": [
      "[[ 308437.  540666.  516823.  482632.  348259.]\n",
      " [ 415735.  779450.  972624.  889469.  619580.]\n",
      " [ 541080. 1059215. 1378896. 1128908.  671962.]\n",
      " [ 495855.  910601. 1220114.  971682.  636053.]\n",
      " [ 429716.  573104.  696498.  597887.  426957.]]\n"
     ]
    },
    {
     "data": {
      "image/png": "[encoded data removed]",
      "text/plain": [
       "<Figure size 360x360 with 2 Axes>"
      ]
     },
     "metadata": {
      "needs_background": "light"
     },
     "output_type": "display_data"
    }
   ],
   "source": [
    "valids=np.zeros(CHANNELS)\n",
    "for i in range(0,CHANNELS):\n",
    "    valids[i]=count_nonzero(df[\"valid_tdc_%d\"%i])\n",
    "if CHANNELS==25:\n",
    "    figure(figsize(5,5))\n",
    "    valids=asarray(valids).reshape((5,5))\n",
    "    imshow(valids)\n",
    "    colorbar()\n",
    "elif CHANNELS==49:\n",
    "    figure(figsize(5,5))\n",
    "    valids=asarray(valids).reshape((7,7))\n",
    "    imshow(valids)\n",
    "    colorbar()\n",
    "\n",
    "print(valids)\n"
   ]
  },
  {
   "cell_type": "markdown",
   "metadata": {},
   "source": [
    "#### Set some useful calculate some useful parameter"
   ]
  },
  {
   "cell_type": "code",
   "execution_count": 9,
   "metadata": {},
   "outputs": [
    {
     "name": "stdout",
     "output_type": "stream",
     "text": [
      "SysClk ps: 4166.666666666667\n",
      "LaserClk ps: 12500.0\n",
      "actual kC4 48.07692307692308\n"
     ]
    }
   ],
   "source": [
    "laser_MHz=laser_MHz*laser_factor\n",
    "laser_Hz=laser_MHz*10**6\n",
    "max_counter=2**16-1\n",
    "sysclk_ps=1000000./sysclk_MHz #ps\n",
    "print(\"SysClk ps:\", sysclk_ps)\n",
    "laser_ps=1000000./laser_MHz #ps\n",
    "print(\"LaserClk ps:\", laser_ps)\n",
    "ratio=sysclk_MHz/laser_MHz\n",
    "sysclk_ps=1e6/sysclk_MHz\n",
    "laser_ps=1e6/laser_MHz\n",
    "nbins=int(round(laser_ps/kC4))\n",
    "print(\"actual kC4\", laser_ps/nbins)"
   ]
  },
  {
   "cell_type": "markdown",
   "metadata": {},
   "source": [
    "# Data frame conversion to H5 format"
   ]
  },
  {
   "cell_type": "code",
   "execution_count": 10,
   "metadata": {
    "scrolled": true
   },
   "outputs": [
    {
     "name": "stdout",
     "output_type": "stream",
     "text": [
      "Calculate rates \n",
      "Calculate cumulative step \n",
      "Add cumulativeStep\n",
      "Acquisition lasted:  54.083897416666666 s\n",
      "Scan_enable 9.0 ratio 3.119309642708035e-07 rate 0.16640812570631294\n",
      "line_enable 37362.0 ratio 0.0012949294096761955 rate 690.8155991821404\n",
      "pixel_enable 262144.0 ratio 0.009085647855311723 rate 4846.987967239522\n",
      "Laser 15440341.0 ratio 0.5351467174222246 rate 285488.6895640375\n",
      "Calculate totalphotons \n",
      "start the sum\n",
      "sum done\n",
      "kC4<=== 48\n",
      "sysclk_ps<=== 4166.666666666667\n",
      "kC4<=== 47.89272030651341\n",
      "Start process\n",
      "Start analysisForImg\n",
      "Arrays copied into analysisForImg\n"
     ]
    },
    {
     "name": "stderr",
     "output_type": "stream",
     "text": [
      "Current frame: 1 \t: : 29141025it [00:07, 3758082.68it/s]                                                                                                                                                            \n"
     ]
    },
    {
     "name": "stdout",
     "output_type": "stream",
     "text": [
      "Total Frame: 1\n",
      "New HDF5 written\n",
      "total_photon        uint8\n",
      "cumulative_step     int64\n",
      "arr_px             uint16\n",
      "arr_px_corr        uint16\n",
      "arr_py             uint16\n",
      "arr_frame          uint16\n",
      "dtype: object\n"
     ]
    },
    {
     "name": "stderr",
     "output_type": "stream",
     "text": [
      "  0%|                                                                                                                                                                                        | 0/25 [00:00<?, ?it/s]"
     ]
    },
    {
     "name": "stdout",
     "output_type": "stream",
     "text": [
      "Start conversion of 0 channel\n",
      "t_0 valid_tdc_0\n",
      "..\n",
      "...\n"
     ]
    },
    {
     "name": "stderr",
     "output_type": "stream",
     "text": [
      "\n",
      "  0%|                                                                                                                                                                                  | 0/15699959 [00:00<?, ?it/s]\u001b[A\n",
      " 26%|█████████████████████████████████████████                                                                                                                     | 4081974/15699959 [00:00<00:00, 39890493.91it/s]\u001b[A"
     ]
    },
    {
     "name": "stdout",
     "output_type": "stream",
     "text": [
      "starting loop\n"
     ]
    },
    {
     "name": "stderr",
     "output_type": "stream",
     "text": [
      "\n",
      " 54%|█████████████████████████████████████████████████████████████████████████████████████▎                                                                        | 8477946/15699959 [00:00<00:00, 41294009.31it/s]\u001b[A\n",
      "15856899it [00:00, 37594754.66it/s]                                                                                                                                                                                 \u001b[A\n",
      "  4%|███████                                                                                                                                                                         | 1/25 [00:05<02:17,  5.72s/it]"
     ]
    },
    {
     "name": "stdout",
     "output_type": "stream",
     "text": [
      "Data ready, conversion to array\n",
      "Adding keys to HDF5...  \"ch_0\"\n",
      "t_0      int16\n",
      "t_L      int16\n",
      "dS_0    uint16\n",
      "dtype: object\n",
      "Start conversion of 1 channel\n",
      "t_1 valid_tdc_1\n",
      "..\n",
      "...\n"
     ]
    },
    {
     "name": "stderr",
     "output_type": "stream",
     "text": [
      "\n",
      "  0%|                                                                                                                                                                                  | 0/15870469 [00:00<?, ?it/s]\u001b[A\n",
      " 29%|█████████████████████████████████████████████▊                                                                                                                | 4602416/15870469 [00:00<00:00, 45799916.10it/s]\u001b[A"
     ]
    },
    {
     "name": "stdout",
     "output_type": "stream",
     "text": [
      "starting loop\n"
     ]
    },
    {
     "name": "stderr",
     "output_type": "stream",
     "text": [
      "\n",
      " 58%|███████████████████████████████████████████████████████████████████████████████████████████▋                                                                  | 9204832/15870469 [00:00<00:00, 41030815.39it/s]\u001b[A\n",
      "16029104it [00:00, 39527287.16it/s]                                                                                                                                                                                 \u001b[A\n"
     ]
    },
    {
     "name": "stdout",
     "output_type": "stream",
     "text": [
      "Data ready, conversion to array\n",
      "Adding keys to HDF5...  \"ch_1\"\n"
     ]
    },
    {
     "name": "stderr",
     "output_type": "stream",
     "text": [
      "  8%|██████████████                                                                                                                                                                  | 2/25 [00:11<02:15,  5.87s/it]"
     ]
    },
    {
     "name": "stdout",
     "output_type": "stream",
     "text": [
      "t_1      int16\n",
      "t_L      int16\n",
      "dS_1    uint16\n",
      "dtype: object\n",
      "Start conversion of 2 channel\n",
      "t_2 valid_tdc_2\n",
      "..\n",
      "...\n"
     ]
    },
    {
     "name": "stderr",
     "output_type": "stream",
     "text": [
      "\n",
      "  0%|                                                                                                                                                                                  | 0/15880856 [00:00<?, ?it/s]\u001b[A\n",
      " 27%|██████████████████████████████████████████▋                                                                                                                   | 4287816/15880856 [00:00<00:00, 42688386.52it/s]\u001b[A"
     ]
    },
    {
     "name": "stdout",
     "output_type": "stream",
     "text": [
      "starting loop\n"
     ]
    },
    {
     "name": "stderr",
     "output_type": "stream",
     "text": [
      "\n",
      " 54%|█████████████████████████████████████████████████████████████████████████████████████▎                                                                        | 8575632/15880856 [00:00<00:00, 36988001.09it/s]\u001b[A\n",
      "16039608it [00:00, 37817566.12it/s]                                                                                                                                                                                 \u001b[A\n"
     ]
    },
    {
     "name": "stdout",
     "output_type": "stream",
     "text": [
      "Data ready, conversion to array\n",
      "Adding keys to HDF5...  \"ch_2\"\n"
     ]
    },
    {
     "name": "stderr",
     "output_type": "stream",
     "text": [
      " 12%|█████████████████████                                                                                                                                                           | 3/25 [00:17<02:09,  5.88s/it]"
     ]
    },
    {
     "name": "stdout",
     "output_type": "stream",
     "text": [
      "t_2      int16\n",
      "t_L      int16\n",
      "dS_2    uint16\n",
      "dtype: object\n",
      "Start conversion of 3 channel\n",
      "t_3 valid_tdc_3\n",
      "..\n",
      "...\n"
     ]
    },
    {
     "name": "stderr",
     "output_type": "stream",
     "text": [
      "\n",
      "  0%|                                                                                                                                                                                  | 0/15836904 [00:00<?, ?it/s]\u001b[A\n",
      " 26%|█████████████████████████████████████████                                                                                                                     | 4117594/15836904 [00:00<00:00, 40162882.22it/s]\u001b[A"
     ]
    },
    {
     "name": "stdout",
     "output_type": "stream",
     "text": [
      "starting loop\n"
     ]
    },
    {
     "name": "stderr",
     "output_type": "stream",
     "text": [
      "\n",
      " 57%|██████████████████████████████████████████████████████████████████████████████████████████                                                                    | 9027033/15836904 [00:00<00:00, 44607584.32it/s]\u001b[A\n",
      "15995269it [00:00, 45656462.09it/s]                                                                                                                                                                                 \u001b[A\n"
     ]
    },
    {
     "name": "stdout",
     "output_type": "stream",
     "text": [
      "Data ready, conversion to array\n",
      "Adding keys to HDF5...  \"ch_3\"\n"
     ]
    },
    {
     "name": "stderr",
     "output_type": "stream",
     "text": [
      " 16%|████████████████████████████▏                                                                                                                                                   | 4/25 [00:23<02:04,  5.91s/it]"
     ]
    },
    {
     "name": "stdout",
     "output_type": "stream",
     "text": [
      "t_3      int16\n",
      "t_L      int16\n",
      "dS_3    uint16\n",
      "dtype: object\n",
      "Start conversion of 4 channel\n",
      "t_4 valid_tdc_4\n",
      "..\n",
      "...\n"
     ]
    },
    {
     "name": "stderr",
     "output_type": "stream",
     "text": [
      "\n",
      "  0%|                                                                                                                                                                                  | 0/15741734 [00:00<?, ?it/s]\u001b[A\n",
      " 33%|████████████████████████████████████████████████████▏                                                                                                         | 5194761/15741734 [00:00<00:00, 49165117.61it/s]\u001b[A"
     ]
    },
    {
     "name": "stdout",
     "output_type": "stream",
     "text": [
      "starting loop\n"
     ]
    },
    {
     "name": "stderr",
     "output_type": "stream",
     "text": [
      "\n",
      " 65%|██████████████████████████████████████████████████████████████████████████████████████████████████████                                                       | 10232105/15741734 [00:00<00:00, 42105081.67it/s]\u001b[A\n",
      "15899117it [00:00, 40432183.40it/s]                                                                                                                                                                                 \u001b[A\n",
      " 20%|███████████████████████████████████▏                                                                                                                                            | 5/25 [00:29<01:56,  5.83s/it]"
     ]
    },
    {
     "name": "stdout",
     "output_type": "stream",
     "text": [
      "Data ready, conversion to array\n",
      "Adding keys to HDF5...  \"ch_4\"\n",
      "t_4      int16\n",
      "t_L      int16\n",
      "dS_4    uint16\n",
      "dtype: object\n",
      "Start conversion of 5 channel\n",
      "t_5 valid_tdc_5\n",
      "..\n",
      "...\n"
     ]
    },
    {
     "name": "stderr",
     "output_type": "stream",
     "text": [
      "\n",
      "  0%|                                                                                                                                                                                  | 0/15776034 [00:00<?, ?it/s]\u001b[A\n",
      " 35%|███████████████████████████████████████████████████████▎                                                                                                      | 5521600/15776034 [00:00<00:00, 54894483.51it/s]\u001b[A"
     ]
    },
    {
     "name": "stdout",
     "output_type": "stream",
     "text": [
      "starting loop\n"
     ]
    },
    {
     "name": "stderr",
     "output_type": "stream",
     "text": [
      "\n",
      " 70%|█████████████████████████████████████████████████████████████████████████████████████████████████████████████▉                                               | 11043200/15776034 [00:00<00:00, 48336566.85it/s]\u001b[A\n",
      "15933760it [00:00, 45789138.42it/s]                                                                                                                                                                                 \u001b[A\n",
      " 24%|██████████████████████████████████████████▏                                                                                                                                     | 6/25 [00:34<01:50,  5.79s/it]"
     ]
    },
    {
     "name": "stdout",
     "output_type": "stream",
     "text": [
      "Data ready, conversion to array\n",
      "Adding keys to HDF5...  \"ch_5\"\n",
      "t_5      int16\n",
      "t_L      int16\n",
      "dS_5    uint16\n",
      "dtype: object\n",
      "Start conversion of 6 channel\n",
      "t_6 valid_tdc_6\n",
      "..\n",
      "...\n"
     ]
    },
    {
     "name": "stderr",
     "output_type": "stream",
     "text": [
      "\n",
      "  0%|                                                                                                                                                                                  | 0/16079496 [00:00<?, ?it/s]\u001b[A\n",
      " 22%|██████████████████████████████████▊                                                                                                                           | 3537468/16079496 [00:00<00:00, 35232416.54it/s]\u001b[A"
     ]
    },
    {
     "name": "stdout",
     "output_type": "stream",
     "text": [
      "starting loop\n"
     ]
    },
    {
     "name": "stderr",
     "output_type": "stream",
     "text": [
      "\n",
      " 44%|█████████████████████████████████████████████████████████████████████▌                                                                                        | 7074936/16079496 [00:00<00:00, 34111873.41it/s]\u001b[A\n",
      " 67%|█████████████████████████████████████████████████████████████████████████████████████████████████████████▏                                                   | 10773198/16079496 [00:00<00:00, 35219027.07it/s]\u001b[A\n",
      "16240194it [00:00, 34091513.87it/s]                                                                                                                                                                                 \u001b[A\n"
     ]
    },
    {
     "name": "stdout",
     "output_type": "stream",
     "text": [
      "Data ready, conversion to array\n",
      "Adding keys to HDF5...  \"ch_6\"\n"
     ]
    },
    {
     "name": "stderr",
     "output_type": "stream",
     "text": [
      " 28%|█████████████████████████████████████████████████▎                                                                                                                              | 7/25 [00:41<01:47,  5.99s/it]"
     ]
    },
    {
     "name": "stdout",
     "output_type": "stream",
     "text": [
      "t_6      int16\n",
      "t_L      int16\n",
      "dS_6    uint16\n",
      "dtype: object\n",
      "Start conversion of 7 channel\n",
      "t_7 valid_tdc_7\n",
      "..\n",
      "...\n"
     ]
    },
    {
     "name": "stderr",
     "output_type": "stream",
     "text": [
      "\n",
      "  0%|                                                                                                                                                                                  | 0/16197743 [00:00<?, ?it/s]\u001b[A\n",
      " 17%|██████████████████████████▊                                                                                                                                   | 2753609/16197743 [00:00<00:00, 26283688.45it/s]\u001b[A"
     ]
    },
    {
     "name": "stdout",
     "output_type": "stream",
     "text": [
      "starting loop\n"
     ]
    },
    {
     "name": "stderr",
     "output_type": "stream",
     "text": [
      "\n",
      " 37%|██████████████████████████████████████████████████████████▍                                                                                                   | 5993149/16197743 [00:00<00:00, 29506596.36it/s]\u001b[A\n",
      " 58%|███████████████████████████████████████████████████████████████████████████████████████████▋                                                                  | 9394666/16197743 [00:00<00:00, 31332904.71it/s]\u001b[A\n",
      " 78%|██████████████████████████████████████████████████████████████████████████████████████████████████████████████████████████▍                                  | 12634206/16197743 [00:00<00:00, 28083186.27it/s]\u001b[A\n",
      "16359677it [00:00, 27082859.84it/s]                                                                                                                                                                                 \u001b[A\n"
     ]
    },
    {
     "name": "stdout",
     "output_type": "stream",
     "text": [
      "Data ready, conversion to array\n",
      "Adding keys to HDF5...  \"ch_7\"\n"
     ]
    },
    {
     "name": "stderr",
     "output_type": "stream",
     "text": [
      " 32%|████████████████████████████████████████████████████████▎                                                                                                                       | 8/25 [00:48<01:45,  6.23s/it]"
     ]
    },
    {
     "name": "stdout",
     "output_type": "stream",
     "text": [
      "t_7      int16\n",
      "t_L      int16\n",
      "dS_7    uint16\n",
      "dtype: object\n",
      "Start conversion of 8 channel\n",
      "t_8 valid_tdc_8\n",
      "..\n",
      "...\n"
     ]
    },
    {
     "name": "stderr",
     "output_type": "stream",
     "text": [
      "\n",
      "  0%|                                                                                                                                                                                  | 0/16190478 [00:00<?, ?it/s]\u001b[A\n",
      " 20%|███████████████████████████████▌                                                                                                                              | 3238080/16190478 [00:00<00:00, 32003289.28it/s]\u001b[A"
     ]
    },
    {
     "name": "stdout",
     "output_type": "stream",
     "text": [
      "starting loop\n"
     ]
    },
    {
     "name": "stderr",
     "output_type": "stream",
     "text": [
      "\n",
      " 40%|███████████████████████████████████████████████████████████████▏                                                                                              | 6476160/16190478 [00:00<00:00, 26770385.07it/s]\u001b[A\n",
      " 59%|█████████████████████████████████████████████████████████████████████████████████████████████▏                                                                | 9552336/16190478 [00:00<00:00, 28324060.63it/s]\u001b[A\n",
      " 77%|████████████████████████████████████████████████████████████████████████████████████████████████████████████████████████▉                                    | 12466608/16190478 [00:00<00:00, 27536470.57it/s]\u001b[A\n",
      "16352304it [00:00, 29497935.20it/s]                                                                                                                                                                                 \u001b[A\n"
     ]
    },
    {
     "name": "stdout",
     "output_type": "stream",
     "text": [
      "Data ready, conversion to array\n",
      "Adding keys to HDF5...  \"ch_8\"\n"
     ]
    },
    {
     "name": "stderr",
     "output_type": "stream",
     "text": [
      " 36%|███████████████████████████████████████████████████████████████▎                                                                                                                | 9/25 [00:54<01:42,  6.40s/it]"
     ]
    },
    {
     "name": "stdout",
     "output_type": "stream",
     "text": [
      "t_8      int16\n",
      "t_L      int16\n",
      "dS_8    uint16\n",
      "dtype: object\n",
      "Start conversion of 9 channel\n",
      "t_9 valid_tdc_9\n",
      "..\n",
      "...\n"
     ]
    },
    {
     "name": "stderr",
     "output_type": "stream",
     "text": [
      "\n",
      "  0%|                                                                                                                                                                                  | 0/15947258 [00:00<?, ?it/s]\u001b[A\n",
      " 28%|████████████████████████████████████████████▏                                                                                                                 | 4465216/15947258 [00:00<00:00, 44097501.16it/s]\u001b[A"
     ]
    },
    {
     "name": "stdout",
     "output_type": "stream",
     "text": [
      "starting loop\n"
     ]
    },
    {
     "name": "stderr",
     "output_type": "stream",
     "text": [
      "\n",
      " 56%|████████████████████████████████████████████████████████████████████████████████████████▍                                                                     | 8930432/15947258 [00:00<00:00, 43643416.33it/s]\u001b[A\n",
      "16106672it [00:00, 36138527.31it/s]                                                                                                                                                                                 \u001b[A\n"
     ]
    },
    {
     "name": "stdout",
     "output_type": "stream",
     "text": [
      "Data ready, conversion to array\n",
      "Adding keys to HDF5...  \"ch_9\"\n"
     ]
    },
    {
     "name": "stderr",
     "output_type": "stream",
     "text": [
      " 40%|██████████████████████████████████████████████████████████████████████                                                                                                         | 10/25 [01:01<01:35,  6.36s/it]"
     ]
    },
    {
     "name": "stdout",
     "output_type": "stream",
     "text": [
      "t_9      int16\n",
      "t_L      int16\n",
      "dS_9    uint16\n",
      "dtype: object\n",
      "Start conversion of 10 channel\n",
      "t_10 valid_tdc_10\n",
      "..\n",
      "...\n"
     ]
    },
    {
     "name": "stderr",
     "output_type": "stream",
     "text": [
      "\n",
      "  0%|                                                                                                                                                                                  | 0/15909226 [00:00<?, ?it/s]\u001b[A\n",
      " 23%|████████████████████████████████████▎                                                                                                                         | 3659116/15909226 [00:00<00:00, 36424975.50it/s]\u001b[A"
     ]
    },
    {
     "name": "stdout",
     "output_type": "stream",
     "text": [
      "starting loop\n"
     ]
    },
    {
     "name": "stderr",
     "output_type": "stream",
     "text": [
      "\n",
      " 53%|███████████████████████████████████████████████████████████████████████████████████▋                                                                          | 8431876/15909226 [00:00<00:00, 42192966.67it/s]\u001b[A\n",
      "16068292it [00:00, 37355522.11it/s]                                                                                                                                                                                 \u001b[A\n"
     ]
    },
    {
     "name": "stdout",
     "output_type": "stream",
     "text": [
      "Data ready, conversion to array\n",
      "Adding keys to HDF5...  \"ch_10\"\n"
     ]
    },
    {
     "name": "stderr",
     "output_type": "stream",
     "text": [
      " 44%|█████████████████████████████████████████████████████████████████████████████                                                                                                  | 11/25 [01:07<01:27,  6.28s/it]"
     ]
    },
    {
     "name": "stdout",
     "output_type": "stream",
     "text": [
      "t_10      int16\n",
      "t_L       int16\n",
      "dS_10    uint16\n",
      "dtype: object\n",
      "Start conversion of 11 channel\n",
      "t_11 valid_tdc_11\n",
      "..\n",
      "...\n"
     ]
    },
    {
     "name": "stderr",
     "output_type": "stream",
     "text": [
      "\n",
      "  0%|                                                                                                                                                                                  | 0/16288999 [00:00<?, ?it/s]\u001b[A\n",
      " 18%|████████████████████████████▍                                                                                                                                 | 2932002/16288999 [00:00<00:00, 28955881.65it/s]\u001b[A"
     ]
    },
    {
     "name": "stdout",
     "output_type": "stream",
     "text": [
      "starting loop\n"
     ]
    },
    {
     "name": "stderr",
     "output_type": "stream",
     "text": [
      "\n",
      " 37%|██████████████████████████████████████████████████████████▍                                                                                                   | 6026893/16288999 [00:00<00:00, 29720371.91it/s]\u001b[A\n",
      " 56%|████████████████████████████████████████████████████████████████████████████████████████▍                                                                     | 9121784/16288999 [00:00<00:00, 26906396.54it/s]\u001b[A\n",
      " 78%|██████████████████████████████████████████████████████████████████████████████████████████████████████████████████████████▍                                  | 12705342/16288999 [00:00<00:00, 30142383.03it/s]\u001b[A\n",
      "16451789it [00:00, 30515778.62it/s]                                                                                                                                                                                 \u001b[A\n"
     ]
    },
    {
     "name": "stdout",
     "output_type": "stream",
     "text": [
      "Data ready, conversion to array\n",
      "Adding keys to HDF5...  \"ch_11\"\n"
     ]
    },
    {
     "name": "stderr",
     "output_type": "stream",
     "text": [
      " 48%|████████████████████████████████████████████████████████████████████████████████████                                                                                           | 12/25 [01:13<01:22,  6.35s/it]"
     ]
    },
    {
     "name": "stdout",
     "output_type": "stream",
     "text": [
      "t_11      int16\n",
      "t_L       int16\n",
      "dS_11    uint16\n",
      "dtype: object\n",
      "Start conversion of 12 channel\n",
      "t_12 valid_tdc_12\n",
      "..\n",
      "...\n"
     ]
    },
    {
     "name": "stderr",
     "output_type": "stream",
     "text": [
      "\n",
      "  0%|                                                                                                                                                                                  | 0/16454692 [00:00<?, ?it/s]\u001b[A\n",
      " 21%|█████████████████████████████████▏                                                                                                                            | 3455466/16454692 [00:00<00:00, 33307383.34it/s]\u001b[A"
     ]
    },
    {
     "name": "stdout",
     "output_type": "stream",
     "text": [
      "starting loop\n"
     ]
    },
    {
     "name": "stderr",
     "output_type": "stream",
     "text": [
      "\n",
      " 42%|██████████████████████████████████████████████████████████████████▎                                                                                           | 6910932/16454692 [00:00<00:00, 26783587.09it/s]\u001b[A\n",
      " 61%|███████████████████████████████████████████████████████████████████████████████████████████████▊                                                             | 10037306/16454692 [00:00<00:00, 28437578.88it/s]\u001b[A\n",
      " 79%|████████████████████████████████████████████████████████████████████████████████████████████████████████████████████████████                                 | 12999134/16454692 [00:00<00:00, 27221070.91it/s]\u001b[A\n",
      "16619146it [00:00, 26917667.90it/s]                                                                                                                                                                                 \u001b[A\n"
     ]
    },
    {
     "name": "stdout",
     "output_type": "stream",
     "text": [
      "Data ready, conversion to array\n",
      "Adding keys to HDF5...  \"ch_12\"\n"
     ]
    },
    {
     "name": "stderr",
     "output_type": "stream",
     "text": [
      " 52%|███████████████████████████████████████████████████████████████████████████████████████████                                                                                    | 13/25 [01:20<01:17,  6.46s/it]"
     ]
    },
    {
     "name": "stdout",
     "output_type": "stream",
     "text": [
      "t_12      int16\n",
      "t_L       int16\n",
      "dS_12    uint16\n",
      "dtype: object\n",
      "Start conversion of 13 channel\n",
      "t_13 valid_tdc_13\n",
      "..\n",
      "...\n"
     ]
    },
    {
     "name": "stderr",
     "output_type": "stream",
     "text": [
      "\n",
      "  0%|                                                                                                                                                                                  | 0/16374333 [00:00<?, ?it/s]\u001b[A\n",
      " 22%|██████████████████████████████████▊                                                                                                                           | 3602346/16374333 [00:00<00:00, 35665167.54it/s]\u001b[A"
     ]
    },
    {
     "name": "stdout",
     "output_type": "stream",
     "text": [
      "starting loop\n"
     ]
    },
    {
     "name": "stderr",
     "output_type": "stream",
     "text": [
      "\n",
      " 44%|█████████████████████████████████████████████████████████████████████▌                                                                                        | 7204692/16374333 [00:00<00:00, 30959742.73it/s]\u001b[A\n",
      " 64%|████████████████████████████████████████████████████████████████████████████████████████████████████▍                                                        | 10479552/16374333 [00:00<00:00, 30273958.08it/s]\u001b[A\n",
      "16538043it [00:00, 32204597.84it/s]                                                                                                                                                                                 \u001b[A\n"
     ]
    },
    {
     "name": "stdout",
     "output_type": "stream",
     "text": [
      "Data ready, conversion to array\n",
      "Adding keys to HDF5...  \"ch_13\"\n"
     ]
    },
    {
     "name": "stderr",
     "output_type": "stream",
     "text": [
      " 56%|██████████████████████████████████████████████████████████████████████████████████████████████████                                                                             | 14/25 [01:26<01:11,  6.47s/it]"
     ]
    },
    {
     "name": "stdout",
     "output_type": "stream",
     "text": [
      "t_13      int16\n",
      "t_L       int16\n",
      "dS_13    uint16\n",
      "dtype: object\n",
      "Start conversion of 14 channel\n",
      "t_14 valid_tdc_14\n",
      "..\n",
      "...\n"
     ]
    },
    {
     "name": "stderr",
     "output_type": "stream",
     "text": [
      "\n",
      "  0%|                                                                                                                                                                                  | 0/15965691 [00:00<?, ?it/s]\u001b[A\n",
      " 20%|███████████████████████████████▌                                                                                                                              | 3193120/15965691 [00:00<00:00, 31411192.96it/s]\u001b[A"
     ]
    },
    {
     "name": "stdout",
     "output_type": "stream",
     "text": [
      "starting loop\n"
     ]
    },
    {
     "name": "stderr",
     "output_type": "stream",
     "text": [
      "\n",
      " 43%|███████████████████████████████████████████████████████████████████▉                                                                                          | 6865208/15965691 [00:00<00:00, 33760963.92it/s]\u001b[A\n",
      " 65%|██████████████████████████████████████████████████████████████████████████████████████████████████████                                                       | 10377640/15965691 [00:00<00:00, 32587750.77it/s]\u001b[A\n",
      "16125256it [00:00, 32117045.26it/s]                                                                                                                                                                                 \u001b[A\n"
     ]
    },
    {
     "name": "stdout",
     "output_type": "stream",
     "text": [
      "Data ready, conversion to array\n",
      "Adding keys to HDF5...  \"ch_14\"\n"
     ]
    },
    {
     "name": "stderr",
     "output_type": "stream",
     "text": [
      " 60%|█████████████████████████████████████████████████████████████████████████████████████████████████████████                                                                      | 15/25 [01:33<01:03,  6.39s/it]"
     ]
    },
    {
     "name": "stdout",
     "output_type": "stream",
     "text": [
      "t_14      int16\n",
      "t_L       int16\n",
      "dS_14    uint16\n",
      "dtype: object\n",
      "Start conversion of 15 channel\n",
      "t_15 valid_tdc_15\n",
      "..\n",
      "...\n"
     ]
    },
    {
     "name": "stderr",
     "output_type": "stream",
     "text": [
      "\n",
      "  0%|                                                                                                                                                                                  | 0/15896589 [00:00<?, ?it/s]\u001b[A\n",
      " 22%|██████████████████████████████████▊                                                                                                                           | 3497230/15896589 [00:00<00:00, 34015285.96it/s]\u001b[A"
     ]
    },
    {
     "name": "stdout",
     "output_type": "stream",
     "text": [
      "starting loop\n"
     ]
    },
    {
     "name": "stderr",
     "output_type": "stream",
     "text": [
      "\n",
      " 48%|███████████████████████████████████████████████████████████████████████████▊                                                                                  | 7630320/15896589 [00:00<00:00, 37590573.05it/s]\u001b[A\n",
      "16055465it [00:00, 36986314.75it/s]                                                                                                                                                                                 \u001b[A\n"
     ]
    },
    {
     "name": "stdout",
     "output_type": "stream",
     "text": [
      "Data ready, conversion to array\n",
      "Adding keys to HDF5...  \"ch_15\"\n"
     ]
    },
    {
     "name": "stderr",
     "output_type": "stream",
     "text": [
      " 64%|████████████████████████████████████████████████████████████████████████████████████████████████████████████████                                                               | 16/25 [01:39<00:56,  6.31s/it]"
     ]
    },
    {
     "name": "stdout",
     "output_type": "stream",
     "text": [
      "t_15      int16\n",
      "t_L       int16\n",
      "dS_15    uint16\n",
      "dtype: object\n",
      "Start conversion of 16 channel\n",
      "t_16 valid_tdc_16\n",
      "..\n",
      "...\n"
     ]
    },
    {
     "name": "stderr",
     "output_type": "stream",
     "text": [
      "\n",
      "  0%|                                                                                                                                                                                  | 0/16219117 [00:00<?, ?it/s]\u001b[A\n",
      " 20%|███████████████████████████████▌                                                                                                                              | 3243820/16219117 [00:00<00:00, 30230361.53it/s]\u001b[A"
     ]
    },
    {
     "name": "stdout",
     "output_type": "stream",
     "text": [
      "starting loop\n"
     ]
    },
    {
     "name": "stderr",
     "output_type": "stream",
     "text": [
      "\n",
      " 44%|█████████████████████████████████████████████████████████████████████▌                                                                                        | 7136404/16219117 [00:00<00:00, 34745161.94it/s]\u001b[A\n",
      " 68%|██████████████████████████████████████████████████████████████████████████████████████████████████████████▊                                                  | 11028988/16219117 [00:00<00:00, 36164468.50it/s]\u001b[A\n",
      "16381291it [00:00, 36072686.21it/s]                                                                                                                                                                                 \u001b[A\n"
     ]
    },
    {
     "name": "stdout",
     "output_type": "stream",
     "text": [
      "Data ready, conversion to array\n",
      "Adding keys to HDF5...  \"ch_16\"\n"
     ]
    },
    {
     "name": "stderr",
     "output_type": "stream",
     "text": [
      " 68%|███████████████████████████████████████████████████████████████████████████████████████████████████████████████████████                                                        | 17/25 [01:45<00:50,  6.30s/it]"
     ]
    },
    {
     "name": "stdout",
     "output_type": "stream",
     "text": [
      "t_16      int16\n",
      "t_L       int16\n",
      "dS_16    uint16\n",
      "dtype: object\n",
      "Start conversion of 17 channel\n",
      "t_17 valid_tdc_17\n",
      "..\n",
      "...\n"
     ]
    },
    {
     "name": "stderr",
     "output_type": "stream",
     "text": [
      "\n",
      "  0%|                                                                                                                                                                                  | 0/16491883 [00:00<?, ?it/s]\u001b[A\n",
      " 20%|███████████████████████████████▌                                                                                                                              | 3298360/16491883 [00:00<00:00, 31816210.25it/s]\u001b[A\n"
     ]
    },
    {
     "name": "stdout",
     "output_type": "stream",
     "text": [
      "starting loop\n"
     ]
    },
    {
     "name": "stderr",
     "output_type": "stream",
     "text": [
      " 41%|████████████████████████████████████████████████████████████████▊                                                                                             | 6761638/16491883 [00:00<00:00, 32935283.16it/s]\u001b[A\n",
      " 62%|█████████████████████████████████████████████████████████████████████████████████████████████████▎                                                           | 10224916/16491883 [00:00<00:00, 33370466.30it/s]\u001b[A\n",
      "16656718it [00:00, 33007466.22it/s]                                                                                                                                                                                 \u001b[A\n"
     ]
    },
    {
     "name": "stdout",
     "output_type": "stream",
     "text": [
      "Data ready, conversion to array\n",
      "Adding keys to HDF5...  \"ch_17\"\n"
     ]
    },
    {
     "name": "stderr",
     "output_type": "stream",
     "text": [
      " 72%|██████████████████████████████████████████████████████████████████████████████████████████████████████████████████████████████                                                 | 18/25 [01:51<00:44,  6.33s/it]"
     ]
    },
    {
     "name": "stdout",
     "output_type": "stream",
     "text": [
      "t_17      int16\n",
      "t_L       int16\n",
      "dS_17    uint16\n",
      "dtype: object\n",
      "Start conversion of 18 channel\n",
      "t_18 valid_tdc_18\n",
      "..\n",
      "...\n"
     ]
    },
    {
     "name": "stderr",
     "output_type": "stream",
     "text": [
      "\n",
      "  0%|                                                                                                                                                                                  | 0/16296786 [00:00<?, ?it/s]\u001b[A\n",
      " 25%|███████████████████████████████████████▍                                                                                                                      | 4074175/16296786 [00:00<00:00, 39155246.60it/s]\u001b[A"
     ]
    },
    {
     "name": "stdout",
     "output_type": "stream",
     "text": [
      "starting loop\n"
     ]
    },
    {
     "name": "stderr",
     "output_type": "stream",
     "text": [
      "\n",
      " 50%|██████████████████████████████████████████████████████████████████████████████▉                                                                               | 8148350/16296786 [00:00<00:00, 31816142.52it/s]\u001b[A\n",
      " 71%|███████████████████████████████████████████████████████████████████████████████████████████████████████████████▍                                             | 11570657/16296786 [00:00<00:00, 31554136.74it/s]\u001b[A\n",
      "16459667it [00:00, 31026499.63it/s]                                                                                                                                                                                 \u001b[A\n"
     ]
    },
    {
     "name": "stdout",
     "output_type": "stream",
     "text": [
      "Data ready, conversion to array\n",
      "Adding keys to HDF5...  \"ch_18\"\n"
     ]
    },
    {
     "name": "stderr",
     "output_type": "stream",
     "text": [
      " 76%|█████████████████████████████████████████████████████████████████████████████████████████████████████████████████████████████████████                                          | 19/25 [01:58<00:38,  6.35s/it]"
     ]
    },
    {
     "name": "stdout",
     "output_type": "stream",
     "text": [
      "t_18      int16\n",
      "t_L       int16\n",
      "dS_18    uint16\n",
      "dtype: object\n",
      "Start conversion of 19 channel\n",
      "t_19 valid_tdc_19\n",
      "..\n",
      "...\n"
     ]
    },
    {
     "name": "stderr",
     "output_type": "stream",
     "text": [
      "\n",
      "  0%|                                                                                                                                                                                  | 0/15997721 [00:00<?, ?it/s]\u001b[A\n",
      " 29%|█████████████████████████████████████████████▊                                                                                                                | 4639333/15997721 [00:00<00:00, 46201268.26it/s]\u001b[A\n"
     ]
    },
    {
     "name": "stdout",
     "output_type": "stream",
     "text": [
      "starting loop\n"
     ]
    },
    {
     "name": "stderr",
     "output_type": "stream",
     "text": [
      " 58%|███████████████████████████████████████████████████████████████████████████████████████████▋                                                                  | 9278666/15997721 [00:00<00:00, 45171589.71it/s]\u001b[A\n",
      "16157677it [00:00, 40574938.14it/s]                                                                                                                                                                                 \u001b[A\n"
     ]
    },
    {
     "name": "stdout",
     "output_type": "stream",
     "text": [
      "Data ready, conversion to array\n",
      "Adding keys to HDF5...  \"ch_19\"\n"
     ]
    },
    {
     "name": "stderr",
     "output_type": "stream",
     "text": [
      " 80%|████████████████████████████████████████████████████████████████████████████████████████████████████████████████████████████████████████████                                   | 20/25 [02:04<00:31,  6.26s/it]"
     ]
    },
    {
     "name": "stdout",
     "output_type": "stream",
     "text": [
      "t_19      int16\n",
      "t_L       int16\n",
      "dS_19    uint16\n",
      "dtype: object\n",
      "Start conversion of 20 channel\n",
      "t_20 valid_tdc_20\n",
      "..\n",
      "...\n"
     ]
    },
    {
     "name": "stderr",
     "output_type": "stream",
     "text": [
      "\n",
      "  0%|                                                                                                                                                                                  | 0/15794983 [00:00<?, ?it/s]\u001b[A\n",
      " 35%|███████████████████████████████████████████████████████▎                                                                                                      | 5528215/15794983 [00:00<00:00, 54466945.15it/s]\u001b[A"
     ]
    },
    {
     "name": "stdout",
     "output_type": "stream",
     "text": [
      "starting loop\n"
     ]
    },
    {
     "name": "stderr",
     "output_type": "stream",
     "text": [
      "\n",
      "15952849it [00:00, 49343849.21it/s]                                                                                                                                                                                 \u001b[A\n"
     ]
    },
    {
     "name": "stdout",
     "output_type": "stream",
     "text": [
      "Data ready, conversion to array\n",
      "Adding keys to HDF5...  \"ch_20\"\n"
     ]
    },
    {
     "name": "stderr",
     "output_type": "stream",
     "text": [
      " 84%|███████████████████████████████████████████████████████████████████████████████████████████████████████████████████████████████████████████████████                            | 21/25 [02:10<00:24,  6.10s/it]"
     ]
    },
    {
     "name": "stdout",
     "output_type": "stream",
     "text": [
      "t_20      int16\n",
      "t_L       int16\n",
      "dS_20    uint16\n",
      "dtype: object\n",
      "Start conversion of 21 channel\n",
      "t_21 valid_tdc_21\n",
      "..\n",
      "...\n"
     ]
    },
    {
     "name": "stderr",
     "output_type": "stream",
     "text": [
      "\n",
      "  0%|                                                                                                                                                                                  | 0/15943376 [00:00<?, ?it/s]\u001b[A\n",
      " 26%|█████████████████████████████████████████                                                                                                                     | 4145258/15943376 [00:00<00:00, 39829817.74it/s]\u001b[A"
     ]
    },
    {
     "name": "stdout",
     "output_type": "stream",
     "text": [
      "starting loop\n"
     ]
    },
    {
     "name": "stderr",
     "output_type": "stream",
     "text": [
      "\n",
      " 55%|██████████████████████████████████████████████████████████████████████████████████████▉                                                                       | 8768815/15943376 [00:00<00:00, 43265778.85it/s]\u001b[A\n",
      "16102733it [00:00, 40539583.82it/s]                                                                                                                                                                                 \u001b[A\n"
     ]
    },
    {
     "name": "stdout",
     "output_type": "stream",
     "text": [
      "Data ready, conversion to array\n",
      "Adding keys to HDF5...  \"ch_21\"\n"
     ]
    },
    {
     "name": "stderr",
     "output_type": "stream",
     "text": [
      " 88%|██████████████████████████████████████████████████████████████████████████████████████████████████████████████████████████████████████████████████████████                     | 22/25 [02:15<00:18,  6.02s/it]"
     ]
    },
    {
     "name": "stdout",
     "output_type": "stream",
     "text": [
      "t_21      int16\n",
      "t_L       int16\n",
      "dS_21    uint16\n",
      "dtype: object\n",
      "Start conversion of 22 channel\n",
      "t_22 valid_tdc_22\n",
      "..\n",
      "...\n"
     ]
    },
    {
     "name": "stderr",
     "output_type": "stream",
     "text": [
      "\n",
      "  0%|                                                                                                                                                                                  | 0/16033563 [00:00<?, ?it/s]\u001b[A\n",
      " 25%|███████████████████████████████████████▍                                                                                                                      | 4008375/16033563 [00:00<00:00, 39958794.93it/s]\u001b[A"
     ]
    },
    {
     "name": "stdout",
     "output_type": "stream",
     "text": [
      "starting loop\n"
     ]
    },
    {
     "name": "stderr",
     "output_type": "stream",
     "text": [
      "\n",
      " 50%|██████████████████████████████████████████████████████████████████████████████▉                                                                               | 8016750/16033563 [00:00<00:00, 33334892.64it/s]\u001b[A\n",
      " 72%|█████████████████████████████████████████████████████████████████████████████████████████████████████████████████                                            | 11544120/16033563 [00:00<00:00, 32420021.85it/s]\u001b[A\n",
      "16193835it [00:00, 33370984.51it/s]                                                                                                                                                                                 \u001b[A\n"
     ]
    },
    {
     "name": "stdout",
     "output_type": "stream",
     "text": [
      "Data ready, conversion to array\n",
      "Adding keys to HDF5...  \"ch_22\"\n"
     ]
    },
    {
     "name": "stderr",
     "output_type": "stream",
     "text": [
      " 92%|█████████████████████████████████████████████████████████████████████████████████████████████████████████████████████████████████████████████████████████████████              | 23/25 [02:21<00:12,  6.02s/it]"
     ]
    },
    {
     "name": "stdout",
     "output_type": "stream",
     "text": [
      "t_22      int16\n",
      "t_L       int16\n",
      "dS_22    uint16\n",
      "dtype: object\n",
      "Start conversion of 23 channel\n",
      "t_23 valid_tdc_23\n",
      "..\n",
      "...\n"
     ]
    },
    {
     "name": "stderr",
     "output_type": "stream",
     "text": [
      "\n",
      "  0%|                                                                                                                                                                                  | 0/15944021 [00:00<?, ?it/s]\u001b[A\n",
      " 26%|█████████████████████████████████████████                                                                                                                     | 4145440/15944021 [00:00<00:00, 40757415.15it/s]\u001b[A"
     ]
    },
    {
     "name": "stdout",
     "output_type": "stream",
     "text": [
      "starting loop\n"
     ]
    },
    {
     "name": "stderr",
     "output_type": "stream",
     "text": [
      "\n",
      " 55%|██████████████████████████████████████████████████████████████████████████████████████▉                                                                       | 8769200/15944021 [00:00<00:00, 43129053.91it/s]\u001b[A\n",
      "16103440it [00:00, 36550635.15it/s]                                                                                                                                                                                 \u001b[A\n"
     ]
    },
    {
     "name": "stdout",
     "output_type": "stream",
     "text": [
      "Data ready, conversion to array\n",
      "Adding keys to HDF5...  \"ch_23\"\n"
     ]
    },
    {
     "name": "stderr",
     "output_type": "stream",
     "text": [
      " 96%|████████████████████████████████████████████████████████████████████████████████████████████████████████████████████████████████████████████████████████████████████████       | 24/25 [02:27<00:06,  6.01s/it]"
     ]
    },
    {
     "name": "stdout",
     "output_type": "stream",
     "text": [
      "t_23      int16\n",
      "t_L       int16\n",
      "dS_23    uint16\n",
      "dtype: object\n",
      "Start conversion of 24 channel\n",
      "t_24 valid_tdc_24\n",
      "..\n",
      "...\n"
     ]
    },
    {
     "name": "stderr",
     "output_type": "stream",
     "text": [
      "\n",
      "  0%|                                                                                                                                                                                  | 0/15651238 [00:00<?, ?it/s]\u001b[A\n",
      " 29%|█████████████████████████████████████████████▊                                                                                                                | 4538848/15651238 [00:00<00:00, 44860905.22it/s]\u001b[A"
     ]
    },
    {
     "name": "stdout",
     "output_type": "stream",
     "text": [
      "starting loop\n"
     ]
    },
    {
     "name": "stderr",
     "output_type": "stream",
     "text": [
      "\n",
      " 58%|███████████████████████████████████████████████████████████████████████████████████████████▋                                                                  | 9077696/15651238 [00:00<00:00, 44322097.92it/s]\u001b[A\n",
      "15807712it [00:00, 40655262.14it/s]                                                                                                                                                                                 \u001b[A\n"
     ]
    },
    {
     "name": "stdout",
     "output_type": "stream",
     "text": [
      "Data ready, conversion to array\n",
      "Adding keys to HDF5...  \"ch_24\"\n"
     ]
    },
    {
     "name": "stderr",
     "output_type": "stream",
     "text": [
      "100%|███████████████████████████████████████████████████████████████████████████████████████████████████████████████████████████████████████████████████████████████████████████████| 25/25 [02:33<00:00,  6.15s/it]"
     ]
    },
    {
     "name": "stdout",
     "output_type": "stream",
     "text": [
      "t_24      int16\n",
      "t_L       int16\n",
      "dS_24    uint16\n",
      "dtype: object\n",
      "Data saved:  /home/mdonato/Downloads/14_zoom_FOV15_512x512_200us.ttr.h5\n"
     ]
    },
    {
     "name": "stderr",
     "output_type": "stream",
     "text": [
      "\n"
     ]
    }
   ],
   "source": [
    "myReturn=ttp.convertFromPandasDataFrame( df, filenameOutputHDF5=filenameHDF5 ,\n",
    "                    sysclk_MHz = sysclk_MHz,\n",
    "                    laser_MHz = laser_MHz,\n",
    "                    list_of_channels=list_of_channels,\n",
    "                    compressionLevel=0,\n",
    "                    ignorePixelLineFrame = False,\n",
    "                    coincidence_analysis = False,\n",
    "                    kC4=kC4\n",
    "                        )"
   ]
  },
  {
   "cell_type": "markdown",
   "metadata": {},
   "source": [
    "## Timing calibration of data"
   ]
  },
  {
   "cell_type": "code",
   "execution_count": 11,
   "metadata": {},
   "outputs": [
    {
     "name": "stderr",
     "output_type": "stream",
     "text": [
      "  0%|                                                                                                                                                                                        | 0/25 [00:02<?, ?it/s]\n"
     ]
    },
    {
     "name": "stdout",
     "output_type": "stream",
     "text": [
      "ch_L calculated from ch_0\n"
     ]
    },
    {
     "name": "stderr",
     "output_type": "stream",
     "text": [
      "100%|███████████████████████████████████████████████████████████████████████████████████████████████████████████████████████████████████████████████████████████████████████████████| 25/25 [01:11<00:00,  2.85s/it]\n"
     ]
    }
   ],
   "source": [
    "calibDict,list_of_channels_calibrated = ttp.calculateCalibFromH5(filenameH5=myReturn['filenameH5'],   # the HDF5 file input\n",
    "                                                                 listChannel=list_of_channels,      # list of channel [0,mchannel]\n",
    "                                                                 return_numeric_channels=True)        # to activate the list_of_channels_calibrated"
   ]
  },
  {
   "cell_type": "code",
   "execution_count": 12,
   "metadata": {},
   "outputs": [
    {
     "data": {
      "application/vnd.jupyter.widget-view+json": {
       "model_id": "3bb715182d294ad58332a1e077583c81",
       "version_major": 2,
       "version_minor": 0
      },
      "text/plain": [
       "  0%|          | 0/25 [00:00<?, ?it/s]"
      ]
     },
     "metadata": {},
     "output_type": "display_data"
    }
   ],
   "source": [
    "table_channels={}\n",
    "for i in tqdm(list_of_channels_calibrated):\n",
    "    table_channels[i] = ttp.applyCalibDict(myReturn['filenameH5'],\n",
    "                        channel=i, \n",
    "                        calibDict=calibDict)"
   ]
  },
  {
   "cell_type": "markdown",
   "metadata": {},
   "source": [
    "# TCSPC Histograms processing"
   ]
  },
  {
   "cell_type": "code",
   "execution_count": 13,
   "metadata": {},
   "outputs": [
    {
     "data": {
      "application/vnd.jupyter.widget-view+json": {
       "model_id": "556f077858464307a1744722b705d249",
       "version_major": 2,
       "version_minor": 0
      },
      "text/plain": [
       "  0%|          | 0/25 [00:00<?, ?it/s]"
      ]
     },
     "metadata": {},
     "output_type": "display_data"
    }
   ],
   "source": [
    "dt_mod={}\n",
    "\n",
    "for i in tqdm(list_of_channels_calibrated):\n",
    "    df = table_channels[i]\n",
    "    dt_mod[i] = np.mod(laser_ps-df['dt_'+str(i)],laser_ps) # flip and "
   ]
  },
  {
   "cell_type": "markdown",
   "metadata": {},
   "source": [
    "# TCSPC Histograms plots"
   ]
  },
  {
   "cell_type": "markdown",
   "metadata": {},
   "source": [
    "### The histograms are calculated with data after the autocalibration"
   ]
  },
  {
   "cell_type": "code",
   "execution_count": 14,
   "metadata": {},
   "outputs": [
    {
     "data": {
      "application/vnd.jupyter.widget-view+json": {
       "model_id": "b54fd395ba514226bff939b5e556b39f",
       "version_major": 2,
       "version_minor": 0
      },
      "text/plain": [
       "  0%|          | 0/25 [00:00<?, ?it/s]"
      ]
     },
     "metadata": {},
     "output_type": "display_data"
    }
   ],
   "source": [
    "xhist_calib={}\n",
    "yhist_calib={}\n",
    "nbins=int(round(laser_ps/kC4))\n",
    "\n",
    "for k in tqdm(list_of_channels_calibrated):\n",
    "    yhist_calib[k],xhist_calib[k]=histogram(dt_mod[k], range=[0,laser_ps],bins=nbins)"
   ]
  },
  {
   "cell_type": "markdown",
   "metadata": {},
   "source": [
    "### The histograms are calculated with data after by using a fixed-value calibration factor (kC4)"
   ]
  },
  {
   "cell_type": "code",
   "execution_count": 15,
   "metadata": {},
   "outputs": [
    {
     "data": {
      "application/vnd.jupyter.widget-view+json": {
       "model_id": "e4f36b46ff3d43589770190ef1e35a6f",
       "version_major": 2,
       "version_minor": 0
      },
      "text/plain": [
       "  0%|          | 0/25 [00:00<?, ?it/s]"
      ]
     },
     "metadata": {},
     "output_type": "display_data"
    }
   ],
   "source": [
    "\n",
    "xhist_not_calib={}\n",
    "yhist_not_calib={}\n",
    "nbins=int(round(laser_ps/kC4))\n",
    "\n",
    "for k in tqdm(list_of_channels_calibrated):\n",
    "    t_L  = table_channels[k][\"t_L\"]\n",
    "    t_CH = table_channels[k][\"t_%d\"%k]\n",
    "    dS_0  = table_channels[k][\"dS_%d\"%k]\n",
    "    dt_notCalib=dS_0*sysclk_ps-(t_L-t_CH)*kC4\n",
    "    dt_mod_notCalib=np.mod(laser_ps-dt_notCalib, laser_ps) #apply flip and modulo\n",
    "    yhist_not_calib[k],xhist_not_calib[k]=histogram(dt_mod_notCalib, range=[0,laser_ps],bins=nbins)"
   ]
  },
  {
   "cell_type": "markdown",
   "metadata": {},
   "source": [
    "### The plot with comparison of data \"autocalibrated\" and data \"fixed-value calibration\""
   ]
  },
  {
   "cell_type": "code",
   "execution_count": 16,
   "metadata": {},
   "outputs": [
    {
     "data": {
      "application/vnd.jupyter.widget-view+json": {
       "model_id": "ec44e40e8a544b4ebe602fe93a7b255b",
       "version_major": 2,
       "version_minor": 0
      },
      "text/plain": [
       "  0%|          | 0/25 [00:00<?, ?it/s]"
      ]
     },
     "metadata": {},
     "output_type": "display_data"
    },
    {
     "name": "stderr",
     "output_type": "stream",
     "text": [
      "/tmp/ipykernel_287378/3111564732.py:2: RuntimeWarning: More than 20 figures have been opened. Figures created through the pyplot interface (`matplotlib.pyplot.figure`) are retained until explicitly closed and may consume too much memory. (To control this warning, see the rcParam `figure.max_open_warning`).\n",
      "  figure(figsize(16,3))\n"
     ]
    },
    {
     "data": {
      "text/plain": [
       "<Figure size 1152x216 with 0 Axes>"
      ]
     },
     "metadata": {},
     "output_type": "display_data"
    },
    {
     "data": {
      "image/png": "[encoded data removed]",
      "text/plain": [
       "<Figure size 1152x216 with 2 Axes>"
      ]
     },
     "metadata": {
      "needs_background": "light"
     },
     "output_type": "display_data"
    },
    {
     "data": {
      "text/plain": [
       "<Figure size 1152x216 with 0 Axes>"
      ]
     },
     "metadata": {},
     "output_type": "display_data"
    },
    {
     "data": {
      "image/png": "[encoded data removed]",
      "text/plain": [
       "<Figure size 1152x216 with 2 Axes>"
      ]
     },
     "metadata": {
      "needs_background": "light"
     },
     "output_type": "display_data"
    },
    {
     "data": {
      "text/plain": [
       "<Figure size 1152x216 with 0 Axes>"
      ]
     },
     "metadata": {},
     "output_type": "display_data"
    },
    {
     "data": {
      "image/png": "[encoded data removed]",
      "text/plain": [
       "<Figure size 1152x216 with 2 Axes>"
      ]
     },
     "metadata": {
      "needs_background": "light"
     },
     "output_type": "display_data"
    },
    {
     "data": {
      "text/plain": [
       "<Figure size 1152x216 with 0 Axes>"
      ]
     },
     "metadata": {},
     "output_type": "display_data"
    },
    {
     "data": {
      "image/png": "[encoded data removed]",
      "text/plain": [
       "<Figure size 1152x216 with 2 Axes>"
      ]
     },
     "metadata": {
      "needs_background": "light"
     },
     "output_type": "display_data"
    },
    {
     "data": {
      "text/plain": [
       "<Figure size 1152x216 with 0 Axes>"
      ]
     },
     "metadata": {},
     "output_type": "display_data"
    },
    {
     "data": {
      "image/png": "[encoded data removed]",
      "text/plain": [
       "<Figure size 1152x216 with 2 Axes>"
      ]
     },
     "metadata": {
      "needs_background": "light"
     },
     "output_type": "display_data"
    },
    {
     "data": {
      "text/plain": [
       "<Figure size 1152x216 with 0 Axes>"
      ]
     },
     "metadata": {},
     "output_type": "display_data"
    },
    {
     "data": {
      "image/png": "[encoded data removed]",
      "text/plain": [
       "<Figure size 1152x216 with 2 Axes>"
      ]
     },
     "metadata": {
      "needs_background": "light"
     },
     "output_type": "display_data"
    },
    {
     "data": {
      "text/plain": [
       "<Figure size 1152x216 with 0 Axes>"
      ]
     },
     "metadata": {},
     "output_type": "display_data"
    },
    {
     "data": {
      "image/png": "[encoded data removed]",
      "text/plain": [
       "<Figure size 1152x216 with 2 Axes>"
      ]
     },
     "metadata": {
      "needs_background": "light"
     },
     "output_type": "display_data"
    },
    {
     "data": {
      "text/plain": [
       "<Figure size 1152x216 with 0 Axes>"
      ]
     },
     "metadata": {},
     "output_type": "display_data"
    },
    {
     "data": {
      "image/png": "[encoded data removed]",
      "text/plain": [
       "<Figure size 1152x216 with 2 Axes>"
      ]
     },
     "metadata": {
      "needs_background": "light"
     },
     "output_type": "display_data"
    },
    {
     "data": {
      "text/plain": [
       "<Figure size 1152x216 with 0 Axes>"
      ]
     },
     "metadata": {},
     "output_type": "display_data"
    },
    {
     "data": {
      "image/png": "[encoded data removed]",
      "text/plain": [
       "<Figure size 1152x216 with 2 Axes>"
      ]
     },
     "metadata": {
      "needs_background": "light"
     },
     "output_type": "display_data"
    },
    {
     "data": {
      "text/plain": [
       "<Figure size 1152x216 with 0 Axes>"
      ]
     },
     "metadata": {},
     "output_type": "display_data"
    },
    {
     "data": {
      "image/png": "[encoded data removed]",
      "text/plain": [
       "<Figure size 1152x216 with 2 Axes>"
      ]
     },
     "metadata": {
      "needs_background": "light"
     },
     "output_type": "display_data"
    },
    {
     "data": {
      "text/plain": [
       "<Figure size 1152x216 with 0 Axes>"
      ]
     },
     "metadata": {},
     "output_type": "display_data"
    },
    {
     "data": {
      "image/png": "[encoded data removed]",
      "text/plain": [
       "<Figure size 1152x216 with 2 Axes>"
      ]
     },
     "metadata": {
      "needs_background": "light"
     },
     "output_type": "display_data"
    },
    {
     "data": {
      "text/plain": [
       "<Figure size 1152x216 with 0 Axes>"
      ]
     },
     "metadata": {},
     "output_type": "display_data"
    },
    {
     "data": {
      "image/png": "[encoded data removed]",
      "text/plain": [
       "<Figure size 1152x216 with 2 Axes>"
      ]
     },
     "metadata": {
      "needs_background": "light"
     },
     "output_type": "display_data"
    },
    {
     "data": {
      "text/plain": [
       "<Figure size 1152x216 with 0 Axes>"
      ]
     },
     "metadata": {},
     "output_type": "display_data"
    },
    {
     "data": {
      "image/png": "[encoded data removed]",
      "text/plain": [
       "<Figure size 1152x216 with 2 Axes>"
      ]
     },
     "metadata": {
      "needs_background": "light"
     },
     "output_type": "display_data"
    },
    {
     "data": {
      "text/plain": [
       "<Figure size 1152x216 with 0 Axes>"
      ]
     },
     "metadata": {},
     "output_type": "display_data"
    },
    {
     "data": {
      "image/png": "[encoded data removed]",
      "text/plain": [
       "<Figure size 1152x216 with 2 Axes>"
      ]
     },
     "metadata": {
      "needs_background": "light"
     },
     "output_type": "display_data"
    },
    {
     "data": {
      "text/plain": [
       "<Figure size 1152x216 with 0 Axes>"
      ]
     },
     "metadata": {},
     "output_type": "display_data"
    },
    {
     "data": {
      "image/png": "[encoded data removed]",
      "text/plain": [
       "<Figure size 1152x216 with 2 Axes>"
      ]
     },
     "metadata": {
      "needs_background": "light"
     },
     "output_type": "display_data"
    },
    {
     "data": {
      "text/plain": [
       "<Figure size 1152x216 with 0 Axes>"
      ]
     },
     "metadata": {},
     "output_type": "display_data"
    },
    {
     "data": {
      "image/png": "[encoded data removed]",
      "text/plain": [
       "<Figure size 1152x216 with 2 Axes>"
      ]
     },
     "metadata": {
      "needs_background": "light"
     },
     "output_type": "display_data"
    },
    {
     "data": {
      "text/plain": [
       "<Figure size 1152x216 with 0 Axes>"
      ]
     },
     "metadata": {},
     "output_type": "display_data"
    },
    {
     "data": {
      "image/png": "[encoded data removed]",
      "text/plain": [
       "<Figure size 1152x216 with 2 Axes>"
      ]
     },
     "metadata": {
      "needs_background": "light"
     },
     "output_type": "display_data"
    },
    {
     "data": {
      "text/plain": [
       "<Figure size 1152x216 with 0 Axes>"
      ]
     },
     "metadata": {},
     "output_type": "display_data"
    },
    {
     "data": {
      "image/png": "[encoded data removed]",
      "text/plain": [
       "<Figure size 1152x216 with 2 Axes>"
      ]
     },
     "metadata": {
      "needs_background": "light"
     },
     "output_type": "display_data"
    },
    {
     "data": {
      "text/plain": [
       "<Figure size 1152x216 with 0 Axes>"
      ]
     },
     "metadata": {},
     "output_type": "display_data"
    },
    {
     "data": {
      "image/png": "[encoded data removed]",
      "text/plain": [
       "<Figure size 1152x216 with 2 Axes>"
      ]
     },
     "metadata": {
      "needs_background": "light"
     },
     "output_type": "display_data"
    },
    {
     "data": {
      "text/plain": [
       "<Figure size 1152x216 with 0 Axes>"
      ]
     },
     "metadata": {},
     "output_type": "display_data"
    },
    {
     "data": {
      "image/png": "[encoded data removed]",
      "text/plain": [
       "<Figure size 1152x216 with 2 Axes>"
      ]
     },
     "metadata": {
      "needs_background": "light"
     },
     "output_type": "display_data"
    },
    {
     "data": {
      "text/plain": [
       "<Figure size 1152x216 with 0 Axes>"
      ]
     },
     "metadata": {},
     "output_type": "display_data"
    },
    {
     "data": {
      "image/png": "[encoded data removed]",
      "text/plain": [
       "<Figure size 1152x216 with 2 Axes>"
      ]
     },
     "metadata": {
      "needs_background": "light"
     },
     "output_type": "display_data"
    },
    {
     "data": {
      "text/plain": [
       "<Figure size 1152x216 with 0 Axes>"
      ]
     },
     "metadata": {},
     "output_type": "display_data"
    },
    {
     "data": {
      "image/png": "[encoded data removed]",
      "text/plain": [
       "<Figure size 1152x216 with 2 Axes>"
      ]
     },
     "metadata": {
      "needs_background": "light"
     },
     "output_type": "display_data"
    },
    {
     "data": {
      "text/plain": [
       "<Figure size 1152x216 with 0 Axes>"
      ]
     },
     "metadata": {},
     "output_type": "display_data"
    },
    {
     "data": {
      "image/png": "[encoded data removed]",
      "text/plain": [
       "<Figure size 1152x216 with 2 Axes>"
      ]
     },
     "metadata": {
      "needs_background": "light"
     },
     "output_type": "display_data"
    },
    {
     "data": {
      "text/plain": [
       "<Figure size 1152x216 with 0 Axes>"
      ]
     },
     "metadata": {},
     "output_type": "display_data"
    },
    {
     "data": {
      "image/png": "[encoded data removed]",
      "text/plain": [
       "<Figure size 1152x216 with 2 Axes>"
      ]
     },
     "metadata": {
      "needs_background": "light"
     },
     "output_type": "display_data"
    },
    {
     "data": {
      "text/plain": [
       "<Figure size 1152x216 with 0 Axes>"
      ]
     },
     "metadata": {},
     "output_type": "display_data"
    },
    {
     "data": {
      "image/png": "[encoded data removed]",
      "text/plain": [
       "<Figure size 1152x216 with 2 Axes>"
      ]
     },
     "metadata": {
      "needs_background": "light"
     },
     "output_type": "display_data"
    }
   ],
   "source": [
    "for k in tqdm(list_of_channels_calibrated):\n",
    "    figure(figsize(16,3))\n",
    "    fig, (ax1, ax2) = plt.subplots(1, 2)    \n",
    "    ax1.bar(xhist_calib[k][:-1],\n",
    "            yhist_calib[k][:],\n",
    "            width=xhist_calib[k][1]-xhist_calib[k][0],\n",
    "            label='ch_%d'%k)        \n",
    "    ax2.bar(xhist_not_calib[k][:-1],\n",
    "            yhist_not_calib[k],\n",
    "            width=xhist_calib[k][1]-xhist_calib[k][0],\n",
    "            label='ch_%d NOT CALIB'%k,\n",
    "            color=\"r\")  \n",
    "    ax1.set_yscale(\"log\")    \n",
    "    ax2.set_yscale(\"log\")    \n",
    "    ax1.legend()\n",
    "    ax2.legend()\n",
    "    fig.suptitle('TCSPC Histograms \\n')\n",
    "    ax1.set_xlim(0,laser_ps)\n",
    "    ax2.set_xlim(0,laser_ps)\n",
    "    ax1.set_xlabel('\\n Time [ps]')\n",
    "    ax2.set_xlabel('\\n Time [ps]')\n",
    "    ax1.set_ylabel('Counts \\n')\n",
    "    ax2.set_ylabel('Counts \\n')"
   ]
  }
 ],
 "metadata": {
  "kernelspec": {
   "display_name": "Python 3 (ipykernel)",
   "language": "python",
   "name": "python3"
  },
  "language_info": {
   "codemirror_mode": {
    "name": "ipython",
    "version": 3
   },
   "file_extension": ".py",
   "mimetype": "text/x-python",
   "name": "python",
   "nbconvert_exporter": "python",
   "pygments_lexer": "ipython3",
   "version": "3.8.10"
  },
  "widgets": {
   "application/vnd.jupyter.widget-state+json": {
    "state": {},
    "version_major": 2,
    "version_minor": 0
   }
  }
 },
 "nbformat": 4,
 "nbformat_minor": 4
}
