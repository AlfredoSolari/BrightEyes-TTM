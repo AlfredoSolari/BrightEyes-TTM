{
 "cells": [
  {
   "cell_type": "markdown",
   "metadata": {},
   "source": [
    "# Imaging\n",
    "Run the following hidden cells for preparing the code environment"
   ]
  },
  {
   "cell_type": "code",
   "execution_count": 1,
   "metadata": {},
   "outputs": [
    {
     "name": "stdout",
     "output_type": "stream",
     "text": [
      "Populating the interactive namespace from numpy and matplotlib\n"
     ]
    }
   ],
   "source": [
    "%pylab inline\n",
    "from tqdm.notebook import tqdm as tqdm\n",
    "from ipyfilechooser import FileChooser\n",
    "from pathlib import Path\n",
    "import h5py\n",
    "import os\n",
    "import ttp\n"
   ]
  },
  {
   "cell_type": "code",
   "execution_count": 2,
   "metadata": {},
   "outputs": [],
   "source": [
    "#%% Plot Config\n",
    "\n",
    "SMALL_SIZE = 14\n",
    "MEDIUM_SIZE = 18\n",
    "BIG_SIZE = 22\n",
    "BIGGER_SIZE = 28\n",
    "\n",
    "plt.rc('font', size=SMALL_SIZE)          # controls default text sizes\n",
    "plt.rc('axes', titlesize=BIG_SIZE)       # fontsize of the axes title\n",
    "plt.rc('axes', labelsize=BIG_SIZE)       # fontsize of the x and y labels\n",
    "plt.rc('xtick', labelsize=MEDIUM_SIZE)   # fontsize of the tick labels\n",
    "plt.rc('ytick', labelsize=MEDIUM_SIZE)   # fontsize of the tick labels\n",
    "plt.rc('legend', fontsize=MEDIUM_SIZE)   # legend fontsize\n",
    "plt.rc('figure', titlesize=BIGGER_SIZE)  # fontsize of the figure title\n",
    "plt.rc('figure', titlesize=BIGGER_SIZE)  # fontsize of the figure title\n",
    "matplotlib.rcParams['figure.figsize'] = (13.0, 10.0)"
   ]
  },
  {
   "cell_type": "markdown",
   "metadata": {},
   "source": [
    "# Select Data"
   ]
  },
  {
   "cell_type": "code",
   "execution_count": 3,
   "metadata": {},
   "outputs": [
    {
     "data": {
      "application/vnd.jupyter.widget-view+json": {
       "model_id": "f8a5fe72aa1a47c583b70846f95ed60c",
       "version_major": 2,
       "version_minor": 0
      },
      "text/plain": [
       "FileChooser(path='/home/labuser/myDev/timetaggingplatform/dataReceiver/data', filename='', title='HTML(value='…"
      ]
     },
     "metadata": {},
     "output_type": "display_data"
    }
   ],
   "source": [
    "fc = FileChooser()\n",
    "fc.default_path='/home/labuser/myDev/timetaggingplatform/dataReceiver/data'\n",
    "fc.use_dir_icons = True\n",
    "display(fc)"
   ]
  },
  {
   "cell_type": "code",
   "execution_count": 4,
   "metadata": {},
   "outputs": [],
   "source": [
    "filename =  \"/mnt/DATA/DataFast/data-1625566656.774000-7x7-512x512x40u.ttp\""
   ]
  },
  {
   "cell_type": "markdown",
   "metadata": {},
   "source": [
    "# Specify parameters"
   ]
  },
  {
   "cell_type": "code",
   "execution_count": 5,
   "metadata": {},
   "outputs": [],
   "source": [
    "sysclk_MHz=240.  # FPGA system clock (MHz)\n",
    "laser_MHz=40.    # Laser repetition rate (MHz)\n",
    "laser_factor=1   # Adimensional number to account for laser actual repetiton frequency\n",
    "npixel = 512     # Image size (pixels)\n",
    "dwell_time = 50  # Pixel dwell time (us)\n",
    "nchannel = 21    # Number of active channels\n",
    "kC4=43           # Time width of TCSPC histogram bin (picoseconds)"
   ]
  },
  {
   "cell_type": "code",
   "execution_count": 6,
   "metadata": {},
   "outputs": [
    {
     "name": "stdout",
     "output_type": "stream",
     "text": [
      "SysClk ps: 4166.666666666667\n",
      "LaserClk ps: 25000.0\n"
     ]
    }
   ],
   "source": [
    "laser_MHz=laser_MHz*laser_factor\n",
    "laser_Hz=laser_MHz*10**6\n",
    "max_counter=2**16-1\n",
    "sysclk_ps=1000000./sysclk_MHz #ps\n",
    "print(\"SysClk ps:\", sysclk_ps)\n",
    "laser_ps=1000000./laser_MHz #ps\n",
    "print(\"LaserClk ps:\", laser_ps)\n",
    "ratio=sysclk_MHz/laser_MHz\n",
    "sysclk_ps=1e6/sysclk_MHz\n",
    "laser_ps=1e6/laser_MHz\n",
    "nbins=int(round(laser_ps/kC4))"
   ]
  },
  {
   "cell_type": "markdown",
   "metadata": {},
   "source": [
    "# Data conversion to H5 format"
   ]
  },
  {
   "cell_type": "code",
   "execution_count": 7,
   "metadata": {
    "scrolled": true
   },
   "outputs": [
    {
     "name": "stdout",
     "output_type": "stream",
     "text": [
      "/mnt/DATA/DataFast/data-1625566656.774000-7x7-512x512x40u.ttp\n",
      "**************************\n",
      "* Size table:  105467406\n",
      "***************************\n",
      "Convert to DataFrame\n",
      "Converted\n",
      "\n",
      "Calculate rates \n",
      "Calculate cumulative step \n",
      "Add cumulativeStep\n",
      "Acquisition lasted:  38.445565279166665 s\n",
      "Scan_enable 1.0 ratio 9.481602306593186e-09 rate 0.026010802357532035\n",
      "line_enable 1318.0 ratio 1.249675184008982e-05 rate 34.28223750722722\n",
      "pixel_enable 524225.0 ratio 0.004970492969173813 rate 13635.51286587723\n",
      "Laser 56780406.0 ratio 0.5383692284988976 rate 1476903.9182464262\n",
      "Calculate totalphotons \n",
      "kC4<=== 45.0\n",
      "sysclk_ps<=== 4166.666666666667\n",
      "kC4<=== 44.80286738351255\n",
      "Start process\n",
      "Start analysisForImg\n"
     ]
    },
    {
     "name": "stderr",
     "output_type": "stream",
     "text": [
      "Current frame: 0 \t:   2%|▏         | 2109348/105467406 [00:00<00:12, 8426880.26it/s]    "
     ]
    },
    {
     "name": "stdout",
     "output_type": "stream",
     "text": [
      "Arrays copied into analysisForImg\n"
     ]
    },
    {
     "name": "stderr",
     "output_type": "stream",
     "text": [
      "Current frame: 1 \t: : 106522074it [00:22, 4685269.53it/s]                             "
     ]
    },
    {
     "name": "stdout",
     "output_type": "stream",
     "text": [
      "Total Frame: 1\n"
     ]
    },
    {
     "name": "stderr",
     "output_type": "stream",
     "text": [
      "Current frame: 1 \t: : 106522074it [00:22, 4681006.28it/s]\n",
      "  0%|          | 0/21 [00:00<?, ?it/s]"
     ]
    },
    {
     "name": "stdout",
     "output_type": "stream",
     "text": [
      "New HDF5 written\n",
      "cumulative_step        int64\n",
      "t_L                    uint8\n",
      "valid_tdc_L            uint8\n",
      "total_photon           int64\n",
      "total_photon_laser     uint8\n",
      "arr_px                uint16\n",
      "arr_px_corr           uint16\n",
      "arr_py                uint16\n",
      "arr_frame             uint16\n",
      "dtype: object\n",
      "Start conversion of 0 channel\n",
      "t_0 valid_tdc_0\n",
      "..\n"
     ]
    },
    {
     "name": "stderr",
     "output_type": "stream",
     "text": [
      "\n",
      "  0%|          | 0/58424426 [00:00<?, ?it/s]\u001b[A\n",
      " 11%|█         | 6426684/58424426 [00:00<00:00, 59834952.08it/s]\u001b[A\n",
      " 21%|██        | 12269124/58424426 [00:00<00:00, 57787446.48it/s]\u001b[A\n",
      " 27%|██▋       | 15774588/58424426 [00:00<00:00, 45612283.88it/s]\u001b[A\n",
      " 32%|███▏      | 18695808/58424426 [00:00<00:01, 38883231.40it/s]\u001b[A\n",
      " 39%|███▉      | 22785516/58424426 [00:00<00:00, 38423734.57it/s]\u001b[A\n",
      " 47%|████▋     | 27459468/58424426 [00:00<00:00, 38553240.62it/s]\u001b[A\n",
      " 55%|█████▍    | 32133420/58424426 [00:00<00:00, 39680924.39it/s]\u001b[A\n",
      " 64%|██████▍   | 37391616/58424426 [00:00<00:00, 40757569.75it/s]\u001b[A\n",
      " 71%|███████   | 41481324/58424426 [00:00<00:00, 40622404.10it/s]\u001b[A\n",
      " 80%|███████▉  | 46739520/58424426 [00:01<00:00, 42950625.87it/s]\u001b[A\n",
      " 89%|████████▉ | 51997716/58424426 [00:01<00:00, 45112156.62it/s]\u001b[A\n",
      " 98%|█████████▊| 57255912/58424426 [00:01<00:00, 46779696.89it/s]\u001b[A"
     ]
    },
    {
     "name": "stdout",
     "output_type": "stream",
     "text": [
      "Data ready, conversion to array\n",
      "Adding keys to HDF5...  \"ch_0\"\n"
     ]
    },
    {
     "name": "stderr",
     "output_type": "stream",
     "text": [
      "  5%|▍         | 1/21 [00:17<05:45, 17.28s/it]"
     ]
    },
    {
     "name": "stdout",
     "output_type": "stream",
     "text": [
      "t_0      int16\n",
      "t_L      int16\n",
      "dS_0    uint16\n",
      "dtype: object\n",
      "Start conversion of 1 channel\n",
      "t_1 valid_tdc_1\n",
      "..\n"
     ]
    },
    {
     "name": "stderr",
     "output_type": "stream",
     "text": [
      "\n",
      "59008644it [00:13, 46779696.89it/s]                              \u001b[A\n",
      "\n",
      "  0%|          | 0/58620485 [00:00<?, ?it/s]\u001b[A\u001b[A\n",
      "\n",
      " 11%|█         | 6448244/58620485 [00:00<00:00, 60750535.95it/s]\u001b[A\u001b[A\n",
      "\n",
      " 21%|██        | 12310284/58620485 [00:00<00:00, 58966844.40it/s]\u001b[A\u001b[A\n",
      "\n",
      " 27%|██▋       | 15827508/58620485 [00:00<00:00, 48389640.03it/s]\u001b[A\u001b[A\n",
      "\n",
      " 35%|███▍      | 20517140/58620485 [00:00<00:00, 46815102.80it/s]\u001b[A\u001b[A\n",
      "\n",
      " 42%|████▏     | 24620568/58620485 [00:00<00:00, 43757156.52it/s]\u001b[A\u001b[A\n",
      "\n",
      " 49%|████▉     | 28723996/58620485 [00:00<00:00, 40611410.35it/s]\u001b[A\u001b[A\n",
      "\n",
      " 57%|█████▋    | 33413628/58620485 [00:00<00:00, 41743040.18it/s]\u001b[A\u001b[A\n",
      "\n",
      " 64%|██████▍   | 37517056/58620485 [00:00<00:00, 39463540.93it/s]\u001b[A\u001b[A\n",
      "\n",
      " 72%|███████▏  | 42206688/58620485 [00:00<00:00, 40434054.56it/s]\u001b[A\u001b[A\n",
      "\n",
      " 81%|████████  | 47482524/58620485 [00:01<00:00, 43100113.80it/s]\u001b[A\u001b[A\n",
      "\n",
      " 89%|████████▉ | 52172156/58620485 [00:01<00:00, 42756607.30it/s]\u001b[A\u001b[A\n",
      "\n",
      " 97%|█████████▋| 56861788/58620485 [00:01<00:00, 40985949.16it/s]\u001b[A\u001b[A"
     ]
    },
    {
     "name": "stdout",
     "output_type": "stream",
     "text": [
      "Data ready, conversion to array\n",
      "Adding keys to HDF5...  \"ch_1\"\n"
     ]
    },
    {
     "name": "stderr",
     "output_type": "stream",
     "text": [
      " 10%|▉         | 2/21 [00:34<05:29, 17.32s/it]"
     ]
    },
    {
     "name": "stdout",
     "output_type": "stream",
     "text": [
      "t_1      int16\n",
      "t_L      int16\n",
      "dS_1    uint16\n",
      "dtype: object\n",
      "Start conversion of 2 channel\n",
      "t_2 valid_tdc_2\n",
      "..\n"
     ]
    },
    {
     "name": "stderr",
     "output_type": "stream",
     "text": [
      "\n",
      "\n",
      "59206604it [00:15, 40985949.16it/s]                              \u001b[A\u001b[A\n",
      "\n",
      "\n",
      "  0%|          | 0/58660115 [00:00<?, ?it/s]\u001b[A\u001b[A\u001b[A\n",
      "\n",
      "\n",
      "  9%|▉         | 5279409/58660115 [00:00<00:01, 52664810.65it/s]\u001b[A\u001b[A\u001b[A\n",
      "\n",
      "\n",
      " 15%|█▍        | 8799015/58660115 [00:00<00:01, 45014392.68it/s]\u001b[A\u001b[A\u001b[A\n",
      "\n",
      "\n",
      " 23%|██▎       | 13491823/58660115 [00:00<00:01, 44580574.91it/s]\u001b[A\u001b[A\u001b[A\n",
      "\n",
      "\n",
      " 31%|███       | 18184631/58660115 [00:00<00:00, 44179033.77it/s]\u001b[A\u001b[A\u001b[A\n",
      "\n",
      "\n",
      " 39%|███▉      | 22877439/58660115 [00:00<00:00, 44021057.91it/s]\u001b[A\u001b[A\u001b[A\n",
      "\n",
      "\n",
      " 47%|████▋     | 27570247/58660115 [00:00<00:00, 43998544.17it/s]\u001b[A\u001b[A\u001b[A\n",
      "\n",
      "\n",
      " 56%|█████▌    | 32849656/58660115 [00:00<00:00, 46054103.05it/s]\u001b[A\u001b[A\u001b[A\n",
      "\n",
      "\n",
      " 64%|██████▍   | 37542464/58660115 [00:00<00:00, 42855171.62it/s]\u001b[A\u001b[A\u001b[A\n",
      "\n",
      "\n",
      " 71%|███████   | 41648671/58660115 [00:00<00:00, 40735479.44it/s]\u001b[A\u001b[A\u001b[A\n",
      "\n",
      "\n",
      " 80%|███████▉  | 46928080/58660115 [00:01<00:00, 43503805.97it/s]\u001b[A\u001b[A\u001b[A\n",
      "\n",
      "\n",
      " 89%|████████▉ | 52207489/58660115 [00:01<00:00, 45336352.46it/s]\u001b[A\u001b[A\u001b[A\n",
      "\n",
      "\n",
      " 97%|█████████▋| 56900297/58660115 [00:01<00:00, 43034083.94it/s]\u001b[A\u001b[A\u001b[A"
     ]
    },
    {
     "name": "stdout",
     "output_type": "stream",
     "text": [
      "Data ready, conversion to array\n",
      "Adding keys to HDF5...  \"ch_2\"\n"
     ]
    },
    {
     "name": "stderr",
     "output_type": "stream",
     "text": [
      "59008644it [00:36, 1608446.35it/s] \n",
      "59206604it [00:19, 3066479.28it/s] \n",
      "59246701it [00:01, 32524799.80it/s]                              \n",
      " 14%|█▍        | 3/21 [00:52<05:12, 17.38s/it]"
     ]
    },
    {
     "name": "stdout",
     "output_type": "stream",
     "text": [
      "t_2      int16\n",
      "t_L      int16\n",
      "dS_2    uint16\n",
      "dtype: object\n",
      "Start conversion of 3 channel\n",
      "t_3 valid_tdc_3\n",
      "..\n"
     ]
    },
    {
     "name": "stderr",
     "output_type": "stream",
     "text": [
      "\n",
      "  0%|          | 0/58817008 [00:00<?, ?it/s]\u001b[A\n",
      " 10%|▉         | 5881700/58817008 [00:00<00:00, 58398245.04it/s]\u001b[A\n",
      " 19%|█▉        | 11175230/58817008 [00:00<00:00, 56362845.21it/s]\u001b[A\n",
      " 25%|██▍       | 14704250/58817008 [00:00<00:00, 47525165.34it/s]\u001b[A\n",
      " 34%|███▍      | 19997780/58817008 [00:00<00:00, 48178553.09it/s]\u001b[A\n",
      " 43%|████▎     | 25291310/58817008 [00:00<00:00, 48747009.05it/s]\u001b[A\n",
      " 52%|█████▏    | 30584840/58817008 [00:00<00:00, 49004305.29it/s]\u001b[A\n",
      " 60%|█████▉    | 35290200/58817008 [00:00<00:00, 45237008.63it/s]\u001b[A\n",
      " 69%|██████▉   | 40583730/58817008 [00:00<00:00, 46104547.88it/s]\u001b[A\n",
      " 78%|███████▊  | 45877260/58817008 [00:00<00:00, 46842663.36it/s]\u001b[A\n",
      " 87%|████████▋ | 51170790/58817008 [00:01<00:00, 47566145.45it/s]\u001b[A\n",
      " 95%|█████████▍| 55876150/58817008 [00:01<00:00, 43069779.94it/s]\u001b[A"
     ]
    },
    {
     "name": "stdout",
     "output_type": "stream",
     "text": [
      "Data ready, conversion to array\n",
      "Adding keys to HDF5...  \"ch_3\"\n"
     ]
    },
    {
     "name": "stderr",
     "output_type": "stream",
     "text": [
      " 19%|█▉        | 4/21 [01:09<04:54, 17.33s/it]"
     ]
    },
    {
     "name": "stdout",
     "output_type": "stream",
     "text": [
      "t_3      int16\n",
      "t_L      int16\n",
      "dS_3    uint16\n",
      "dtype: object\n",
      "Start conversion of 4 channel\n",
      "t_4 valid_tdc_4\n",
      "..\n"
     ]
    },
    {
     "name": "stderr",
     "output_type": "stream",
     "text": [
      "\n",
      "\n",
      "  0%|          | 0/59067141 [00:00<?, ?it/s]\u001b[A\u001b[A\n",
      "\n",
      " 10%|▉         | 5906710/59067141 [00:00<00:00, 56562095.91it/s]\u001b[A\u001b[A\n",
      "\n",
      " 18%|█▊        | 10632078/59067141 [00:00<00:00, 53404929.35it/s]\u001b[A\u001b[A\n",
      "\n",
      " 26%|██▌       | 15357446/59067141 [00:00<00:00, 50868775.88it/s]\u001b[A\u001b[A\n",
      "\n",
      " 32%|███▏      | 18901472/59067141 [00:00<00:00, 40707164.11it/s]\u001b[A\u001b[A\n",
      "\n",
      " 39%|███▉      | 23036169/59067141 [00:00<00:00, 40213798.39it/s]\u001b[A\u001b[A\n",
      "\n",
      " 47%|████▋     | 27761537/59067141 [00:00<00:00, 41903488.42it/s]\u001b[A\u001b[A\n",
      "\n",
      " 54%|█████▍    | 31896234/59067141 [00:00<00:00, 39603279.75it/s]\u001b[A\u001b[A\n",
      "\n",
      " 62%|██████▏   | 36621602/59067141 [00:00<00:00, 41551276.77it/s]\u001b[A\u001b[A\n",
      "\n",
      " 69%|██████▉   | 40756299/59067141 [00:00<00:00, 38544417.86it/s]\u001b[A\u001b[A\n",
      "\n",
      " 77%|███████▋  | 45481667/59067141 [00:01<00:00, 40644334.13it/s]\u001b[A\u001b[A\n",
      "\n",
      " 84%|████████▍ | 49616364/59067141 [00:01<00:00, 38054305.38it/s]\u001b[A\u001b[A\n",
      "\n",
      " 93%|█████████▎| 54932403/59067141 [00:01<00:00, 40937009.51it/s]\u001b[A\u001b[A\n",
      "\n",
      "59657771it [00:01, 40038467.15it/s]                              \u001b[A\u001b[A"
     ]
    },
    {
     "name": "stdout",
     "output_type": "stream",
     "text": [
      "Data ready, conversion to array\n",
      "Adding keys to HDF5...  \"ch_4\"\n"
     ]
    },
    {
     "name": "stderr",
     "output_type": "stream",
     "text": [
      " 24%|██▍       | 5/21 [01:27<04:38, 17.44s/it]"
     ]
    },
    {
     "name": "stdout",
     "output_type": "stream",
     "text": [
      "t_4      int16\n",
      "t_L      int16\n",
      "dS_4    uint16\n",
      "dtype: object\n",
      "Start conversion of 5 channel\n",
      "t_5 valid_tdc_5\n",
      "..\n"
     ]
    },
    {
     "name": "stderr",
     "output_type": "stream",
     "text": [
      "\n",
      "59405170it [00:21, 43069779.94it/s]                              \u001b[A\n",
      "\n",
      "59657771it [00:13, 40038467.15it/s]\u001b[A\u001b[A\n",
      "\n",
      "\n",
      "  0%|          | 0/59215640 [00:00<?, ?it/s]\u001b[A\u001b[A\u001b[A\n",
      "\n",
      "\n",
      " 10%|▉         | 5921560/59215640 [00:00<00:00, 56147573.06it/s]\u001b[A\u001b[A\u001b[A\n",
      "\n",
      "\n",
      " 18%|█▊        | 10658808/59215640 [00:00<00:00, 52918665.80it/s]\u001b[A\u001b[A\u001b[A\n",
      "\n",
      "\n",
      " 23%|██▎       | 13619588/59215640 [00:00<00:01, 42071645.50it/s]\u001b[A\u001b[A\u001b[A\n",
      "\n",
      "\n",
      " 31%|███       | 18356836/59215640 [00:00<00:00, 43341213.11it/s]\u001b[A\u001b[A\u001b[A\n",
      "\n",
      "\n",
      " 39%|███▉      | 23094084/59215640 [00:00<00:00, 44341668.88it/s]\u001b[A\u001b[A\u001b[A\n",
      "\n",
      "\n",
      " 47%|████▋     | 27831332/59215640 [00:00<00:00, 45034800.82it/s]\u001b[A\u001b[A\u001b[A\n",
      "\n",
      "\n",
      " 54%|█████▍    | 31976424/59215640 [00:00<00:00, 40817600.54it/s]\u001b[A\u001b[A\u001b[A\n",
      "\n",
      "\n",
      " 62%|██████▏   | 36713672/59215640 [00:00<00:00, 42425124.96it/s]\u001b[A\u001b[A\u001b[A\n",
      "\n",
      "\n",
      " 69%|██████▉   | 40858764/59215640 [00:00<00:00, 39238499.07it/s]\u001b[A\u001b[A\u001b[A\n",
      "\n",
      "\n",
      " 76%|███████▌  | 45003856/59215640 [00:01<00:00, 36838253.44it/s]\u001b[A\u001b[A\u001b[A\n",
      "\n",
      "\n",
      " 84%|████████▍ | 49741104/59215640 [00:01<00:00, 39279372.94it/s]\u001b[A\u001b[A\u001b[A\n",
      "\n",
      "\n",
      " 91%|█████████ | 53886196/59215640 [00:01<00:00, 39756552.11it/s]\u001b[A\u001b[A\u001b[A\n",
      "\n",
      "\n",
      " 98%|█████████▊| 58031288/59215640 [00:01<00:00, 37080388.22it/s]\u001b[A\u001b[A\u001b[A"
     ]
    },
    {
     "name": "stdout",
     "output_type": "stream",
     "text": [
      "Data ready, conversion to array\n",
      "Adding keys to HDF5...  \"ch_5\"\n"
     ]
    },
    {
     "name": "stderr",
     "output_type": "stream",
     "text": [
      " 29%|██▊       | 6/21 [01:44<04:22, 17.49s/it]"
     ]
    },
    {
     "name": "stdout",
     "output_type": "stream",
     "text": [
      "t_5      int16\n",
      "t_L      int16\n",
      "dS_5    uint16\n",
      "dtype: object\n",
      "Start conversion of 6 channel\n",
      "t_6 valid_tdc_6\n",
      "..\n"
     ]
    },
    {
     "name": "stderr",
     "output_type": "stream",
     "text": [
      "\n",
      "\n",
      "\n",
      "59807756it [00:16, 37080388.22it/s]                              \u001b[A\u001b[A\u001b[A\n",
      "\n",
      "\n",
      "\n",
      "  0%|          | 0/58937827 [00:00<?, ?it/s]\u001b[A\u001b[A\u001b[A\u001b[A\n",
      "\n",
      "\n",
      "\n",
      " 10%|▉         | 5893780/58937827 [00:00<00:00, 55691414.41it/s]\u001b[A\u001b[A\u001b[A\u001b[A\n",
      "\n",
      "\n",
      "\n",
      " 19%|█▉        | 11198182/58937827 [00:00<00:00, 53921446.30it/s]\u001b[A\u001b[A\u001b[A\u001b[A\n",
      "\n",
      "\n",
      "\n",
      " 26%|██▌       | 15323828/58937827 [00:00<00:00, 48386278.13it/s]\u001b[A\u001b[A\u001b[A\u001b[A\n",
      "\n",
      "\n",
      "\n",
      " 35%|███▍      | 20628230/58937827 [00:00<00:00, 48718939.97it/s]\u001b[A\u001b[A\u001b[A\u001b[A\n",
      "\n",
      "\n",
      "\n",
      " 44%|████▍     | 25932632/58937827 [00:00<00:00, 49132888.39it/s]\u001b[A\u001b[A\u001b[A\u001b[A\n",
      "\n",
      "\n",
      "\n",
      " 53%|█████▎    | 31237034/58937827 [00:00<00:00, 49685919.34it/s]\u001b[A\u001b[A\u001b[A\u001b[A\n",
      "\n",
      "\n",
      "\n",
      " 62%|██████▏   | 36541436/58937827 [00:00<00:00, 49998191.87it/s]\u001b[A\u001b[A\u001b[A\u001b[A\n",
      "\n",
      "\n",
      "\n",
      " 71%|███████   | 41845838/58937827 [00:00<00:00, 49815141.60it/s]\u001b[A\u001b[A\u001b[A\u001b[A\n",
      "\n",
      "\n",
      "\n",
      " 80%|███████▉  | 47150240/58937827 [00:00<00:00, 49774007.94it/s]\u001b[A\u001b[A\u001b[A\u001b[A\n",
      "\n",
      "\n",
      "\n",
      " 89%|████████▉ | 52454642/58937827 [00:01<00:00, 45801445.36it/s]\u001b[A\u001b[A\u001b[A\u001b[A\n",
      "\n",
      "\n",
      "\n",
      " 97%|█████████▋| 57169666/58937827 [00:01<00:00, 41948567.90it/s]\u001b[A\u001b[A\u001b[A\u001b[A"
     ]
    },
    {
     "name": "stdout",
     "output_type": "stream",
     "text": [
      "Data ready, conversion to array\n",
      "Adding keys to HDF5...  \"ch_6\"\n"
     ]
    },
    {
     "name": "stderr",
     "output_type": "stream",
     "text": [
      "59405170it [00:54, 1092278.45it/s] \n",
      "59657771it [00:37, 1605060.48it/s] \n",
      "59807756it [00:19, 3061954.07it/s] \n",
      "59527178it [00:01, 32390248.54it/s]                              \n",
      " 33%|███▎      | 7/21 [02:02<04:04, 17.47s/it]"
     ]
    },
    {
     "name": "stdout",
     "output_type": "stream",
     "text": [
      "t_6      int16\n",
      "t_L      int16\n",
      "dS_6    uint16\n",
      "dtype: object\n",
      "Start conversion of 7 channel\n",
      "t_7 valid_tdc_7\n",
      "..\n"
     ]
    },
    {
     "name": "stderr",
     "output_type": "stream",
     "text": [
      "\n",
      "  0%|          | 0/58470792 [00:00<?, ?it/s]\u001b[A\n",
      " 11%|█         | 6431777/58470792 [00:00<00:00, 59316587.29it/s]\u001b[A\n",
      " 19%|█▉        | 11109433/58470792 [00:00<00:00, 54814895.30it/s]\u001b[A\n",
      " 28%|██▊       | 16371796/58470792 [00:00<00:00, 53145178.37it/s]\u001b[A\n",
      " 38%|███▊      | 22218866/58470792 [00:00<00:00, 54092277.36it/s]\u001b[A\n",
      " 48%|████▊     | 28065936/58470792 [00:00<00:00, 54579490.53it/s]\u001b[A\n",
      " 56%|█████▌    | 32743592/58470792 [00:00<00:00, 50958404.29it/s]\u001b[A\n",
      " 64%|██████▍   | 37421248/58470792 [00:00<00:00, 48580399.94it/s]\u001b[A\n",
      " 72%|███████▏  | 42098904/58470792 [00:00<00:00, 45565525.65it/s]\u001b[A\n",
      " 82%|████████▏ | 47945974/58470792 [00:00<00:00, 47791925.23it/s]\u001b[A\n",
      " 91%|█████████ | 53208337/58470792 [00:01<00:00, 48284519.25it/s]\u001b[A\n",
      "100%|█████████▉| 58470700/58470792 [00:01<00:00, 45259929.16it/s]\u001b[A"
     ]
    },
    {
     "name": "stdout",
     "output_type": "stream",
     "text": [
      "Data ready, conversion to array\n",
      "Adding keys to HDF5...  \"ch_7\"\n"
     ]
    },
    {
     "name": "stderr",
     "output_type": "stream",
     "text": [
      " 38%|███▊      | 8/21 [02:19<03:45, 17.36s/it]"
     ]
    },
    {
     "name": "stdout",
     "output_type": "stream",
     "text": [
      "t_7      int16\n",
      "t_L      int16\n",
      "dS_7    uint16\n",
      "dtype: object\n",
      "Start conversion of 8 channel\n",
      "t_8 valid_tdc_8\n",
      "..\n"
     ]
    },
    {
     "name": "stderr",
     "output_type": "stream",
     "text": [
      "\n",
      "\n",
      "  0%|          | 0/59138682 [00:00<?, ?it/s]\u001b[A\u001b[A\n",
      "\n",
      "  7%|▋         | 4139702/59138682 [00:00<00:01, 41181446.73it/s]\u001b[A\u001b[A\n",
      "\n",
      " 11%|█         | 6505246/59138682 [00:00<00:01, 33559823.04it/s]\u001b[A\u001b[A\n",
      "\n",
      " 20%|█▉        | 11827720/59138682 [00:00<00:01, 36830823.24it/s]\u001b[A\u001b[A\n",
      "\n",
      " 29%|██▉       | 17150194/59138682 [00:00<00:01, 39537944.99it/s]\u001b[A\u001b[A\n",
      "\n",
      " 37%|███▋      | 21881282/59138682 [00:00<00:00, 41562899.75it/s]\u001b[A\u001b[A\n",
      "\n",
      " 45%|████▍     | 26612370/59138682 [00:00<00:00, 42935247.33it/s]\u001b[A\u001b[A\n",
      "\n",
      " 52%|█████▏    | 30752072/59138682 [00:00<00:00, 39236633.80it/s]\u001b[A\u001b[A\n",
      "\n",
      " 60%|█████▉    | 35483160/59138682 [00:00<00:00, 40926620.47it/s]\u001b[A\u001b[A\n",
      "\n",
      " 69%|██████▉   | 40805634/59138682 [00:00<00:00, 42698974.15it/s]\u001b[A\u001b[A\n",
      "\n",
      " 77%|███████▋  | 45536722/59138682 [00:01<00:00, 43802874.62it/s]\u001b[A\u001b[A\n",
      "\n",
      " 85%|████████▍ | 50267810/59138682 [00:01<00:00, 40805057.35it/s]\u001b[A\u001b[A\n",
      "\n",
      " 93%|█████████▎| 54998898/59138682 [00:01<00:00, 42313886.30it/s]\u001b[A\u001b[A"
     ]
    },
    {
     "name": "stdout",
     "output_type": "stream",
     "text": [
      "Data ready, conversion to array\n",
      "Adding keys to HDF5...  \"ch_8\"\n"
     ]
    },
    {
     "name": "stderr",
     "output_type": "stream",
     "text": [
      " 43%|████▎     | 9/21 [02:37<03:29, 17.49s/it]"
     ]
    },
    {
     "name": "stdout",
     "output_type": "stream",
     "text": [
      "t_8      int16\n",
      "t_L      int16\n",
      "dS_8    uint16\n",
      "dtype: object\n",
      "Start conversion of 9 channel\n",
      "t_9 valid_tdc_9\n",
      "..\n"
     ]
    },
    {
     "name": "stderr",
     "output_type": "stream",
     "text": [
      "\n",
      "59055407it [00:21, 45259929.16it/s]                              \u001b[A\n",
      "\n",
      "59729986it [00:13, 42313886.30it/s]                              \u001b[A\u001b[A\n",
      "\n",
      "\n",
      "  0%|          | 0/59673796 [00:00<?, ?it/s]\u001b[A\u001b[A\u001b[A\n",
      "\n",
      "\n",
      "  9%|▉         | 5370633/59673796 [00:00<00:01, 52548370.14it/s]\u001b[A\u001b[A\u001b[A\n",
      "\n",
      "\n",
      " 16%|█▌        | 9547792/59673796 [00:00<00:01, 48224085.17it/s]\u001b[A\u001b[A\u001b[A\n",
      "\n",
      "\n",
      " 23%|██▎       | 13724951/59673796 [00:00<00:01, 45791836.79it/s]\u001b[A\u001b[A\u001b[A\n",
      "\n",
      "\n",
      " 30%|██▉       | 17902110/59673796 [00:00<00:00, 44458453.99it/s]\u001b[A\u001b[A\u001b[A\n",
      "\n",
      "\n",
      " 37%|███▋      | 22079269/59673796 [00:00<00:00, 43613511.50it/s]\u001b[A\u001b[A\u001b[A\n",
      "\n",
      "\n",
      " 43%|████▎     | 25659691/59673796 [00:00<00:00, 37503785.22it/s]\u001b[A\u001b[A\u001b[A\n",
      "\n",
      "\n",
      " 50%|████▉     | 29836850/59673796 [00:00<00:00, 38526401.29it/s]\u001b[A\u001b[A\u001b[A\n",
      "\n",
      "\n",
      " 57%|█████▋    | 34014009/59673796 [00:00<00:00, 39436624.60it/s]\u001b[A\u001b[A\u001b[A\n",
      "\n",
      "\n",
      " 65%|██████▍   | 38787905/59673796 [00:00<00:00, 40216300.86it/s]\u001b[A\u001b[A\u001b[A\n",
      "\n",
      "\n",
      " 73%|███████▎  | 43561801/59673796 [00:01<00:00, 40797775.18it/s]\u001b[A\u001b[A\u001b[A\n",
      "\n",
      "\n",
      " 80%|███████▉  | 47738960/59673796 [00:01<00:00, 38352667.31it/s]\u001b[A\u001b[A\u001b[A\n",
      "\n",
      "\n",
      " 88%|████████▊ | 52512856/59673796 [00:01<00:00, 40217435.80it/s]\u001b[A\u001b[A\u001b[A\n",
      "\n",
      "\n",
      " 95%|█████████▍| 56690015/59673796 [00:01<00:00, 37795089.82it/s]\u001b[A\u001b[A\u001b[A"
     ]
    },
    {
     "name": "stdout",
     "output_type": "stream",
     "text": [
      "Data ready, conversion to array\n",
      "Adding keys to HDF5...  \"ch_9\"\n"
     ]
    },
    {
     "name": "stderr",
     "output_type": "stream",
     "text": [
      " 48%|████▊     | 10/21 [02:55<03:15, 17.78s/it]"
     ]
    },
    {
     "name": "stdout",
     "output_type": "stream",
     "text": [
      "t_9      int16\n",
      "t_L      int16\n",
      "dS_9    uint16\n",
      "dtype: object\n",
      "Start conversion of 10 channel\n",
      "t_10 valid_tdc_10\n",
      "..\n"
     ]
    },
    {
     "name": "stderr",
     "output_type": "stream",
     "text": [
      "\n",
      "\n",
      "\n",
      "60270437it [00:16, 37795089.82it/s]                              \u001b[A\u001b[A\u001b[A\n",
      "\n",
      "\n",
      "\n",
      "  0%|          | 0/60102156 [00:00<?, ?it/s]\u001b[A\u001b[A\u001b[A\u001b[A\n",
      "\n",
      "\n",
      "\n",
      "  9%|▉         | 5409189/60102156 [00:00<00:01, 50980803.50it/s]\u001b[A\u001b[A\u001b[A\u001b[A\n",
      "\n",
      "\n",
      "\n",
      " 14%|█▍        | 8414294/60102156 [00:00<00:01, 39843176.86it/s]\u001b[A\u001b[A\u001b[A\u001b[A\n",
      "\n",
      "\n",
      "\n",
      " 21%|██        | 12621441/60102156 [00:00<00:01, 39618841.05it/s]\u001b[A\u001b[A\u001b[A\u001b[A\n",
      "\n",
      "\n",
      "\n",
      " 28%|██▊       | 16828588/60102156 [00:00<00:01, 39726368.21it/s]\u001b[A\u001b[A\u001b[A\u001b[A\n",
      "\n",
      "\n",
      "\n",
      " 34%|███▍      | 20434714/60102156 [00:00<00:01, 37349080.34it/s]\u001b[A\u001b[A\u001b[A\u001b[A\n",
      "\n",
      "\n",
      "\n",
      " 40%|███▉      | 24040840/60102156 [00:00<00:00, 36352621.63it/s]\u001b[A\u001b[A\u001b[A\u001b[A\n",
      "\n",
      "\n",
      "\n",
      " 46%|████▌     | 27646966/60102156 [00:00<00:00, 33942400.74it/s]\u001b[A\u001b[A\u001b[A\u001b[A\n",
      "\n",
      "\n",
      "\n",
      " 53%|█████▎    | 31854113/60102156 [00:00<00:00, 35807933.69it/s]\u001b[A\u001b[A\u001b[A\u001b[A\n",
      "\n",
      "\n",
      "\n",
      " 59%|█████▉    | 35460239/60102156 [00:00<00:00, 35266896.88it/s]\u001b[A\u001b[A\u001b[A\u001b[A\n",
      "\n",
      "\n",
      "\n",
      " 66%|██████▌   | 39667386/60102156 [00:01<00:00, 36985759.38it/s]\u001b[A\u001b[A\u001b[A\u001b[A\n",
      "\n",
      "\n",
      "\n",
      " 73%|███████▎  | 43874533/60102156 [00:01<00:00, 37800260.47it/s]\u001b[A\u001b[A\u001b[A\u001b[A\n",
      "\n",
      "\n",
      "\n",
      " 80%|███████▉  | 48081680/60102156 [00:01<00:00, 36849552.07it/s]\u001b[A\u001b[A\u001b[A\u001b[A\n",
      "\n",
      "\n",
      "\n",
      " 87%|████████▋ | 52288827/60102156 [00:01<00:00, 36899010.04it/s]\u001b[A\u001b[A\u001b[A\u001b[A\n",
      "\n",
      "\n",
      "\n",
      " 94%|█████████▍| 56495974/60102156 [00:01<00:00, 37570113.47it/s]\u001b[A\u001b[A\u001b[A\u001b[A"
     ]
    },
    {
     "name": "stdout",
     "output_type": "stream",
     "text": [
      "Data ready, conversion to array\n",
      "Adding keys to HDF5...  \"ch_10\"\n"
     ]
    },
    {
     "name": "stderr",
     "output_type": "stream",
     "text": [
      "59055407it [00:56, 1047836.85it/s] \n",
      "59729986it [00:39, 1528324.85it/s] \n",
      "60270437it [00:21, 2829212.30it/s] \n",
      "60703121it [00:02, 26103697.10it/s]                              \n",
      " 52%|█████▏    | 11/21 [03:14<03:01, 18.18s/it]"
     ]
    },
    {
     "name": "stdout",
     "output_type": "stream",
     "text": [
      "t_10      int16\n",
      "t_L       int16\n",
      "dS_10    uint16\n",
      "dtype: object\n",
      "Start conversion of 11 channel\n",
      "t_11 valid_tdc_11\n",
      "..\n"
     ]
    },
    {
     "name": "stderr",
     "output_type": "stream",
     "text": [
      "\n",
      "  0%|          | 0/59389878 [00:00<?, ?it/s]\u001b[A\n",
      "  7%|▋         | 4157286/59389878 [00:00<00:01, 38675488.41it/s]\u001b[A\n",
      " 15%|█▍        | 8908470/59389878 [00:00<00:01, 40584829.16it/s]\u001b[A\n",
      " 23%|██▎       | 13659654/59389878 [00:00<00:01, 41954979.62it/s]\u001b[A\n",
      " 31%|███       | 18410838/59389878 [00:00<00:00, 42832449.82it/s]\u001b[A\n",
      " 39%|███▉      | 23162022/59389878 [00:00<00:00, 43796859.19it/s]\u001b[A\n",
      " 47%|████▋     | 27913206/59389878 [00:00<00:00, 44652906.89it/s]\u001b[A\n",
      " 54%|█████▍    | 32070492/59389878 [00:00<00:00, 40808720.90it/s]\u001b[A\n",
      " 62%|██████▏   | 36821676/59389878 [00:00<00:00, 42534039.46it/s]\u001b[A\n",
      " 70%|██████▉   | 41572860/59389878 [00:00<00:00, 43881565.19it/s]\u001b[A\n",
      " 78%|███████▊  | 46324044/59389878 [00:01<00:00, 44760848.24it/s]\u001b[A\n",
      " 86%|████████▌ | 51075228/59389878 [00:01<00:00, 45308246.25it/s]\u001b[A\n",
      " 94%|█████████▍| 55826412/59389878 [00:01<00:00, 45765516.24it/s]\u001b[A"
     ]
    },
    {
     "name": "stdout",
     "output_type": "stream",
     "text": [
      "Data ready, conversion to array\n",
      "Adding keys to HDF5...  \"ch_11\"\n"
     ]
    },
    {
     "name": "stderr",
     "output_type": "stream",
     "text": [
      " 57%|█████▋    | 12/21 [03:32<02:42, 18.04s/it]"
     ]
    },
    {
     "name": "stdout",
     "output_type": "stream",
     "text": [
      "t_11      int16\n",
      "t_L       int16\n",
      "dS_11    uint16\n",
      "dtype: object\n",
      "Start conversion of 12 channel\n",
      "t_12 valid_tdc_12\n",
      "..\n"
     ]
    },
    {
     "name": "stderr",
     "output_type": "stream",
     "text": [
      "\n",
      "\n",
      "  0%|          | 0/58616478 [00:00<?, ?it/s]\u001b[A\u001b[A\n",
      "\n",
      " 10%|▉         | 5861640/58616478 [00:00<00:00, 56589160.00it/s]\u001b[A\u001b[A\n",
      "\n",
      " 20%|█▉        | 11723280/58616478 [00:00<00:00, 56117569.68it/s]\u001b[A\u001b[A\n",
      "\n",
      " 30%|██▉       | 17584920/58616478 [00:00<00:00, 55637640.78it/s]\u001b[A\u001b[A\n",
      "\n",
      " 40%|███▉      | 23446560/58616478 [00:00<00:00, 55183573.96it/s]\u001b[A\u001b[A\n",
      "\n",
      " 48%|████▊     | 28135872/58616478 [00:00<00:00, 50335955.52it/s]\u001b[A\u001b[A\n",
      "\n",
      " 56%|█████▌    | 32825184/58616478 [00:00<00:00, 46733432.11it/s]\u001b[A\u001b[A\n",
      "\n",
      " 64%|██████▍   | 37514496/58616478 [00:00<00:00, 42927560.62it/s]\u001b[A\u001b[A\n",
      "\n",
      " 73%|███████▎  | 42789972/58616478 [00:00<00:00, 45139878.19it/s]\u001b[A\u001b[A\n",
      "\n",
      " 82%|████████▏ | 48065448/58616478 [00:00<00:00, 46710241.03it/s]\u001b[A\u001b[A\n",
      "\n",
      " 91%|█████████ | 53340924/58616478 [00:01<00:00, 46797629.37it/s]\u001b[A\u001b[A\n",
      "59983698it [00:18, 45765516.24it/s]                              \u001b[A\n",
      "\n",
      " 99%|█████████▉| 58030236/58616478 [00:01<00:00, 42507293.92it/s]\u001b[A\u001b[A"
     ]
    },
    {
     "name": "stdout",
     "output_type": "stream",
     "text": [
      "Data ready, conversion to array\n",
      "Adding keys to HDF5...  \"ch_12\"\n"
     ]
    },
    {
     "name": "stderr",
     "output_type": "stream",
     "text": [
      " 62%|██████▏   | 13/21 [03:49<02:21, 17.73s/it]"
     ]
    },
    {
     "name": "stdout",
     "output_type": "stream",
     "text": [
      "t_12      int16\n",
      "t_L       int16\n",
      "dS_12    uint16\n",
      "dtype: object\n",
      "Start conversion of 13 channel\n",
      "t_13 valid_tdc_13\n",
      "..\n"
     ]
    },
    {
     "name": "stderr",
     "output_type": "stream",
     "text": [
      "\n",
      "\n",
      "59202564it [00:11, 42507293.92it/s]                              \u001b[A\u001b[A\n",
      "\n",
      "\n",
      "  0%|          | 0/59090334 [00:00<?, ?it/s]\u001b[A\u001b[A\u001b[A\n",
      "\n",
      "\n",
      " 10%|▉         | 5909030/59090334 [00:00<00:00, 56621542.10it/s]\u001b[A\u001b[A\u001b[A\n",
      "\n",
      "\n",
      " 19%|█▉        | 11227157/59090334 [00:00<00:00, 54277436.88it/s]\u001b[A\u001b[A\u001b[A\n",
      "\n",
      "\n",
      " 28%|██▊       | 16545284/59090334 [00:00<00:00, 52342365.56it/s]\u001b[A\u001b[A\u001b[A\n",
      "\n",
      "\n",
      " 34%|███▍      | 20090702/59090334 [00:00<00:00, 44943115.47it/s]\u001b[A\u001b[A\u001b[A\n",
      "\n",
      "\n",
      " 41%|████      | 24227023/59090334 [00:00<00:00, 43072574.24it/s]\u001b[A\u001b[A\u001b[A\n",
      "\n",
      "\n",
      " 49%|████▉     | 28954247/59090334 [00:00<00:00, 44076307.08it/s]\u001b[A\u001b[A\u001b[A\n",
      "\n",
      "\n",
      " 56%|█████▌    | 33090568/59090334 [00:00<00:00, 39740123.95it/s]\u001b[A\u001b[A\u001b[A\n",
      "\n",
      "\n",
      " 64%|██████▍   | 37817792/59090334 [00:00<00:00, 41706778.44it/s]\u001b[A\u001b[A\u001b[A\n",
      "\n",
      "\n",
      " 71%|███████   | 41954113/59090334 [00:00<00:00, 38531088.40it/s]\u001b[A\u001b[A\u001b[A\n",
      "\n",
      "\n",
      " 80%|███████▉  | 47272240/59090334 [00:01<00:00, 40847254.51it/s]\u001b[A\u001b[A\u001b[A\n",
      "\n",
      "\n",
      " 89%|████████▉ | 52590367/59090334 [00:01<00:00, 42816635.45it/s]\u001b[A\u001b[A\u001b[A\n",
      "\n",
      "\n",
      " 98%|█████████▊| 57908494/59090334 [00:01<00:00, 44232870.50it/s]\u001b[A\u001b[A\u001b[A"
     ]
    },
    {
     "name": "stdout",
     "output_type": "stream",
     "text": [
      "Data ready, conversion to array\n",
      "Adding keys to HDF5...  \"ch_13\"\n"
     ]
    },
    {
     "name": "stderr",
     "output_type": "stream",
     "text": [
      " 67%|██████▋   | 14/21 [04:06<02:03, 17.61s/it]"
     ]
    },
    {
     "name": "stdout",
     "output_type": "stream",
     "text": [
      "t_13      int16\n",
      "t_L       int16\n",
      "dS_13    uint16\n",
      "dtype: object\n",
      "Start conversion of 14 channel\n",
      "t_14 valid_tdc_14\n",
      "..\n"
     ]
    },
    {
     "name": "stderr",
     "output_type": "stream",
     "text": [
      "\n",
      "\n",
      "\n",
      "59681203it [00:14, 44232870.50it/s]                              \u001b[A\u001b[A\u001b[A\n",
      "\n",
      "\n",
      "\n",
      "  0%|          | 0/60305573 [00:00<?, ?it/s]\u001b[A\u001b[A\u001b[A\u001b[A\n",
      "\n",
      "\n",
      "\n",
      "  8%|▊         | 4824440/60305573 [00:00<00:01, 40735360.23it/s]\u001b[A\u001b[A\u001b[A\u001b[A\n",
      "\n",
      "\n",
      "\n",
      " 14%|█▍        | 8442770/60305573 [00:00<00:01, 38999455.90it/s]\u001b[A\u001b[A\u001b[A\u001b[A\n",
      "\n",
      "\n",
      "\n",
      " 19%|█▉        | 11458045/60305573 [00:00<00:01, 32840850.16it/s]\u001b[A\u001b[A\u001b[A\u001b[A\n",
      "\n",
      "\n",
      "\n",
      " 24%|██▍       | 14473320/60305573 [00:00<00:01, 30657931.04it/s]\u001b[A\u001b[A\u001b[A\u001b[A\n",
      "\n",
      "\n",
      "\n",
      " 31%|███       | 18694705/60305573 [00:00<00:01, 32440770.67it/s]\u001b[A\u001b[A\u001b[A\u001b[A\n",
      "\n",
      "\n",
      "\n",
      " 36%|███▌      | 21709980/60305573 [00:00<00:01, 30173581.86it/s]\u001b[A\u001b[A\u001b[A\u001b[A\n",
      "\n",
      "\n",
      "\n",
      " 43%|████▎     | 25931365/60305573 [00:00<00:01, 32836200.24it/s]\u001b[A\u001b[A\u001b[A\u001b[A\n",
      "\n",
      "\n",
      "\n",
      " 50%|████▉     | 30152750/60305573 [00:00<00:00, 34882123.62it/s]\u001b[A\u001b[A\u001b[A\u001b[A\n",
      "\n",
      "\n",
      "\n",
      " 57%|█████▋    | 34374135/60305573 [00:00<00:00, 36576203.89it/s]\u001b[A\u001b[A\u001b[A\u001b[A\n",
      "\n",
      "\n",
      "\n",
      " 63%|██████▎   | 37992465/60305573 [00:01<00:00, 32367610.04it/s]\u001b[A\u001b[A\u001b[A\u001b[A\n",
      "\n",
      "\n",
      "\n",
      " 69%|██████▉   | 41610795/60305573 [00:01<00:00, 30644662.15it/s]\u001b[A\u001b[A\u001b[A\u001b[A\n",
      "\n",
      "\n",
      "\n",
      " 75%|███████▍  | 45229125/60305573 [00:01<00:00, 30742099.18it/s]\u001b[A\u001b[A\u001b[A\u001b[A\n",
      "\n",
      "\n",
      "\n",
      " 81%|████████  | 48847455/60305573 [00:01<00:00, 31567910.27it/s]\u001b[A\u001b[A\u001b[A\u001b[A\n",
      "\n",
      "\n",
      "\n",
      " 89%|████████▉ | 53671895/60305573 [00:01<00:00, 34249575.38it/s]\u001b[A\u001b[A\u001b[A\u001b[A\n",
      "\n",
      "\n",
      "\n",
      " 95%|█████████▍| 57290225/60305573 [00:01<00:00, 33007746.35it/s]\u001b[A\u001b[A\u001b[A\u001b[A\n",
      "\n",
      "\n",
      "\n",
      "60908555it [00:01, 32239547.15it/s]                              \u001b[A\u001b[A\u001b[A\u001b[A"
     ]
    },
    {
     "name": "stdout",
     "output_type": "stream",
     "text": [
      "Data ready, conversion to array\n",
      "Adding keys to HDF5...  \"ch_14\"\n"
     ]
    },
    {
     "name": "stderr",
     "output_type": "stream",
     "text": [
      "59983698it [00:54, 1095629.44it/s] \n",
      "59202564it [00:37, 1589349.50it/s] \n",
      "59681203it [00:20, 2941412.13it/s] \n",
      "60908555it [00:02, 23069744.27it/s]\n",
      " 71%|███████▏  | 15/21 [04:25<01:48, 18.01s/it]"
     ]
    },
    {
     "name": "stdout",
     "output_type": "stream",
     "text": [
      "t_14      int16\n",
      "t_L       int16\n",
      "dS_14    uint16\n",
      "dtype: object\n",
      "Start conversion of 15 channel\n",
      "t_15 valid_tdc_15\n",
      "..\n"
     ]
    },
    {
     "name": "stderr",
     "output_type": "stream",
     "text": [
      "\n",
      "  0%|          | 0/60052910 [00:00<?, ?it/s]\u001b[A\n",
      "  6%|▌         | 3603174/60052910 [00:00<00:01, 35384372.71it/s]\u001b[A\n",
      " 13%|█▎        | 7806877/60052910 [00:00<00:01, 36645187.25it/s]\u001b[A\n",
      " 18%|█▊        | 10809522/60052910 [00:00<00:01, 33928608.34it/s]\u001b[A\n",
      " 24%|██▍       | 14412696/60052910 [00:00<00:01, 33803858.54it/s]\u001b[A\n",
      " 29%|██▉       | 17415341/60052910 [00:00<00:01, 30132312.32it/s]\u001b[A\n",
      " 35%|███▍      | 21018515/60052910 [00:00<00:01, 30564541.84it/s]\u001b[A\n",
      " 42%|████▏     | 25222218/60052910 [00:00<00:01, 33196473.25it/s]\u001b[A\n",
      " 49%|████▉     | 29425921/60052910 [00:00<00:00, 35286966.73it/s]\u001b[A\n",
      " 55%|█████▍    | 33029095/60052910 [00:00<00:00, 33138568.43it/s]\u001b[A\n",
      " 62%|██████▏   | 37232798/60052910 [00:01<00:00, 35191010.21it/s]\u001b[A\n",
      " 69%|██████▉   | 41436501/60052910 [00:01<00:00, 36619420.91it/s]\u001b[A\n",
      " 77%|███████▋  | 46240733/60052910 [00:01<00:00, 37506937.99it/s]\u001b[A\n",
      " 84%|████████▍ | 50444436/60052910 [00:01<00:00, 35361785.88it/s]\u001b[A\n",
      " 91%|█████████ | 54648139/60052910 [00:01<00:00, 36717127.33it/s]\u001b[A\n",
      " 99%|█████████▉| 59452371/60052910 [00:01<00:00, 39019998.95it/s]\u001b[A"
     ]
    },
    {
     "name": "stdout",
     "output_type": "stream",
     "text": [
      "Data ready, conversion to array\n",
      "Adding keys to HDF5...  \"ch_15\"\n"
     ]
    },
    {
     "name": "stderr",
     "output_type": "stream",
     "text": [
      " 76%|███████▌  | 16/21 [04:44<01:30, 18.15s/it]"
     ]
    },
    {
     "name": "stdout",
     "output_type": "stream",
     "text": [
      "t_15      int16\n",
      "t_L       int16\n",
      "dS_15    uint16\n",
      "dtype: object\n",
      "Start conversion of 16 channel\n",
      "t_16 valid_tdc_16\n",
      "..\n"
     ]
    },
    {
     "name": "stderr",
     "output_type": "stream",
     "text": [
      "\n",
      "60653429it [00:17, 39019998.95it/s]                              \u001b[A\n",
      "\n",
      "  0%|          | 0/59222316 [00:00<?, ?it/s]\u001b[A\u001b[A\n",
      "\n",
      " 10%|▉         | 5922230/59222316 [00:00<00:01, 52830499.60it/s]\u001b[A\u001b[A\n",
      "\n",
      " 18%|█▊        | 10660014/59222316 [00:00<00:01, 46852860.14it/s]\u001b[A\u001b[A\n",
      "\n",
      " 26%|██▌       | 15397798/59222316 [00:00<00:00, 45669333.81it/s]\u001b[A\u001b[A\n",
      "\n",
      " 34%|███▍      | 20135582/59222316 [00:00<00:00, 45891940.69it/s]\u001b[A\u001b[A\n",
      "\n",
      " 40%|███▉      | 23688920/59222316 [00:00<00:00, 41115216.49it/s]\u001b[A\u001b[A\n",
      "\n",
      " 47%|████▋     | 27834481/59222316 [00:00<00:00, 40276665.74it/s]\u001b[A\u001b[A\n",
      "\n",
      " 55%|█████▍    | 32572265/59222316 [00:00<00:00, 41909895.56it/s]\u001b[A\u001b[A\n",
      "\n",
      " 63%|██████▎   | 37310049/59222316 [00:00<00:00, 43097953.96it/s]\u001b[A\u001b[A\n",
      "\n",
      " 71%|███████   | 42047833/59222316 [00:00<00:00, 43827084.36it/s]\u001b[A\u001b[A\n",
      "\n",
      " 79%|███████▉  | 46785617/59222316 [00:01<00:00, 40882902.07it/s]\u001b[A\u001b[A\n",
      "\n",
      " 87%|████████▋ | 51523401/59222316 [00:01<00:00, 42265667.99it/s]\u001b[A\u001b[A\n",
      "\n",
      " 95%|█████████▍| 56261185/59222316 [00:01<00:00, 39547964.85it/s]\u001b[A\u001b[A"
     ]
    },
    {
     "name": "stdout",
     "output_type": "stream",
     "text": [
      "Data ready, conversion to array\n",
      "Adding keys to HDF5...  \"ch_16\"\n"
     ]
    },
    {
     "name": "stderr",
     "output_type": "stream",
     "text": [
      " 81%|████████  | 17/21 [05:01<01:12, 18.07s/it]"
     ]
    },
    {
     "name": "stdout",
     "output_type": "stream",
     "text": [
      "t_16      int16\n",
      "t_L       int16\n",
      "dS_16    uint16\n",
      "dtype: object\n",
      "Start conversion of 17 channel\n",
      "t_17 valid_tdc_17\n",
      "..\n"
     ]
    },
    {
     "name": "stderr",
     "output_type": "stream",
     "text": [
      "\n",
      "\n",
      "\n",
      "  0%|          | 0/58621907 [00:00<?, ?it/s]\u001b[A\u001b[A\u001b[A\n",
      "\n",
      "\n",
      " 10%|▉         | 5862190/58621907 [00:00<00:00, 57942963.78it/s]\u001b[A\u001b[A\u001b[A\n",
      "\n",
      "\n",
      " 17%|█▋        | 9965723/58621907 [00:00<00:00, 50322352.51it/s]\u001b[A\u001b[A\u001b[A\n",
      "\n",
      "\n",
      " 27%|██▋       | 15827913/58621907 [00:00<00:00, 51541616.37it/s]\u001b[A\u001b[A\u001b[A\n",
      "\n",
      "\n",
      " 37%|███▋      | 21690103/58621907 [00:00<00:00, 52317137.17it/s]\u001b[A\u001b[A\u001b[A\n",
      "\n",
      "\n",
      " 47%|████▋     | 27552293/58621907 [00:00<00:00, 52883178.65it/s]\u001b[A\u001b[A\u001b[A\n",
      "\n",
      "\n",
      " 57%|█████▋    | 33414483/58621907 [00:00<00:00, 53171598.21it/s]\u001b[A\u001b[A\u001b[A\n",
      "\n",
      "\n",
      " 65%|██████▍   | 38104235/58621907 [00:00<00:00, 47510642.69it/s]\u001b[A\u001b[A\u001b[A\n",
      "\n",
      "\n",
      " 73%|███████▎  | 42793987/58621907 [00:00<00:00, 44910429.07it/s]\u001b[A\u001b[A\u001b[A\n",
      "\n",
      "\n",
      " 83%|████████▎ | 48656177/58621907 [00:00<00:00, 47002561.19it/s]\u001b[A\u001b[A\u001b[A\n",
      "\n",
      "\n",
      " 91%|█████████ | 53345929/58621907 [00:01<00:00, 42870486.37it/s]\u001b[A\u001b[A\u001b[A\n",
      "\n",
      "\n",
      "100%|█████████▉| 58621900/58621907 [00:01<00:00, 44094447.73it/s]\u001b[A\u001b[A\u001b[A\n",
      "\n",
      "59814523it [00:19, 39547964.85it/s]                              \u001b[A\u001b[A"
     ]
    },
    {
     "name": "stdout",
     "output_type": "stream",
     "text": [
      "Data ready, conversion to array\n",
      "Adding keys to HDF5...  \"ch_17\"\n"
     ]
    },
    {
     "name": "stderr",
     "output_type": "stream",
     "text": [
      " 86%|████████▌ | 18/21 [05:19<00:53, 17.83s/it]"
     ]
    },
    {
     "name": "stdout",
     "output_type": "stream",
     "text": [
      "t_17      int16\n",
      "t_L       int16\n",
      "dS_17    uint16\n",
      "dtype: object\n",
      "Start conversion of 18 channel\n",
      "t_18 valid_tdc_18\n",
      "..\n"
     ]
    },
    {
     "name": "stderr",
     "output_type": "stream",
     "text": [
      "\n",
      "\n",
      "\n",
      "59208119it [00:11, 44094447.73it/s]                              \u001b[A\u001b[A\u001b[A\n",
      "\n",
      "\n",
      "\n",
      "  0%|          | 0/59045697 [00:00<?, ?it/s]\u001b[A\u001b[A\u001b[A\u001b[A\n",
      "\n",
      "\n",
      "\n",
      " 10%|▉         | 5904560/59045697 [00:00<00:01, 46703074.67it/s]\u001b[A\u001b[A\u001b[A\u001b[A\n",
      "\n",
      "\n",
      "\n",
      " 17%|█▋        | 10037752/59045697 [00:00<00:01, 44622369.52it/s]\u001b[A\u001b[A\u001b[A\u001b[A\n",
      "\n",
      "\n",
      "\n",
      " 23%|██▎       | 13580488/59045697 [00:00<00:01, 40439203.19it/s]\u001b[A\u001b[A\u001b[A\u001b[A\n",
      "\n",
      "\n",
      "\n",
      " 29%|██▉       | 17123224/59045697 [00:00<00:01, 38792283.94it/s]\u001b[A\u001b[A\u001b[A\u001b[A\n",
      "\n",
      "\n",
      "\n",
      " 36%|███▌      | 21256416/59045697 [00:00<00:00, 38993332.07it/s]\u001b[A\u001b[A\u001b[A\u001b[A\n",
      "\n",
      "\n",
      "\n",
      " 43%|████▎     | 25389608/59045697 [00:00<00:00, 39253796.71it/s]\u001b[A\u001b[A\u001b[A\u001b[A\n",
      "\n",
      "\n",
      "\n",
      " 52%|█████▏    | 30703712/59045697 [00:00<00:00, 41731668.35it/s]\u001b[A\u001b[A\u001b[A\u001b[A\n",
      "\n",
      "\n",
      "\n",
      " 59%|█████▉    | 34836904/59045697 [00:00<00:00, 38092823.50it/s]\u001b[A\u001b[A\u001b[A\u001b[A\n",
      "\n",
      "\n",
      "\n",
      " 66%|██████▌   | 38970096/59045697 [00:01<00:00, 35988624.08it/s]\u001b[A\u001b[A\u001b[A\u001b[A\n",
      "\n",
      "\n",
      "\n",
      " 72%|███████▏  | 42512832/59045697 [00:01<00:00, 34588739.30it/s]\u001b[A\u001b[A\u001b[A\u001b[A\n",
      "\n",
      "\n",
      "\n",
      " 80%|███████▉  | 47236480/59045697 [00:01<00:00, 37548489.08it/s]\u001b[A\u001b[A\u001b[A\u001b[A\n",
      "\n",
      "\n",
      "\n",
      " 88%|████████▊ | 51960128/59045697 [00:01<00:00, 39701489.48it/s]\u001b[A\u001b[A\u001b[A\u001b[A\n",
      "\n",
      "\n",
      "\n",
      " 96%|█████████▌| 56683776/59045697 [00:01<00:00, 41310773.78it/s]\u001b[A\u001b[A\u001b[A\u001b[A"
     ]
    },
    {
     "name": "stdout",
     "output_type": "stream",
     "text": [
      "Data ready, conversion to array\n",
      "Adding keys to HDF5...  \"ch_18\"\n"
     ]
    },
    {
     "name": "stderr",
     "output_type": "stream",
     "text": [
      "60653429it [00:55, 1090916.19it/s] \n",
      "59814523it [00:37, 1612043.42it/s] \n",
      "59208119it [00:19, 3072532.09it/s] \n",
      "59636056it [00:02, 29075238.61it/s]                              \n",
      " 90%|█████████ | 19/21 [05:36<00:35, 17.79s/it]"
     ]
    },
    {
     "name": "stdout",
     "output_type": "stream",
     "text": [
      "t_18      int16\n",
      "t_L       int16\n",
      "dS_18    uint16\n",
      "dtype: object\n",
      "Start conversion of 19 channel\n",
      "t_19 valid_tdc_19\n",
      "..\n"
     ]
    },
    {
     "name": "stderr",
     "output_type": "stream",
     "text": [
      "\n",
      "  0%|          | 0/59137281 [00:00<?, ?it/s]\u001b[A\n",
      "  7%|▋         | 4139604/59137281 [00:00<00:01, 38158145.70it/s]\u001b[A\n",
      " 14%|█▍        | 8279208/59137281 [00:00<00:01, 38905245.85it/s]\u001b[A\n",
      " 23%|██▎       | 13601556/59137281 [00:00<00:01, 41610817.87it/s]\u001b[A\n",
      " 28%|██▊       | 16558416/59137281 [00:00<00:01, 36244964.20it/s]\u001b[A\n",
      " 34%|███▍      | 20106648/59137281 [00:00<00:01, 34884829.37it/s]\u001b[A\n",
      " 40%|███▉      | 23654880/59137281 [00:00<00:01, 34673944.75it/s]\u001b[A\n",
      " 48%|████▊     | 28385856/59137281 [00:00<00:00, 37690313.15it/s]\u001b[A\n",
      " 56%|█████▌    | 33116832/59137281 [00:00<00:00, 40133959.44it/s]\u001b[A\n",
      " 63%|██████▎   | 37256436/59137281 [00:00<00:00, 37675305.44it/s]\u001b[A\n",
      " 72%|███████▏  | 42578784/59137281 [00:01<00:00, 40230619.90it/s]\u001b[A\n",
      " 79%|███████▉  | 46718388/59137281 [00:01<00:00, 38323927.85it/s]\u001b[A\n",
      " 87%|████████▋ | 51449364/59137281 [00:01<00:00, 40296657.95it/s]\u001b[A\n",
      " 94%|█████████▍| 55588968/59137281 [00:01<00:00, 39359598.40it/s]\u001b[A\n",
      "59728572it [00:01, 38737544.85it/s]                              \u001b[A"
     ]
    },
    {
     "name": "stdout",
     "output_type": "stream",
     "text": [
      "Data ready, conversion to array\n",
      "Adding keys to HDF5...  \"ch_19\"\n"
     ]
    },
    {
     "name": "stderr",
     "output_type": "stream",
     "text": [
      " 95%|█████████▌| 20/21 [05:54<00:17, 17.75s/it]"
     ]
    },
    {
     "name": "stdout",
     "output_type": "stream",
     "text": [
      "t_19      int16\n",
      "t_L       int16\n",
      "dS_19    uint16\n",
      "dtype: object\n",
      "Start conversion of 20 channel\n",
      "t_20 valid_tdc_20\n",
      "..\n"
     ]
    },
    {
     "name": "stderr",
     "output_type": "stream",
     "text": [
      "\n",
      "59728572it [00:16, 38737544.85it/s]\u001b[A\n",
      "\n",
      "  0%|          | 0/58771311 [00:00<?, ?it/s]\u001b[A\u001b[A\n",
      "\n",
      " 10%|▉         | 5877130/58771311 [00:00<00:00, 57120906.01it/s]\u001b[A\u001b[A\n",
      "\n",
      " 19%|█▉        | 11166547/58771311 [00:00<00:00, 55612435.86it/s]\u001b[A\u001b[A\n",
      "\n",
      " 25%|██▍       | 14692825/58771311 [00:00<00:01, 43515528.98it/s]\u001b[A\u001b[A\n",
      "\n",
      " 33%|███▎      | 19394529/58771311 [00:00<00:00, 44168738.16it/s]\u001b[A\u001b[A\n",
      "\n",
      " 42%|████▏     | 24683946/58771311 [00:00<00:00, 46256633.19it/s]\u001b[A\u001b[A\n",
      "\n",
      " 51%|█████     | 29973363/58771311 [00:00<00:00, 47873663.83it/s]\u001b[A\u001b[A\n",
      "\n",
      " 59%|█████▉    | 34675067/58771311 [00:00<00:00, 43653734.66it/s]\u001b[A\u001b[A\n",
      "\n",
      " 68%|██████▊   | 39964484/58771311 [00:00<00:00, 45717091.60it/s]\u001b[A\u001b[A\n",
      "\n",
      " 77%|███████▋  | 45253901/58771311 [00:00<00:00, 47399904.64it/s]\u001b[A\u001b[A\n",
      "\n",
      " 86%|████████▌ | 50543318/58771311 [00:01<00:00, 48112195.74it/s]\u001b[A\u001b[A\n",
      "\n",
      " 95%|█████████▍| 55832735/58771311 [00:01<00:00, 47867774.26it/s]\u001b[A\u001b[A"
     ]
    },
    {
     "name": "stdout",
     "output_type": "stream",
     "text": [
      "Data ready, conversion to array\n",
      "Adding keys to HDF5...  \"ch_20\"\n"
     ]
    },
    {
     "name": "stderr",
     "output_type": "stream",
     "text": [
      "100%|██████████| 21/21 [06:11<00:00, 17.71s/it]"
     ]
    },
    {
     "name": "stdout",
     "output_type": "stream",
     "text": [
      "t_20      int16\n",
      "t_L       int16\n",
      "dS_20    uint16\n",
      "dtype: object\n",
      "Data saved:  /mnt/DATA/DataFast/output/data-1625566656.774000-7x7-512x512x40u.ttp-raw.h5\n"
     ]
    },
    {
     "name": "stderr",
     "output_type": "stream",
     "text": [
      "\n"
     ]
    }
   ],
   "source": [
    "myReturn=ttp.convertDataRAW( filenameToRead=filename,\n",
    "                    sysclk_MHz = sysclk_MHz,\n",
    "                    laser_MHz=laser_MHz,\n",
    "                    dwell_time_us=100.,\n",
    "                    list_of_channels=np.arange(0,nchannel),\n",
    "                    autoCalibration=True,\n",
    "                    kC4=45.,\n",
    "                    textInPlot=None,\n",
    "                    compressionLevel=1,\n",
    "                    makePlots=True,\n",
    "                    ignorePixelLineFrame = False)"
   ]
  },
  {
   "cell_type": "markdown",
   "metadata": {},
   "source": [
    "# Timing calibration of data"
   ]
  },
  {
   "cell_type": "code",
   "execution_count": 8,
   "metadata": {},
   "outputs": [
    {
     "name": "stderr",
     "output_type": "stream",
     "text": [
      "\n",
      "\n",
      "59728572it [00:38, 1550757.76it/s] /s]                           \u001b[A\u001b[A\n",
      "59359013it [00:20, 2854395.56it/s] \n",
      "100%|██████████| 21/21 [06:18<00:00, 18.00s/it]\n"
     ]
    }
   ],
   "source": [
    "calibDict=ttp.calculateCalibFromH5(filenameH5=myReturn['filenameH5'],    #the HDF5 file input\n",
    "                                   listChannel=range(0,nchannel) #list of channel [0,nchannel]\n",
    "                                   )"
   ]
  },
  {
   "cell_type": "code",
   "execution_count": 9,
   "metadata": {},
   "outputs": [
    {
     "data": {
      "application/vnd.jupyter.widget-view+json": {
       "model_id": "61b503e96b9543918529429a27147b58",
       "version_major": 2,
       "version_minor": 0
      },
      "text/plain": [
       "HBox(children=(HTML(value=''), FloatProgress(value=0.0, max=21.0), HTML(value='')))"
      ]
     },
     "metadata": {},
     "output_type": "display_data"
    },
    {
     "name": "stdout",
     "output_type": "stream",
     "text": [
      "\n"
     ]
    }
   ],
   "source": [
    "table_channels={}\n",
    "for i in tqdm(range(nchannel)):\n",
    "    table_channels[i] = ttp.applyCalibDict(myReturn['filenameH5'],\n",
    "                        channel=i, \n",
    "                        calibDict=calibDict)"
   ]
  },
  {
   "cell_type": "markdown",
   "metadata": {},
   "source": [
    "# Creating 4D data matrix x-y-t-ch"
   ]
  },
  {
   "cell_type": "code",
   "execution_count": 10,
   "metadata": {},
   "outputs": [
    {
     "name": "stderr",
     "output_type": "stream",
     "text": [
      "100%|██████████| 21/21 [00:42<00:00,  2.03s/it]\n"
     ]
    }
   ],
   "source": [
    "image_4d=ttp.image_4d_fast(npixel,nbins,nchannel,table_channels, laser_ps)"
   ]
  },
  {
   "cell_type": "code",
   "execution_count": 11,
   "metadata": {},
   "outputs": [
    {
     "data": {
      "text/plain": [
       "Text(0, 0.5, 'Pixels')"
      ]
     },
     "execution_count": 11,
     "metadata": {},
     "output_type": "execute_result"
    },
    {
     "data": {
      "image/png": "[encoded data removed]",
      "text/plain": [
       "<Figure size 864x864 with 2 Axes>"
      ]
     },
     "metadata": {
      "needs_background": "light"
     },
     "output_type": "display_data"
    }
   ],
   "source": [
    "channel=10\n",
    "ch=channel-1\n",
    "# 3D dataset\n",
    "data_3d_channel_10=image_4d[:,:,:,ch]\n",
    "# x-y image\n",
    "image_channel_10=data_3d_channel_10.sum(axis=2)\n",
    "\n",
    "fig= plt.figure(figsize=(12,12))\n",
    "plt.imshow(image_channel_10, cmap='hot')\n",
    "\n",
    "cbar = plt.colorbar()\n",
    "cbar.set_label('\\n Photon Counts/'+str(dwell_time)+'us')\n",
    "title('Image from Channel '+str(ch+1)+' \\n')\n",
    "xlabel('Pixels')\n",
    "ylabel('Pixels')"
   ]
  },
  {
   "cell_type": "code",
   "execution_count": null,
   "metadata": {},
   "outputs": [],
   "source": []
  },
  {
   "cell_type": "code",
   "execution_count": 12,
   "metadata": {},
   "outputs": [
    {
     "data": {
      "text/plain": [
       "(513, 1024)"
      ]
     },
     "execution_count": 12,
     "metadata": {},
     "output_type": "execute_result"
    }
   ],
   "source": [
    "table_channels[0][\"arr_py\"].max(),table_channels[0][\"arr_px\"].max()"
   ]
  },
  {
   "cell_type": "code",
   "execution_count": null,
   "metadata": {},
   "outputs": [],
   "source": []
  },
  {
   "cell_type": "code",
   "execution_count": 15,
   "metadata": {},
   "outputs": [
    {
     "data": {
      "text/plain": [
       "[<matplotlib.lines.Line2D at 0x7f4619bb6760>]"
      ]
     },
     "execution_count": 15,
     "metadata": {},
     "output_type": "execute_result"
    },
    {
     "data": {
      "image/png": "[encoded data removed]",
      "text/plain": [
       "<Figure size 936x720 with 1 Axes>"
      ]
     },
     "metadata": {
      "needs_background": "light"
     },
     "output_type": "display_data"
    }
   ],
   "source": [
    "plot(table_channels[0][\"arr_py\"])\n",
    "plot(table_channels[0][\"arr_px_corr\"])"
   ]
  },
  {
   "cell_type": "code",
   "execution_count": null,
   "metadata": {},
   "outputs": [],
   "source": []
  },
  {
   "cell_type": "code",
   "execution_count": null,
   "metadata": {},
   "outputs": [],
   "source": []
  }
 ],
 "metadata": {
  "kernelspec": {
   "display_name": "Python 3",
   "language": "python",
   "name": "python3"
  },
  "language_info": {
   "codemirror_mode": {
    "name": "ipython",
    "version": 3
   },
   "file_extension": ".py",
   "mimetype": "text/x-python",
   "name": "python",
   "nbconvert_exporter": "python",
   "pygments_lexer": "ipython3",
   "version": "3.8.10"
  },
  "widgets": {
   "application/vnd.jupyter.widget-state+json": {
    "state": {},
    "version_major": 2,
    "version_minor": 0
   }
  }
 },
 "nbformat": 4,
 "nbformat_minor": 4
}
